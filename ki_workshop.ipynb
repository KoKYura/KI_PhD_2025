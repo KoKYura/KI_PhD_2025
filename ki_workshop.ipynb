{
  "cells": [
    {
      "cell_type": "markdown",
      "metadata": {
        "id": "kwPTRvcevMvu"
      },
      "source": [
        "## Importing libraries"
      ]
    },
    {
      "cell_type": "code",
      "source": [
        "install.packages(\"lme4\")"
      ],
      "metadata": {
        "id": "oBj-cT1kDhdb",
        "outputId": "58712543-d66e-400d-8ef7-5f46d0b64866",
        "colab": {
          "base_uri": "https://localhost:8080/"
        }
      },
      "execution_count": 1,
      "outputs": [
        {
          "output_type": "stream",
          "name": "stderr",
          "text": [
            "Installing package into ‘/usr/local/lib/R/site-library’\n",
            "(as ‘lib’ is unspecified)\n",
            "\n",
            "also installing the dependencies ‘rbibutils’, ‘Rdpack’, ‘minqa’, ‘nloptr’, ‘reformulas’, ‘RcppEigen’\n",
            "\n",
            "\n"
          ]
        }
      ]
    },
    {
      "cell_type": "code",
      "execution_count": 2,
      "metadata": {
        "colab": {
          "base_uri": "https://localhost:8080/"
        },
        "id": "naukg5l7vMvu",
        "outputId": "d60ec058-dce5-40ae-cfcb-efdf410fd774",
        "vscode": {
          "languageId": "r"
        }
      },
      "outputs": [
        {
          "output_type": "stream",
          "name": "stderr",
          "text": [
            "── \u001b[1mAttaching core tidyverse packages\u001b[22m ──────────────────────── tidyverse 2.0.0 ──\n",
            "\u001b[32m✔\u001b[39m \u001b[34mdplyr    \u001b[39m 1.1.4     \u001b[32m✔\u001b[39m \u001b[34mreadr    \u001b[39m 2.1.5\n",
            "\u001b[32m✔\u001b[39m \u001b[34mforcats  \u001b[39m 1.0.0     \u001b[32m✔\u001b[39m \u001b[34mstringr  \u001b[39m 1.5.1\n",
            "\u001b[32m✔\u001b[39m \u001b[34mggplot2  \u001b[39m 3.5.1     \u001b[32m✔\u001b[39m \u001b[34mtibble   \u001b[39m 3.2.1\n",
            "\u001b[32m✔\u001b[39m \u001b[34mlubridate\u001b[39m 1.9.4     \u001b[32m✔\u001b[39m \u001b[34mtidyr    \u001b[39m 1.3.1\n",
            "\u001b[32m✔\u001b[39m \u001b[34mpurrr    \u001b[39m 1.0.4     \n",
            "── \u001b[1mConflicts\u001b[22m ────────────────────────────────────────── tidyverse_conflicts() ──\n",
            "\u001b[31m✖\u001b[39m \u001b[34mdplyr\u001b[39m::\u001b[32mfilter()\u001b[39m masks \u001b[34mstats\u001b[39m::filter()\n",
            "\u001b[31m✖\u001b[39m \u001b[34mdplyr\u001b[39m::\u001b[32mlag()\u001b[39m    masks \u001b[34mstats\u001b[39m::lag()\n",
            "\u001b[36mℹ\u001b[39m Use the conflicted package (\u001b[3m\u001b[34m<http://conflicted.r-lib.org/>\u001b[39m\u001b[23m) to force all conflicts to become errors\n",
            "\n",
            "Attaching package: ‘MASS’\n",
            "\n",
            "\n",
            "The following object is masked from ‘package:dplyr’:\n",
            "\n",
            "    select\n",
            "\n",
            "\n",
            "Loading required package: Matrix\n",
            "\n",
            "\n",
            "Attaching package: ‘Matrix’\n",
            "\n",
            "\n",
            "The following objects are masked from ‘package:tidyr’:\n",
            "\n",
            "    expand, pack, unpack\n",
            "\n",
            "\n"
          ]
        }
      ],
      "source": [
        "library(tidyverse)\n",
        "library(MASS)\n",
        "library(lme4)"
      ]
    },
    {
      "cell_type": "code",
      "execution_count": 3,
      "metadata": {
        "id": "z5cAvrX_DYlF"
      },
      "outputs": [],
      "source": [
        "# To make plots\n",
        "theme <- theme(\n",
        "            plot.title = element_text(size=20,face=\"bold\"),\n",
        "            legend.position = \"top\",\n",
        "            legend.title = element_blank(),\n",
        "            axis.text = element_text(size=15),\n",
        "            axis.title = element_text(size=18,face=\"bold\"),\n",
        "            axis.line = element_line(colour = \"black\"),\n",
        "            plot.margin = unit(c(1, 2, 1, 1), \"lines\"),\n",
        "            panel.background = element_blank())"
      ]
    },
    {
      "cell_type": "markdown",
      "metadata": {
        "id": "scAy6lB6vMvu"
      },
      "source": [
        "## Participant list\n",
        "\n",
        "\n",
        "First, you got a cohort participant list from local staff.\n",
        "\n",
        "\n",
        "*   Cohort children are supposed to be aged 6 month to 14 years old.\n",
        "\n",
        "*   Variables are the following:\n",
        "\n",
        "    1.   **cluster_id**: ID for each cluster\n",
        "    2.   **cohort_id**: Unique identifier for each participant\n",
        "    3. **name_f**: First name of the participant\n",
        "    4. **name_l**: Last name of the participant\n",
        "    5. **birth**: Birthday of the participant\n",
        "    6. **name_labtec**: Name of lab tech respondible for the cluster\n",
        "\n"
      ]
    },
    {
      "cell_type": "code",
      "execution_count": 5,
      "metadata": {
        "id": "bs3bRUPhvMvz"
      },
      "outputs": [],
      "source": [
        "df_cohort <- read.csv(\"./list_cohort.csv\")"
      ]
    },
    {
      "cell_type": "code",
      "execution_count": 7,
      "metadata": {
        "colab": {
          "base_uri": "https://localhost:8080/",
          "height": 412
        },
        "id": "CQ160iuzUlZI",
        "outputId": "7cbc2fc1-170d-423e-a552-155c7acb40f3"
      },
      "outputs": [
        {
          "output_type": "display_data",
          "data": {
            "text/html": [
              "<table class=\"dataframe\">\n",
              "<caption>A data.frame: 10 × 6</caption>\n",
              "<thead>\n",
              "\t<tr><th></th><th scope=col>cluster_id</th><th scope=col>cohort_id</th><th scope=col>name_f</th><th scope=col>name_l</th><th scope=col>birth</th><th scope=col>name_labtec</th></tr>\n",
              "\t<tr><th></th><th scope=col>&lt;chr&gt;</th><th scope=col>&lt;chr&gt;</th><th scope=col>&lt;chr&gt;</th><th scope=col>&lt;chr&gt;</th><th scope=col>&lt;chr&gt;</th><th scope=col>&lt;chr&gt;</th></tr>\n",
              "</thead>\n",
              "<tbody>\n",
              "\t<tr><th scope=row>1</th><td>cl01</td><td>cl01_01</td><td> Sakeena   </td><td>al-Hoque</td><td>2012-03-26</td><td> Nicole</td></tr>\n",
              "\t<tr><th scope=row>2</th><td>cl01</td><td>cl01_02</td><td> Mitchell  </td><td>Gonzales</td><td>2017-01-02</td><td> Nicole</td></tr>\n",
              "\t<tr><th scope=row>3</th><td>cl01</td><td>cl01_03</td><td> Anthony   </td><td>Simmons </td><td>2024-08-15</td><td> Nicole</td></tr>\n",
              "\t<tr><th scope=row>4</th><td>cl01</td><td>cl01_04</td><td> Alyssa    </td><td>Rivera  </td><td>2016-10-03</td><td> Nicole</td></tr>\n",
              "\t<tr><th scope=row>5</th><td>cl01</td><td>cl01_05</td><td> Timothy   </td><td>Vlajic  </td><td>2015-09-10</td><td> Nicole</td></tr>\n",
              "\t<tr><th scope=row>6</th><td>cl01</td><td>cl01_06</td><td> Mana      </td><td>White   </td><td>2018-08-09</td><td> Nicole</td></tr>\n",
              "\t<tr><th scope=row>7</th><td>cl01</td><td>cl01_07</td><td> Chykeiljah</td><td>Rea     </td><td>2022-05-22</td><td> Nicole</td></tr>\n",
              "\t<tr><th scope=row>8</th><td>cl01</td><td>cl01_08</td><td> Laneesha  </td><td>Rusk    </td><td>2011-07-23</td><td> Nicole</td></tr>\n",
              "\t<tr><th scope=row>9</th><td>cl01</td><td>cl01_09</td><td> Mujaahida </td><td>el-Malak</td><td>2021-01-02</td><td> Nicole</td></tr>\n",
              "\t<tr><th scope=row>10</th><td>cl01</td><td>cl01_10</td><td> Jasmine   </td><td>Figueroa</td><td>2013-02-21</td><td> Nicole</td></tr>\n",
              "</tbody>\n",
              "</table>\n"
            ],
            "text/markdown": "\nA data.frame: 10 × 6\n\n| <!--/--> | cluster_id &lt;chr&gt; | cohort_id &lt;chr&gt; | name_f &lt;chr&gt; | name_l &lt;chr&gt; | birth &lt;chr&gt; | name_labtec &lt;chr&gt; |\n|---|---|---|---|---|---|---|\n| 1 | cl01 | cl01_01 |  Sakeena    | al-Hoque | 2012-03-26 |  Nicole |\n| 2 | cl01 | cl01_02 |  Mitchell   | Gonzales | 2017-01-02 |  Nicole |\n| 3 | cl01 | cl01_03 |  Anthony    | Simmons  | 2024-08-15 |  Nicole |\n| 4 | cl01 | cl01_04 |  Alyssa     | Rivera   | 2016-10-03 |  Nicole |\n| 5 | cl01 | cl01_05 |  Timothy    | Vlajic   | 2015-09-10 |  Nicole |\n| 6 | cl01 | cl01_06 |  Mana       | White    | 2018-08-09 |  Nicole |\n| 7 | cl01 | cl01_07 |  Chykeiljah | Rea      | 2022-05-22 |  Nicole |\n| 8 | cl01 | cl01_08 |  Laneesha   | Rusk     | 2011-07-23 |  Nicole |\n| 9 | cl01 | cl01_09 |  Mujaahida  | el-Malak | 2021-01-02 |  Nicole |\n| 10 | cl01 | cl01_10 |  Jasmine    | Figueroa | 2013-02-21 |  Nicole |\n\n",
            "text/latex": "A data.frame: 10 × 6\n\\begin{tabular}{r|llllll}\n  & cluster\\_id & cohort\\_id & name\\_f & name\\_l & birth & name\\_labtec\\\\\n  & <chr> & <chr> & <chr> & <chr> & <chr> & <chr>\\\\\n\\hline\n\t1 & cl01 & cl01\\_01 &  Sakeena    & al-Hoque & 2012-03-26 &  Nicole\\\\\n\t2 & cl01 & cl01\\_02 &  Mitchell   & Gonzales & 2017-01-02 &  Nicole\\\\\n\t3 & cl01 & cl01\\_03 &  Anthony    & Simmons  & 2024-08-15 &  Nicole\\\\\n\t4 & cl01 & cl01\\_04 &  Alyssa     & Rivera   & 2016-10-03 &  Nicole\\\\\n\t5 & cl01 & cl01\\_05 &  Timothy    & Vlajic   & 2015-09-10 &  Nicole\\\\\n\t6 & cl01 & cl01\\_06 &  Mana       & White    & 2018-08-09 &  Nicole\\\\\n\t7 & cl01 & cl01\\_07 &  Chykeiljah & Rea      & 2022-05-22 &  Nicole\\\\\n\t8 & cl01 & cl01\\_08 &  Laneesha   & Rusk     & 2011-07-23 &  Nicole\\\\\n\t9 & cl01 & cl01\\_09 &  Mujaahida  & el-Malak & 2021-01-02 &  Nicole\\\\\n\t10 & cl01 & cl01\\_10 &  Jasmine    & Figueroa & 2013-02-21 &  Nicole\\\\\n\\end{tabular}\n",
            "text/plain": [
              "   cluster_id cohort_id name_f      name_l   birth      name_labtec\n",
              "1  cl01       cl01_01    Sakeena    al-Hoque 2012-03-26  Nicole    \n",
              "2  cl01       cl01_02    Mitchell   Gonzales 2017-01-02  Nicole    \n",
              "3  cl01       cl01_03    Anthony    Simmons  2024-08-15  Nicole    \n",
              "4  cl01       cl01_04    Alyssa     Rivera   2016-10-03  Nicole    \n",
              "5  cl01       cl01_05    Timothy    Vlajic   2015-09-10  Nicole    \n",
              "6  cl01       cl01_06    Mana       White    2018-08-09  Nicole    \n",
              "7  cl01       cl01_07    Chykeiljah Rea      2022-05-22  Nicole    \n",
              "8  cl01       cl01_08    Laneesha   Rusk     2011-07-23  Nicole    \n",
              "9  cl01       cl01_09    Mujaahida  el-Malak 2021-01-02  Nicole    \n",
              "10 cl01       cl01_10    Jasmine    Figueroa 2013-02-21  Nicole    "
            ]
          },
          "metadata": {}
        }
      ],
      "source": [
        "head(df_cohort,10)"
      ]
    },
    {
      "cell_type": "code",
      "execution_count": 8,
      "metadata": {
        "colab": {
          "base_uri": "https://localhost:8080/",
          "height": 34
        },
        "id": "dr7ZK1gMVBiA",
        "outputId": "71f62c5e-30d1-4512-9ef4-8f8df3096f91"
      },
      "outputs": [
        {
          "output_type": "display_data",
          "data": {
            "text/html": [
              "<style>\n",
              ".list-inline {list-style: none; margin:0; padding: 0}\n",
              ".list-inline>li {display: inline-block}\n",
              ".list-inline>li:not(:last-child)::after {content: \"\\00b7\"; padding: 0 .5ex}\n",
              "</style>\n",
              "<ol class=list-inline><li>'cl01'</li><li>'cl02'</li><li>'cl03'</li><li>'cl04'</li><li>'cl05'</li><li>'cl06'</li><li>'cl07'</li><li>'cl08'</li><li>'cl09'</li><li>'cl10'</li><li>'cl11'</li><li>'cl12'</li><li>'cl13'</li><li>'cl14'</li><li>'cl15'</li><li>'cl16'</li><li>'cl17'</li><li>'cl18'</li><li>'cl19'</li><li>'cl20'</li></ol>\n"
            ],
            "text/markdown": "1. 'cl01'\n2. 'cl02'\n3. 'cl03'\n4. 'cl04'\n5. 'cl05'\n6. 'cl06'\n7. 'cl07'\n8. 'cl08'\n9. 'cl09'\n10. 'cl10'\n11. 'cl11'\n12. 'cl12'\n13. 'cl13'\n14. 'cl14'\n15. 'cl15'\n16. 'cl16'\n17. 'cl17'\n18. 'cl18'\n19. 'cl19'\n20. 'cl20'\n\n\n",
            "text/latex": "\\begin{enumerate*}\n\\item 'cl01'\n\\item 'cl02'\n\\item 'cl03'\n\\item 'cl04'\n\\item 'cl05'\n\\item 'cl06'\n\\item 'cl07'\n\\item 'cl08'\n\\item 'cl09'\n\\item 'cl10'\n\\item 'cl11'\n\\item 'cl12'\n\\item 'cl13'\n\\item 'cl14'\n\\item 'cl15'\n\\item 'cl16'\n\\item 'cl17'\n\\item 'cl18'\n\\item 'cl19'\n\\item 'cl20'\n\\end{enumerate*}\n",
            "text/plain": [
              " [1] \"cl01\" \"cl02\" \"cl03\" \"cl04\" \"cl05\" \"cl06\" \"cl07\" \"cl08\" \"cl09\" \"cl10\"\n",
              "[11] \"cl11\" \"cl12\" \"cl13\" \"cl14\" \"cl15\" \"cl16\" \"cl17\" \"cl18\" \"cl19\" \"cl20\""
            ]
          },
          "metadata": {}
        }
      ],
      "source": [
        "# How many cluster IDs?\n",
        "unique(df_cohort$cluster_id)"
      ]
    },
    {
      "cell_type": "code",
      "execution_count": 9,
      "metadata": {
        "colab": {
          "base_uri": "https://localhost:8080/",
          "height": 725
        },
        "id": "fcwM8InTXOS0",
        "outputId": "24fa3ca8-4f96-46f9-8a74-f55c18613479"
      },
      "outputs": [
        {
          "output_type": "display_data",
          "data": {
            "text/html": [
              "<table class=\"dataframe\">\n",
              "<caption>A data.frame: 20 × 2</caption>\n",
              "<thead>\n",
              "\t<tr><th scope=col>cluster_id</th><th scope=col>n</th></tr>\n",
              "\t<tr><th scope=col>&lt;chr&gt;</th><th scope=col>&lt;int&gt;</th></tr>\n",
              "</thead>\n",
              "<tbody>\n",
              "\t<tr><td>cl01</td><td>38</td></tr>\n",
              "\t<tr><td>cl02</td><td>38</td></tr>\n",
              "\t<tr><td>cl03</td><td>38</td></tr>\n",
              "\t<tr><td>cl04</td><td>38</td></tr>\n",
              "\t<tr><td>cl05</td><td>38</td></tr>\n",
              "\t<tr><td>cl06</td><td>38</td></tr>\n",
              "\t<tr><td>cl07</td><td>38</td></tr>\n",
              "\t<tr><td>cl08</td><td>38</td></tr>\n",
              "\t<tr><td>cl09</td><td>38</td></tr>\n",
              "\t<tr><td>cl10</td><td>38</td></tr>\n",
              "\t<tr><td>cl11</td><td>38</td></tr>\n",
              "\t<tr><td>cl12</td><td>38</td></tr>\n",
              "\t<tr><td>cl13</td><td>38</td></tr>\n",
              "\t<tr><td>cl14</td><td>38</td></tr>\n",
              "\t<tr><td>cl15</td><td>38</td></tr>\n",
              "\t<tr><td>cl16</td><td>38</td></tr>\n",
              "\t<tr><td>cl17</td><td>38</td></tr>\n",
              "\t<tr><td>cl18</td><td>38</td></tr>\n",
              "\t<tr><td>cl19</td><td>38</td></tr>\n",
              "\t<tr><td>cl20</td><td>38</td></tr>\n",
              "</tbody>\n",
              "</table>\n"
            ],
            "text/markdown": "\nA data.frame: 20 × 2\n\n| cluster_id &lt;chr&gt; | n &lt;int&gt; |\n|---|---|\n| cl01 | 38 |\n| cl02 | 38 |\n| cl03 | 38 |\n| cl04 | 38 |\n| cl05 | 38 |\n| cl06 | 38 |\n| cl07 | 38 |\n| cl08 | 38 |\n| cl09 | 38 |\n| cl10 | 38 |\n| cl11 | 38 |\n| cl12 | 38 |\n| cl13 | 38 |\n| cl14 | 38 |\n| cl15 | 38 |\n| cl16 | 38 |\n| cl17 | 38 |\n| cl18 | 38 |\n| cl19 | 38 |\n| cl20 | 38 |\n\n",
            "text/latex": "A data.frame: 20 × 2\n\\begin{tabular}{ll}\n cluster\\_id & n\\\\\n <chr> & <int>\\\\\n\\hline\n\t cl01 & 38\\\\\n\t cl02 & 38\\\\\n\t cl03 & 38\\\\\n\t cl04 & 38\\\\\n\t cl05 & 38\\\\\n\t cl06 & 38\\\\\n\t cl07 & 38\\\\\n\t cl08 & 38\\\\\n\t cl09 & 38\\\\\n\t cl10 & 38\\\\\n\t cl11 & 38\\\\\n\t cl12 & 38\\\\\n\t cl13 & 38\\\\\n\t cl14 & 38\\\\\n\t cl15 & 38\\\\\n\t cl16 & 38\\\\\n\t cl17 & 38\\\\\n\t cl18 & 38\\\\\n\t cl19 & 38\\\\\n\t cl20 & 38\\\\\n\\end{tabular}\n",
            "text/plain": [
              "   cluster_id n \n",
              "1  cl01       38\n",
              "2  cl02       38\n",
              "3  cl03       38\n",
              "4  cl04       38\n",
              "5  cl05       38\n",
              "6  cl06       38\n",
              "7  cl07       38\n",
              "8  cl08       38\n",
              "9  cl09       38\n",
              "10 cl10       38\n",
              "11 cl11       38\n",
              "12 cl12       38\n",
              "13 cl13       38\n",
              "14 cl14       38\n",
              "15 cl15       38\n",
              "16 cl16       38\n",
              "17 cl17       38\n",
              "18 cl18       38\n",
              "19 cl19       38\n",
              "20 cl20       38"
            ]
          },
          "metadata": {}
        }
      ],
      "source": [
        "# Number of participants per cluster\n",
        "df_cohort %>% count(cluster_id)"
      ]
    },
    {
      "cell_type": "code",
      "source": [
        "# Lab tech name?\n",
        "print(unique(df_cohort$name_labtec))"
      ],
      "metadata": {
        "id": "SAr9wYzTGjg8",
        "outputId": "421bbcda-0056-42da-91a1-d92fe42e02e8",
        "colab": {
          "base_uri": "https://localhost:8080/"
        }
      },
      "execution_count": 10,
      "outputs": [
        {
          "output_type": "stream",
          "name": "stdout",
          "text": [
            " [1] \" Nicole\"     \" Luis\"       \" Rustin\"     \" Phuc Danny\" \" Kimberly\"  \n",
            " [6] \" Ghaaziya\"   \" Clifford\"   \" Antonia\"    \" Felonice\"   \" Jordan\"    \n",
            "[11] \" Hysoonie\"   \" Saleet\"     \" Michael\"    \" Patrick\"    \" Darian\"    \n",
            "[16] \" Sean\"       \" Megan\"      \" Sharaf\"     \" Rashiah\"    \" Aaron\"     \n"
          ]
        }
      ]
    },
    {
      "cell_type": "code",
      "execution_count": 11,
      "metadata": {
        "id": "1QJm3jFOYMCv"
      },
      "outputs": [],
      "source": [
        "# Age of participants?\n",
        "date_survey <- as.Date(\"2025/04/01\")\n",
        "df_cohort$age <- floor(interval(df_cohort$birth, date_survey) / years(1))"
      ]
    },
    {
      "cell_type": "code",
      "execution_count": 12,
      "metadata": {
        "colab": {
          "base_uri": "https://localhost:8080/",
          "height": 437
        },
        "id": "HqZlwGKAYafu",
        "outputId": "d2e1a472-6dcf-4469-cb28-886b713e2da1"
      },
      "outputs": [
        {
          "output_type": "display_data",
          "data": {
            "text/plain": [
              "plot without title"
            ],
            "image/png": "[encoded data removed]"
          },
          "metadata": {
            "image/png": {
              "width": 420,
              "height": 420
            }
          }
        }
      ],
      "source": [
        "df_cohort_age <- df_cohort %>% count(age)\n",
        "\n",
        "ggplot(data = df_cohort_age, aes(x = age, y = n))+\n",
        "  geom_bar(stat = \"identity\", fill = \"#fdae6b\")+\n",
        "  theme"
      ]
    },
    {
      "cell_type": "code",
      "execution_count": 13,
      "metadata": {
        "colab": {
          "base_uri": "https://localhost:8080/",
          "height": 129
        },
        "id": "GgSu9NrWacSl",
        "outputId": "8b877c7e-63aa-4131-b7b8-45e605497e63"
      },
      "outputs": [
        {
          "output_type": "display_data",
          "data": {
            "text/html": [
              "<table class=\"dataframe\">\n",
              "<caption>A data.frame: 1 × 7</caption>\n",
              "<thead>\n",
              "\t<tr><th scope=col>cluster_id</th><th scope=col>cohort_id</th><th scope=col>name_f</th><th scope=col>name_l</th><th scope=col>birth</th><th scope=col>name_labtec</th><th scope=col>age</th></tr>\n",
              "\t<tr><th scope=col>&lt;chr&gt;</th><th scope=col>&lt;chr&gt;</th><th scope=col>&lt;chr&gt;</th><th scope=col>&lt;chr&gt;</th><th scope=col>&lt;chr&gt;</th><th scope=col>&lt;chr&gt;</th><th scope=col>&lt;dbl&gt;</th></tr>\n",
              "</thead>\n",
              "<tbody>\n",
              "\t<tr><td>cl01</td><td>cl01_11</td><td> Austin</td><td>Smith</td><td>2000/11/30</td><td> Nicole</td><td>24</td></tr>\n",
              "</tbody>\n",
              "</table>\n"
            ],
            "text/markdown": "\nA data.frame: 1 × 7\n\n| cluster_id &lt;chr&gt; | cohort_id &lt;chr&gt; | name_f &lt;chr&gt; | name_l &lt;chr&gt; | birth &lt;chr&gt; | name_labtec &lt;chr&gt; | age &lt;dbl&gt; |\n|---|---|---|---|---|---|---|\n| cl01 | cl01_11 |  Austin | Smith | 2000/11/30 |  Nicole | 24 |\n\n",
            "text/latex": "A data.frame: 1 × 7\n\\begin{tabular}{lllllll}\n cluster\\_id & cohort\\_id & name\\_f & name\\_l & birth & name\\_labtec & age\\\\\n <chr> & <chr> & <chr> & <chr> & <chr> & <chr> & <dbl>\\\\\n\\hline\n\t cl01 & cl01\\_11 &  Austin & Smith & 2000/11/30 &  Nicole & 24\\\\\n\\end{tabular}\n",
            "text/plain": [
              "  cluster_id cohort_id name_f  name_l birth      name_labtec age\n",
              "1 cl01       cl01_11    Austin Smith  2000/11/30  Nicole     24 "
            ]
          },
          "metadata": {}
        }
      ],
      "source": [
        "df_cohort %>% filter(age > 14)"
      ]
    },
    {
      "cell_type": "markdown",
      "source": [
        "Oh, why was the 24 y.o adult, Austin, included in the cohort list?\n",
        "\n",
        "Let's ask Nicole, the lab tech for cluster 'cl01'. Then, you may find that the incorrect birthday was recorded.\n",
        "\n",
        "Her true birthday is November 30, 2020!\n",
        "\n",
        "We need to fix the data set."
      ],
      "metadata": {
        "id": "9v_WSiSkHHi5"
      }
    },
    {
      "cell_type": "code",
      "execution_count": 14,
      "metadata": {
        "id": "vyBusHDeb8vv"
      },
      "outputs": [],
      "source": [
        "df_cohort <- df_cohort %>%\n",
        "  mutate(birth = ifelse(cohort_id == \"cl01_11\", \"2020/11/30\", birth)) %>%\n",
        "  mutate(age = ifelse(cohort_id == \"cl01_11\", 3, age))"
      ]
    },
    {
      "cell_type": "code",
      "execution_count": 15,
      "metadata": {
        "colab": {
          "base_uri": "https://localhost:8080/",
          "height": 129
        },
        "id": "nyGR4pgdb9Jj",
        "outputId": "f75bcd94-5cbd-4c42-b560-bf85317f6c32"
      },
      "outputs": [
        {
          "output_type": "display_data",
          "data": {
            "text/html": [
              "<table class=\"dataframe\">\n",
              "<caption>A data.frame: 1 × 7</caption>\n",
              "<thead>\n",
              "\t<tr><th scope=col>cluster_id</th><th scope=col>cohort_id</th><th scope=col>name_f</th><th scope=col>name_l</th><th scope=col>birth</th><th scope=col>name_labtec</th><th scope=col>age</th></tr>\n",
              "\t<tr><th scope=col>&lt;chr&gt;</th><th scope=col>&lt;chr&gt;</th><th scope=col>&lt;chr&gt;</th><th scope=col>&lt;chr&gt;</th><th scope=col>&lt;chr&gt;</th><th scope=col>&lt;chr&gt;</th><th scope=col>&lt;dbl&gt;</th></tr>\n",
              "</thead>\n",
              "<tbody>\n",
              "\t<tr><td>cl01</td><td>cl01_11</td><td> Austin</td><td>Smith</td><td>2020/11/30</td><td> Nicole</td><td>3</td></tr>\n",
              "</tbody>\n",
              "</table>\n"
            ],
            "text/markdown": "\nA data.frame: 1 × 7\n\n| cluster_id &lt;chr&gt; | cohort_id &lt;chr&gt; | name_f &lt;chr&gt; | name_l &lt;chr&gt; | birth &lt;chr&gt; | name_labtec &lt;chr&gt; | age &lt;dbl&gt; |\n|---|---|---|---|---|---|---|\n| cl01 | cl01_11 |  Austin | Smith | 2020/11/30 |  Nicole | 3 |\n\n",
            "text/latex": "A data.frame: 1 × 7\n\\begin{tabular}{lllllll}\n cluster\\_id & cohort\\_id & name\\_f & name\\_l & birth & name\\_labtec & age\\\\\n <chr> & <chr> & <chr> & <chr> & <chr> & <chr> & <dbl>\\\\\n\\hline\n\t cl01 & cl01\\_11 &  Austin & Smith & 2020/11/30 &  Nicole & 3\\\\\n\\end{tabular}\n",
            "text/plain": [
              "  cluster_id cohort_id name_f  name_l birth      name_labtec age\n",
              "1 cl01       cl01_11    Austin Smith  2020/11/30  Nicole     3  "
            ]
          },
          "metadata": {}
        }
      ],
      "source": [
        "df_cohort %>% filter(cohort_id == \"cl01_11\")"
      ]
    },
    {
      "cell_type": "code",
      "execution_count": 16,
      "metadata": {
        "colab": {
          "base_uri": "https://localhost:8080/",
          "height": 437
        },
        "id": "8FnXMOVngf0n",
        "outputId": "3241da2c-891b-4fcc-8058-e34308d30397"
      },
      "outputs": [
        {
          "output_type": "display_data",
          "data": {
            "text/plain": [
              "plot without title"
            ],
            "image/png": "[encoded data removed]"
          },
          "metadata": {
            "image/png": {
              "width": 420,
              "height": 420
            }
          }
        }
      ],
      "source": [
        "df_cohort_age <- df_cohort %>% count(age)\n",
        "\n",
        "ggplot(data = df_cohort_age, aes(x = age, y = n))+\n",
        "   geom_bar(stat = \"identity\", fill = \"#fdae6b\")+\n",
        "   theme"
      ]
    },
    {
      "cell_type": "markdown",
      "source": [
        "## Baseline data\n",
        "\n",
        "We have the following information associated with malaria outcomes.\n",
        "\n",
        "\n",
        "\n",
        "1.   **intervention**: Intervention or Control assignment (1: intervention, 0: control)\n",
        "2.   **cn**: Living in the household with ceiling net or not (1: with cn, 0: without cn)\n",
        "3. **non_bn**: Not using bed net (1: non-user, 0: user)\n",
        "4. **vac**: With malaria vaccination for those aged 2–6 years old (1: vaccinated)\n",
        "5. **age_c**: age category (1: age <= 2 yo, 0: age > 2 yo)\n",
        "6. **rdt**: RDT results\n"
      ],
      "metadata": {
        "id": "TV0jieZAIJo_"
      }
    },
    {
      "cell_type": "code",
      "source": [
        "df_baseline <- read.csv(\"./data_baseline.csv\")\n",
        "head(df_baseline)"
      ],
      "metadata": {
        "id": "M0pl5GRxIA7a",
        "outputId": "6626786e-d817-42e3-dfe2-4a5bde50cd63",
        "colab": {
          "base_uri": "https://localhost:8080/",
          "height": 286
        }
      },
      "execution_count": 19,
      "outputs": [
        {
          "output_type": "display_data",
          "data": {
            "text/html": [
              "<table class=\"dataframe\">\n",
              "<caption>A data.frame: 6 × 10</caption>\n",
              "<thead>\n",
              "\t<tr><th></th><th scope=col>cluster_id</th><th scope=col>cohort_id</th><th scope=col>birth</th><th scope=col>age</th><th scope=col>intervention</th><th scope=col>cn</th><th scope=col>non_bn</th><th scope=col>vac</th><th scope=col>age_c</th><th scope=col>rdt</th></tr>\n",
              "\t<tr><th></th><th scope=col>&lt;chr&gt;</th><th scope=col>&lt;chr&gt;</th><th scope=col>&lt;chr&gt;</th><th scope=col>&lt;int&gt;</th><th scope=col>&lt;int&gt;</th><th scope=col>&lt;int&gt;</th><th scope=col>&lt;int&gt;</th><th scope=col>&lt;int&gt;</th><th scope=col>&lt;int&gt;</th><th scope=col>&lt;int&gt;</th></tr>\n",
              "</thead>\n",
              "<tbody>\n",
              "\t<tr><th scope=row>1</th><td>cl01</td><td>cl01_01</td><td>2012-03-26</td><td>13</td><td>1</td><td>1</td><td>0</td><td>0</td><td>0</td><td>0</td></tr>\n",
              "\t<tr><th scope=row>2</th><td>cl01</td><td>cl01_02</td><td>2017-01-02</td><td> 8</td><td>1</td><td>1</td><td>0</td><td>0</td><td>0</td><td>1</td></tr>\n",
              "\t<tr><th scope=row>3</th><td>cl01</td><td>cl01_03</td><td>2024-08-15</td><td> 0</td><td>1</td><td>1</td><td>0</td><td>0</td><td>1</td><td>0</td></tr>\n",
              "\t<tr><th scope=row>4</th><td>cl01</td><td>cl01_04</td><td>2016-10-03</td><td> 8</td><td>1</td><td>1</td><td>0</td><td>0</td><td>0</td><td>0</td></tr>\n",
              "\t<tr><th scope=row>5</th><td>cl01</td><td>cl01_05</td><td>2015-09-10</td><td> 9</td><td>1</td><td>1</td><td>0</td><td>0</td><td>0</td><td>0</td></tr>\n",
              "\t<tr><th scope=row>6</th><td>cl01</td><td>cl01_06</td><td>2018-08-09</td><td> 6</td><td>1</td><td>1</td><td>0</td><td>1</td><td>0</td><td>0</td></tr>\n",
              "</tbody>\n",
              "</table>\n"
            ],
            "text/markdown": "\nA data.frame: 6 × 10\n\n| <!--/--> | cluster_id &lt;chr&gt; | cohort_id &lt;chr&gt; | birth &lt;chr&gt; | age &lt;int&gt; | intervention &lt;int&gt; | cn &lt;int&gt; | non_bn &lt;int&gt; | vac &lt;int&gt; | age_c &lt;int&gt; | rdt &lt;int&gt; |\n|---|---|---|---|---|---|---|---|---|---|---|\n| 1 | cl01 | cl01_01 | 2012-03-26 | 13 | 1 | 1 | 0 | 0 | 0 | 0 |\n| 2 | cl01 | cl01_02 | 2017-01-02 |  8 | 1 | 1 | 0 | 0 | 0 | 1 |\n| 3 | cl01 | cl01_03 | 2024-08-15 |  0 | 1 | 1 | 0 | 0 | 1 | 0 |\n| 4 | cl01 | cl01_04 | 2016-10-03 |  8 | 1 | 1 | 0 | 0 | 0 | 0 |\n| 5 | cl01 | cl01_05 | 2015-09-10 |  9 | 1 | 1 | 0 | 0 | 0 | 0 |\n| 6 | cl01 | cl01_06 | 2018-08-09 |  6 | 1 | 1 | 0 | 1 | 0 | 0 |\n\n",
            "text/latex": "A data.frame: 6 × 10\n\\begin{tabular}{r|llllllllll}\n  & cluster\\_id & cohort\\_id & birth & age & intervention & cn & non\\_bn & vac & age\\_c & rdt\\\\\n  & <chr> & <chr> & <chr> & <int> & <int> & <int> & <int> & <int> & <int> & <int>\\\\\n\\hline\n\t1 & cl01 & cl01\\_01 & 2012-03-26 & 13 & 1 & 1 & 0 & 0 & 0 & 0\\\\\n\t2 & cl01 & cl01\\_02 & 2017-01-02 &  8 & 1 & 1 & 0 & 0 & 0 & 1\\\\\n\t3 & cl01 & cl01\\_03 & 2024-08-15 &  0 & 1 & 1 & 0 & 0 & 1 & 0\\\\\n\t4 & cl01 & cl01\\_04 & 2016-10-03 &  8 & 1 & 1 & 0 & 0 & 0 & 0\\\\\n\t5 & cl01 & cl01\\_05 & 2015-09-10 &  9 & 1 & 1 & 0 & 0 & 0 & 0\\\\\n\t6 & cl01 & cl01\\_06 & 2018-08-09 &  6 & 1 & 1 & 0 & 1 & 0 & 0\\\\\n\\end{tabular}\n",
            "text/plain": [
              "  cluster_id cohort_id birth      age intervention cn non_bn vac age_c rdt\n",
              "1 cl01       cl01_01   2012-03-26 13  1            1  0      0   0     0  \n",
              "2 cl01       cl01_02   2017-01-02  8  1            1  0      0   0     1  \n",
              "3 cl01       cl01_03   2024-08-15  0  1            1  0      0   1     0  \n",
              "4 cl01       cl01_04   2016-10-03  8  1            1  0      0   0     0  \n",
              "5 cl01       cl01_05   2015-09-10  9  1            1  0      0   0     0  \n",
              "6 cl01       cl01_06   2018-08-09  6  1            1  0      1   0     0  "
            ]
          },
          "metadata": {}
        }
      ]
    },
    {
      "cell_type": "markdown",
      "source": [
        "Transmission heterogeneity"
      ],
      "metadata": {
        "id": "pD72CP7NjU-Q"
      }
    },
    {
      "cell_type": "code",
      "source": [
        "df_prev <- df_baseline %>%\n",
        "  group_by(cluster_id) %>%\n",
        "  count(rdt) %>%\n",
        "  mutate(prev = n/sum(n)) %>%\n",
        "  filter(rdt == 1) %>%\n",
        "  arrange(prev) %>%\n",
        "  ungroup() %>%\n",
        "  mutate(order = row_number())\n",
        "\n",
        "ggplot(data = df_prev, aes(x = order, y = prev))+\n",
        "   geom_bar(stat = \"identity\", fill = \"#fc4e2a\")+\n",
        "   theme+\n",
        "   theme(\n",
        "          axis.title.x = element_blank(),\n",
        "          axis.text.x = element_blank()\n",
        "   )"
      ],
      "metadata": {
        "id": "1mgfCF5ffyW0",
        "outputId": "ba59e24c-8fc5-4439-d6d8-551b866f8410",
        "colab": {
          "base_uri": "https://localhost:8080/",
          "height": 437
        }
      },
      "execution_count": 26,
      "outputs": [
        {
          "output_type": "display_data",
          "data": {
            "text/plain": [
              "plot without title"
            ],
            "image/png": "[encoded data removed]"
          },
          "metadata": {
            "image/png": {
              "width": 420,
              "height": 420
            }
          }
        }
      ]
    },
    {
      "cell_type": "markdown",
      "metadata": {
        "id": "RgUVIAl4DYlG"
      },
      "source": [
        "# Analysis of perfect data\n",
        "\n",
        "### Data generation process\n",
        "\n",
        "1.   **Cluster-level random effect**: mean = 0, sd = 0.5\n",
        "2.   **Intervention**: Randomly assign 50% of participants to receive the intervention, which reduces the risk of clinical malaria by 50%.\n",
        "3.   **Compliance**: 10% of participants do not receive the intervention when allocated to the intervention arm due to a lack of health awareness; these individuals have a 20% higher risk of clinical malaria.\n",
        "4.   **Bed net use**: 20% of participants do not use bed nets regularly and have a 40% higher risk of clinical malaria.\n",
        "5.   **Malaria vaccine**: 70% of children aged 2–6 years receive a malaria vaccine, which reduces the risk of clinical malaria by 30%.\n",
        "6. **Age**: Children aged 0–2 years have a 50% higher risk of clinical malaria compared to older children.\n",
        "\n",
        "Without any of the above risk factors, the incidence rate is 1.5 per person-year, following a negative binomial distribution with a dispersion parameter of 1.2\n",
        "\n",
        "\n",
        "\\begin{align*}\n",
        "y_{ij} &\\sim NegBin(\\lambda_{ij}, \\theta) \\\\\n",
        "\\log{\\lambda_{ij}} &= \\alpha + x_{ij}^T\\beta + u_j \\\\\n",
        "\\ u_j &\\sim N(0, \\sigma_{u}^2) \\\\\n",
        "\\end{align*}"
      ]
    },
    {
      "cell_type": "code",
      "execution_count": 32,
      "metadata": {
        "scrolled": true,
        "id": "kWq9pYInDYlG",
        "outputId": "7749a2d5-dfb1-422c-a3c0-13ee15c41fec",
        "colab": {
          "base_uri": "https://localhost:8080/",
          "height": 410
        }
      },
      "outputs": [
        {
          "output_type": "display_data",
          "data": {
            "text/html": [
              "<table class=\"dataframe\">\n",
              "<caption>A data.frame: 6 × 16</caption>\n",
              "<thead>\n",
              "\t<tr><th></th><th scope=col>cohort_id</th><th scope=col>visit</th><th scope=col>outcome</th><th scope=col>cluster_id</th><th scope=col>name_f</th><th scope=col>name_l</th><th scope=col>birth</th><th scope=col>name_labtec</th><th scope=col>age</th><th scope=col>re</th><th scope=col>intervention</th><th scope=col>cn</th><th scope=col>non_comp</th><th scope=col>non_bn</th><th scope=col>vac</th><th scope=col>age_c</th></tr>\n",
              "\t<tr><th></th><th scope=col>&lt;chr&gt;</th><th scope=col>&lt;int&gt;</th><th scope=col>&lt;int&gt;</th><th scope=col>&lt;chr&gt;</th><th scope=col>&lt;chr&gt;</th><th scope=col>&lt;chr&gt;</th><th scope=col>&lt;chr&gt;</th><th scope=col>&lt;chr&gt;</th><th scope=col>&lt;int&gt;</th><th scope=col>&lt;dbl&gt;</th><th scope=col>&lt;int&gt;</th><th scope=col>&lt;int&gt;</th><th scope=col>&lt;int&gt;</th><th scope=col>&lt;int&gt;</th><th scope=col>&lt;int&gt;</th><th scope=col>&lt;int&gt;</th></tr>\n",
              "</thead>\n",
              "<tbody>\n",
              "\t<tr><th scope=row>1</th><td>cl01_01</td><td>1</td><td>0</td><td>cl01</td><td> Sakeena</td><td>al-Hoque</td><td>2012/03/26</td><td> Nicole</td><td>13</td><td>-0.2503978</td><td>1</td><td>1</td><td>0</td><td>0</td><td>0</td><td>0</td></tr>\n",
              "\t<tr><th scope=row>2</th><td>cl01_01</td><td>2</td><td>0</td><td>cl01</td><td> Sakeena</td><td>al-Hoque</td><td>2012/03/26</td><td> Nicole</td><td>13</td><td>-0.2503978</td><td>1</td><td>1</td><td>0</td><td>0</td><td>0</td><td>0</td></tr>\n",
              "\t<tr><th scope=row>3</th><td>cl01_01</td><td>3</td><td>0</td><td>cl01</td><td> Sakeena</td><td>al-Hoque</td><td>2012/03/26</td><td> Nicole</td><td>13</td><td>-0.2503978</td><td>1</td><td>1</td><td>0</td><td>0</td><td>0</td><td>0</td></tr>\n",
              "\t<tr><th scope=row>4</th><td>cl01_01</td><td>4</td><td>0</td><td>cl01</td><td> Sakeena</td><td>al-Hoque</td><td>2012/03/26</td><td> Nicole</td><td>13</td><td>-0.2503978</td><td>1</td><td>1</td><td>0</td><td>0</td><td>0</td><td>0</td></tr>\n",
              "\t<tr><th scope=row>5</th><td>cl01_01</td><td>5</td><td>0</td><td>cl01</td><td> Sakeena</td><td>al-Hoque</td><td>2012/03/26</td><td> Nicole</td><td>13</td><td>-0.2503978</td><td>1</td><td>1</td><td>0</td><td>0</td><td>0</td><td>0</td></tr>\n",
              "\t<tr><th scope=row>6</th><td>cl01_01</td><td>6</td><td>1</td><td>cl01</td><td> Sakeena</td><td>al-Hoque</td><td>2012/03/26</td><td> Nicole</td><td>13</td><td>-0.2503978</td><td>1</td><td>1</td><td>0</td><td>0</td><td>0</td><td>0</td></tr>\n",
              "</tbody>\n",
              "</table>\n"
            ],
            "text/markdown": "\nA data.frame: 6 × 16\n\n| <!--/--> | cohort_id &lt;chr&gt; | visit &lt;int&gt; | outcome &lt;int&gt; | cluster_id &lt;chr&gt; | name_f &lt;chr&gt; | name_l &lt;chr&gt; | birth &lt;chr&gt; | name_labtec &lt;chr&gt; | age &lt;int&gt; | re &lt;dbl&gt; | intervention &lt;int&gt; | cn &lt;int&gt; | non_comp &lt;int&gt; | non_bn &lt;int&gt; | vac &lt;int&gt; | age_c &lt;int&gt; |\n|---|---|---|---|---|---|---|---|---|---|---|---|---|---|---|---|---|\n| 1 | cl01_01 | 1 | 0 | cl01 |  Sakeena | al-Hoque | 2012/03/26 |  Nicole | 13 | -0.2503978 | 1 | 1 | 0 | 0 | 0 | 0 |\n| 2 | cl01_01 | 2 | 0 | cl01 |  Sakeena | al-Hoque | 2012/03/26 |  Nicole | 13 | -0.2503978 | 1 | 1 | 0 | 0 | 0 | 0 |\n| 3 | cl01_01 | 3 | 0 | cl01 |  Sakeena | al-Hoque | 2012/03/26 |  Nicole | 13 | -0.2503978 | 1 | 1 | 0 | 0 | 0 | 0 |\n| 4 | cl01_01 | 4 | 0 | cl01 |  Sakeena | al-Hoque | 2012/03/26 |  Nicole | 13 | -0.2503978 | 1 | 1 | 0 | 0 | 0 | 0 |\n| 5 | cl01_01 | 5 | 0 | cl01 |  Sakeena | al-Hoque | 2012/03/26 |  Nicole | 13 | -0.2503978 | 1 | 1 | 0 | 0 | 0 | 0 |\n| 6 | cl01_01 | 6 | 1 | cl01 |  Sakeena | al-Hoque | 2012/03/26 |  Nicole | 13 | -0.2503978 | 1 | 1 | 0 | 0 | 0 | 0 |\n\n",
            "text/latex": "A data.frame: 6 × 16\n\\begin{tabular}{r|llllllllllllllll}\n  & cohort\\_id & visit & outcome & cluster\\_id & name\\_f & name\\_l & birth & name\\_labtec & age & re & intervention & cn & non\\_comp & non\\_bn & vac & age\\_c\\\\\n  & <chr> & <int> & <int> & <chr> & <chr> & <chr> & <chr> & <chr> & <int> & <dbl> & <int> & <int> & <int> & <int> & <int> & <int>\\\\\n\\hline\n\t1 & cl01\\_01 & 1 & 0 & cl01 &  Sakeena & al-Hoque & 2012/03/26 &  Nicole & 13 & -0.2503978 & 1 & 1 & 0 & 0 & 0 & 0\\\\\n\t2 & cl01\\_01 & 2 & 0 & cl01 &  Sakeena & al-Hoque & 2012/03/26 &  Nicole & 13 & -0.2503978 & 1 & 1 & 0 & 0 & 0 & 0\\\\\n\t3 & cl01\\_01 & 3 & 0 & cl01 &  Sakeena & al-Hoque & 2012/03/26 &  Nicole & 13 & -0.2503978 & 1 & 1 & 0 & 0 & 0 & 0\\\\\n\t4 & cl01\\_01 & 4 & 0 & cl01 &  Sakeena & al-Hoque & 2012/03/26 &  Nicole & 13 & -0.2503978 & 1 & 1 & 0 & 0 & 0 & 0\\\\\n\t5 & cl01\\_01 & 5 & 0 & cl01 &  Sakeena & al-Hoque & 2012/03/26 &  Nicole & 13 & -0.2503978 & 1 & 1 & 0 & 0 & 0 & 0\\\\\n\t6 & cl01\\_01 & 6 & 1 & cl01 &  Sakeena & al-Hoque & 2012/03/26 &  Nicole & 13 & -0.2503978 & 1 & 1 & 0 & 0 & 0 & 0\\\\\n\\end{tabular}\n",
            "text/plain": [
              "  cohort_id visit outcome cluster_id name_f   name_l   birth      name_labtec\n",
              "1 cl01_01   1     0       cl01        Sakeena al-Hoque 2012/03/26  Nicole    \n",
              "2 cl01_01   2     0       cl01        Sakeena al-Hoque 2012/03/26  Nicole    \n",
              "3 cl01_01   3     0       cl01        Sakeena al-Hoque 2012/03/26  Nicole    \n",
              "4 cl01_01   4     0       cl01        Sakeena al-Hoque 2012/03/26  Nicole    \n",
              "5 cl01_01   5     0       cl01        Sakeena al-Hoque 2012/03/26  Nicole    \n",
              "6 cl01_01   6     1       cl01        Sakeena al-Hoque 2012/03/26  Nicole    \n",
              "  age re         intervention cn non_comp non_bn vac age_c\n",
              "1 13  -0.2503978 1            1  0        0      0   0    \n",
              "2 13  -0.2503978 1            1  0        0      0   0    \n",
              "3 13  -0.2503978 1            1  0        0      0   0    \n",
              "4 13  -0.2503978 1            1  0        0      0   0    \n",
              "5 13  -0.2503978 1            1  0        0      0   0    \n",
              "6 13  -0.2503978 1            1  0        0      0   0    "
            ]
          },
          "metadata": {}
        }
      ],
      "source": [
        "df_full <- read.csv(\"./data_cohort_full.csv\")\n",
        "head(df_full)"
      ]
    },
    {
      "cell_type": "code",
      "execution_count": 28,
      "metadata": {
        "id": "3uYNukNxDYlH"
      },
      "outputs": [],
      "source": [
        "df_full_count <- df_full %>%\n",
        "    group_by(cohort_id) %>%\n",
        "    summarise(\n",
        "    num_pos = sum(outcome),\n",
        "    total_visit = n()\n",
        "  )"
      ]
    },
    {
      "cell_type": "code",
      "execution_count": 29,
      "metadata": {
        "id": "JN-omYA0DYlH"
      },
      "outputs": [],
      "source": [
        "df_full <- df_full %>%\n",
        "    dplyr::select(cluster_id, cohort_id, intervention, cn, non_comp, non_bn, vac, age_c) %>%\n",
        "    left_join(df_full_count, by = \"cohort_id\") %>%\n",
        "    distinct(cohort_id, .keep_all = T)"
      ]
    },
    {
      "cell_type": "code",
      "execution_count": 30,
      "metadata": {
        "id": "crBF5v7aDYlH"
      },
      "outputs": [],
      "source": [
        "model <- glmer.nb(num_pos ~\n",
        "                       cn +\n",
        "                       non_comp +\n",
        "                       non_bn +\n",
        "                       vac +\n",
        "                       age_c +\n",
        "                    　　offset(log(total_visit)) +\n",
        "                       (1 | cluster_id), data = df_full)"
      ]
    },
    {
      "cell_type": "code",
      "execution_count": 31,
      "metadata": {
        "id": "uCJEEMt8DYlH",
        "outputId": "ddfae9ca-683d-4343-9399-74da0b19b0dc",
        "colab": {
          "base_uri": "https://localhost:8080/",
          "height": 308
        }
      },
      "outputs": [
        {
          "output_type": "stream",
          "name": "stdout",
          "text": [
            "(Intercept)          cn    non_comp      non_bn         vac       age_c \n",
            "  0.1228262   0.5104337   1.4220579   1.2569324   0.7169945   1.3920507 \n"
          ]
        },
        {
          "output_type": "display_data",
          "data": {
            "text/html": [
              "<table class=\"dataframe\">\n",
              "<caption>A matrix: 6 × 2 of type dbl</caption>\n",
              "<thead>\n",
              "\t<tr><th></th><th scope=col>2.5 %</th><th scope=col>97.5 %</th></tr>\n",
              "</thead>\n",
              "<tbody>\n",
              "\t<tr><th scope=row>(Intercept)</th><td>0.09708239</td><td>0.1553966</td></tr>\n",
              "\t<tr><th scope=row>cn</th><td>0.37308121</td><td>0.6983535</td></tr>\n",
              "\t<tr><th scope=row>non_comp</th><td>1.05054529</td><td>1.9249513</td></tr>\n",
              "\t<tr><th scope=row>non_bn</th><td>1.00850783</td><td>1.5665512</td></tr>\n",
              "\t<tr><th scope=row>vac</th><td>0.57512895</td><td>0.8938537</td></tr>\n",
              "\t<tr><th scope=row>age_c</th><td>1.10753742</td><td>1.7496521</td></tr>\n",
              "</tbody>\n",
              "</table>\n"
            ],
            "text/markdown": "\nA matrix: 6 × 2 of type dbl\n\n| <!--/--> | 2.5 % | 97.5 % |\n|---|---|---|\n| (Intercept) | 0.09708239 | 0.1553966 |\n| cn | 0.37308121 | 0.6983535 |\n| non_comp | 1.05054529 | 1.9249513 |\n| non_bn | 1.00850783 | 1.5665512 |\n| vac | 0.57512895 | 0.8938537 |\n| age_c | 1.10753742 | 1.7496521 |\n\n",
            "text/latex": "A matrix: 6 × 2 of type dbl\n\\begin{tabular}{r|ll}\n  & 2.5 \\% & 97.5 \\%\\\\\n\\hline\n\t(Intercept) & 0.09708239 & 0.1553966\\\\\n\tcn & 0.37308121 & 0.6983535\\\\\n\tnon\\_comp & 1.05054529 & 1.9249513\\\\\n\tnon\\_bn & 1.00850783 & 1.5665512\\\\\n\tvac & 0.57512895 & 0.8938537\\\\\n\tage\\_c & 1.10753742 & 1.7496521\\\\\n\\end{tabular}\n",
            "text/plain": [
              "            2.5 %      97.5 %   \n",
              "(Intercept) 0.09708239 0.1553966\n",
              "cn          0.37308121 0.6983535\n",
              "non_comp    1.05054529 1.9249513\n",
              "non_bn      1.00850783 1.5665512\n",
              "vac         0.57512895 0.8938537\n",
              "age_c       1.10753742 1.7496521"
            ]
          },
          "metadata": {}
        },
        {
          "output_type": "stream",
          "name": "stdout",
          "text": [
            "[1] \"Estimated efficacy of the ceiling net: 0.49\"\n"
          ]
        }
      ],
      "source": [
        "print(exp(fixef(model)))\n",
        "exp(confint(model, parm = \"beta_\", method = \"Wald\"))\n",
        "\n",
        "print(paste0(\"Estimated efficacy of the ceiling net: \", round(1-exp(fixef(model))[[2]],2)))"
      ]
    },
    {
      "cell_type": "markdown",
      "metadata": {
        "id": "kU-DjzORDYlH"
      },
      "source": [
        "# Analysis of raw data"
      ]
    },
    {
      "cell_type": "code",
      "execution_count": 34,
      "metadata": {
        "scrolled": true,
        "id": "_X5iL_v1DYlH",
        "outputId": "38295b09-6d1c-4bf8-ea8a-6a0facb4e7dd",
        "colab": {
          "base_uri": "https://localhost:8080/",
          "height": 1000
        }
      },
      "outputs": [
        {
          "output_type": "display_data",
          "data": {
            "text/html": [
              "<table class=\"dataframe\">\n",
              "<caption>A data.frame: 9095 × 8</caption>\n",
              "<thead>\n",
              "\t<tr><th scope=col>cluster_id</th><th scope=col>cohort_id</th><th scope=col>visit</th><th scope=col>avail</th><th scope=col>name_f</th><th scope=col>name_l</th><th scope=col>symp</th><th scope=col>rdt</th></tr>\n",
              "\t<tr><th scope=col>&lt;chr&gt;</th><th scope=col>&lt;chr&gt;</th><th scope=col>&lt;int&gt;</th><th scope=col>&lt;int&gt;</th><th scope=col>&lt;chr&gt;</th><th scope=col>&lt;chr&gt;</th><th scope=col>&lt;int&gt;</th><th scope=col>&lt;int&gt;</th></tr>\n",
              "</thead>\n",
              "<tbody>\n",
              "\t<tr><td>cl01</td><td>cl01_01</td><td> 1</td><td>1</td><td>Sakeena </td><td>al-Hoque</td><td>0</td><td> 0</td></tr>\n",
              "\t<tr><td>cl01</td><td>cl01_01</td><td> 2</td><td>1</td><td>Sakeena </td><td>al-Hoque</td><td>0</td><td> 0</td></tr>\n",
              "\t<tr><td>cl01</td><td>cl01_01</td><td> 3</td><td>0</td><td>Sakeena </td><td>al-Hoque</td><td>0</td><td> 0</td></tr>\n",
              "\t<tr><td>cl01</td><td>cl01_01</td><td> 4</td><td>0</td><td>Sakeena </td><td>al-Hoque</td><td>0</td><td> 1</td></tr>\n",
              "\t<tr><td>cl01</td><td>cl01_01</td><td> 5</td><td>1</td><td>Sakeena </td><td>al-Hoque</td><td>0</td><td> 0</td></tr>\n",
              "\t<tr><td>cl01</td><td>cl01_01</td><td> 6</td><td>1</td><td>Sakeena </td><td>al-Hoque</td><td>1</td><td> 1</td></tr>\n",
              "\t<tr><td>cl01</td><td>cl01_01</td><td> 7</td><td>1</td><td>Sakeena </td><td>al-Hoque</td><td>0</td><td> 0</td></tr>\n",
              "\t<tr><td>cl01</td><td>cl01_01</td><td> 8</td><td>1</td><td>Sakeena </td><td>al-Hoque</td><td>0</td><td> 0</td></tr>\n",
              "\t<tr><td>cl01</td><td>cl01_01</td><td> 9</td><td>1</td><td>Sakeena </td><td>al-Hoque</td><td>0</td><td> 0</td></tr>\n",
              "\t<tr><td>cl01</td><td>cl01_01</td><td>10</td><td>1</td><td>Sakeena </td><td>al-Hoque</td><td>0</td><td> 1</td></tr>\n",
              "\t<tr><td>cl01</td><td>cl01_01</td><td>11</td><td>1</td><td>Sakeena </td><td>al-Hoque</td><td>1</td><td> 0</td></tr>\n",
              "\t<tr><td>cl01</td><td>cl01_01</td><td>12</td><td>0</td><td>Sakeena </td><td>al-Hoque</td><td>1</td><td> 0</td></tr>\n",
              "\t<tr><td>cl01</td><td>cl01_02</td><td> 1</td><td>1</td><td>Mitchell</td><td>Gonzales</td><td>0</td><td>NA</td></tr>\n",
              "\t<tr><td>cl01</td><td>cl01_02</td><td> 2</td><td>1</td><td>Mitchelv</td><td>Gonzales</td><td>0</td><td> 0</td></tr>\n",
              "\t<tr><td>cl01</td><td>cl01_02</td><td> 3</td><td>1</td><td>Mitchell</td><td>Gonzales</td><td>0</td><td> 0</td></tr>\n",
              "\t<tr><td>cl01</td><td>cl01_02</td><td> 4</td><td>1</td><td>Mitchell</td><td>Gonzales</td><td>0</td><td> 1</td></tr>\n",
              "\t<tr><td>cl01</td><td>cl01_02</td><td> 5</td><td>1</td><td>Mitchell</td><td>Gonzales</td><td>0</td><td> 0</td></tr>\n",
              "\t<tr><td>cl01</td><td>cl01_02</td><td> 6</td><td>1</td><td>Mitchell</td><td>Gonzales</td><td>0</td><td> 0</td></tr>\n",
              "\t<tr><td>cl01</td><td>cl01_02</td><td> 7</td><td>1</td><td>Mitchell</td><td>Gonzales</td><td>0</td><td> 1</td></tr>\n",
              "\t<tr><td>cl01</td><td>cl01_02</td><td> 8</td><td>1</td><td>Mitchell</td><td>Gonzales</td><td>0</td><td> 0</td></tr>\n",
              "\t<tr><td>cl01</td><td>cl01_02</td><td> 9</td><td>1</td><td>Mitchell</td><td>Gonzales</td><td>0</td><td> 0</td></tr>\n",
              "\t<tr><td>cl01</td><td>cl01_02</td><td>10</td><td>1</td><td>Mitchell</td><td>Gonzales</td><td>0</td><td> 0</td></tr>\n",
              "\t<tr><td>cl01</td><td>cl01_02</td><td>11</td><td>1</td><td>Mitchell</td><td>Gonzales</td><td>0</td><td> 0</td></tr>\n",
              "\t<tr><td>cl01</td><td>cl01_02</td><td>12</td><td>1</td><td>Mitchell</td><td>Gonzales</td><td>0</td><td> 0</td></tr>\n",
              "\t<tr><td>cl01</td><td>cl01_03</td><td> 1</td><td>1</td><td>Anthony </td><td>Simmons </td><td>0</td><td> 1</td></tr>\n",
              "\t<tr><td>cl01</td><td>cl01_03</td><td> 2</td><td>1</td><td>Anthony </td><td>Simmons </td><td>0</td><td> 0</td></tr>\n",
              "\t<tr><td>cl01</td><td>cl01_03</td><td> 3</td><td>1</td><td>Anthony </td><td>Simmons </td><td>0</td><td> 0</td></tr>\n",
              "\t<tr><td>cl01</td><td>cl01_03</td><td> 4</td><td>1</td><td>Anthony </td><td>Simmons </td><td>0</td><td> 0</td></tr>\n",
              "\t<tr><td>cl01</td><td>cl01_03</td><td> 5</td><td>1</td><td>Anthony </td><td>Simmons </td><td>1</td><td> 0</td></tr>\n",
              "\t<tr><td>cl01</td><td>cl01_03</td><td> 6</td><td>1</td><td>Anthony </td><td>Simmons </td><td>0</td><td> 1</td></tr>\n",
              "\t<tr><td>⋮</td><td>⋮</td><td>⋮</td><td>⋮</td><td>⋮</td><td>⋮</td><td>⋮</td><td>⋮</td></tr>\n",
              "\t<tr><td>cl20</td><td>cl20_36</td><td> 7</td><td>0</td><td>Michael </td><td>Sisneros    </td><td>0</td><td>1</td></tr>\n",
              "\t<tr><td>cl20</td><td>cl20_36</td><td> 8</td><td>1</td><td>Michael </td><td>Sisneros    </td><td>1</td><td>0</td></tr>\n",
              "\t<tr><td>cl20</td><td>cl20_36</td><td> 9</td><td>1</td><td>Michael </td><td>Sisneros    </td><td>1</td><td>1</td></tr>\n",
              "\t<tr><td>cl20</td><td>cl20_36</td><td>10</td><td>1</td><td>Michael </td><td>Sisneros    </td><td>1</td><td>1</td></tr>\n",
              "\t<tr><td>cl20</td><td>cl20_36</td><td>11</td><td>1</td><td>Michael </td><td>Sisneros    </td><td>0</td><td>1</td></tr>\n",
              "\t<tr><td>cl20</td><td>cl20_36</td><td>12</td><td>1</td><td>Michael </td><td>Sisneros    </td><td>1</td><td>0</td></tr>\n",
              "\t<tr><td>cl20</td><td>cl20_37</td><td> 1</td><td>1</td><td>Talayshi</td><td>Cooper-Moore</td><td>1</td><td>1</td></tr>\n",
              "\t<tr><td>cl20</td><td>cl20_37</td><td> 2</td><td>1</td><td>Talayshi</td><td>Cooper-Moore</td><td>0</td><td>0</td></tr>\n",
              "\t<tr><td>cl20</td><td>cl20_37</td><td> 3</td><td>1</td><td>Talayshi</td><td>Cooper-Moore</td><td>0</td><td>1</td></tr>\n",
              "\t<tr><td>cl20</td><td>cl20_37</td><td> 4</td><td>1</td><td>Talayshi</td><td>Cooper-Moore</td><td>0</td><td>1</td></tr>\n",
              "\t<tr><td>cl20</td><td>cl20_37</td><td> 5</td><td>1</td><td>Talayshi</td><td>Cooper-Moore</td><td>0</td><td>0</td></tr>\n",
              "\t<tr><td>cl20</td><td>cl20_37</td><td> 6</td><td>1</td><td>Talayshi</td><td>Cooper-Moore</td><td>0</td><td>0</td></tr>\n",
              "\t<tr><td>cl20</td><td>cl20_37</td><td> 7</td><td>0</td><td>Talayshi</td><td>Cooper-Moore</td><td>0</td><td>0</td></tr>\n",
              "\t<tr><td>cl20</td><td>cl20_37</td><td> 8</td><td>1</td><td>Talayshi</td><td>Cooper-Moore</td><td>0</td><td>0</td></tr>\n",
              "\t<tr><td>cl20</td><td>cl20_37</td><td> 9</td><td>1</td><td>Talayshi</td><td>Cooper-Moore</td><td>1</td><td>1</td></tr>\n",
              "\t<tr><td>cl20</td><td>cl20_37</td><td>10</td><td>1</td><td>Talayshi</td><td>Cooper-Moore</td><td>0</td><td>0</td></tr>\n",
              "\t<tr><td>cl20</td><td>cl20_37</td><td>11</td><td>1</td><td>Talayshi</td><td>Cooper-Moore</td><td>0</td><td>0</td></tr>\n",
              "\t<tr><td>cl20</td><td>cl20_37</td><td>12</td><td>1</td><td>Talayshi</td><td>Cooper-Moore</td><td>1</td><td>0</td></tr>\n",
              "\t<tr><td>cl20</td><td>cl20_38</td><td> 1</td><td>1</td><td>Madison </td><td>Hatton      </td><td>1</td><td>1</td></tr>\n",
              "\t<tr><td>cl20</td><td>cl20_38</td><td> 2</td><td>1</td><td>Madison </td><td>Hatton      </td><td>0</td><td>0</td></tr>\n",
              "\t<tr><td>cl20</td><td>cl20_38</td><td> 3</td><td>1</td><td>Madison </td><td>Hatton      </td><td>0</td><td>0</td></tr>\n",
              "\t<tr><td>cl20</td><td>cl20_38</td><td> 4</td><td>1</td><td>Madison </td><td>Hatton      </td><td>1</td><td>1</td></tr>\n",
              "\t<tr><td>cl20</td><td>cl20_38</td><td> 5</td><td>1</td><td>Madison </td><td>Hatton      </td><td>0</td><td>1</td></tr>\n",
              "\t<tr><td>cl20</td><td>cl20_38</td><td> 6</td><td>1</td><td>Madison </td><td>Hatton      </td><td>0</td><td>0</td></tr>\n",
              "\t<tr><td>cl20</td><td>cl20_38</td><td> 7</td><td>1</td><td>Madison </td><td>Hatton      </td><td>0</td><td>1</td></tr>\n",
              "\t<tr><td>cl20</td><td>cl20_38</td><td> 8</td><td>1</td><td>Madison </td><td>Hatton      </td><td>0</td><td>0</td></tr>\n",
              "\t<tr><td>cl20</td><td>cl20_38</td><td> 9</td><td>1</td><td>Madison </td><td>Hatton      </td><td>0</td><td>0</td></tr>\n",
              "\t<tr><td>cl20</td><td>cl20_38</td><td>10</td><td>1</td><td>Madison </td><td>Hatton      </td><td>0</td><td>0</td></tr>\n",
              "\t<tr><td>cl20</td><td>cl20_38</td><td>11</td><td>1</td><td>Madison </td><td>Hatton      </td><td>0</td><td>0</td></tr>\n",
              "\t<tr><td>cl20</td><td>cl20_38</td><td>12</td><td>1</td><td>Madison </td><td>Hatton      </td><td>0</td><td>1</td></tr>\n",
              "</tbody>\n",
              "</table>\n"
            ],
            "text/markdown": "\nA data.frame: 9095 × 8\n\n| cluster_id &lt;chr&gt; | cohort_id &lt;chr&gt; | visit &lt;int&gt; | avail &lt;int&gt; | name_f &lt;chr&gt; | name_l &lt;chr&gt; | symp &lt;int&gt; | rdt &lt;int&gt; |\n|---|---|---|---|---|---|---|---|\n| cl01 | cl01_01 |  1 | 1 | Sakeena  | al-Hoque | 0 |  0 |\n| cl01 | cl01_01 |  2 | 1 | Sakeena  | al-Hoque | 0 |  0 |\n| cl01 | cl01_01 |  3 | 0 | Sakeena  | al-Hoque | 0 |  0 |\n| cl01 | cl01_01 |  4 | 0 | Sakeena  | al-Hoque | 0 |  1 |\n| cl01 | cl01_01 |  5 | 1 | Sakeena  | al-Hoque | 0 |  0 |\n| cl01 | cl01_01 |  6 | 1 | Sakeena  | al-Hoque | 1 |  1 |\n| cl01 | cl01_01 |  7 | 1 | Sakeena  | al-Hoque | 0 |  0 |\n| cl01 | cl01_01 |  8 | 1 | Sakeena  | al-Hoque | 0 |  0 |\n| cl01 | cl01_01 |  9 | 1 | Sakeena  | al-Hoque | 0 |  0 |\n| cl01 | cl01_01 | 10 | 1 | Sakeena  | al-Hoque | 0 |  1 |\n| cl01 | cl01_01 | 11 | 1 | Sakeena  | al-Hoque | 1 |  0 |\n| cl01 | cl01_01 | 12 | 0 | Sakeena  | al-Hoque | 1 |  0 |\n| cl01 | cl01_02 |  1 | 1 | Mitchell | Gonzales | 0 | NA |\n| cl01 | cl01_02 |  2 | 1 | Mitchelv | Gonzales | 0 |  0 |\n| cl01 | cl01_02 |  3 | 1 | Mitchell | Gonzales | 0 |  0 |\n| cl01 | cl01_02 |  4 | 1 | Mitchell | Gonzales | 0 |  1 |\n| cl01 | cl01_02 |  5 | 1 | Mitchell | Gonzales | 0 |  0 |\n| cl01 | cl01_02 |  6 | 1 | Mitchell | Gonzales | 0 |  0 |\n| cl01 | cl01_02 |  7 | 1 | Mitchell | Gonzales | 0 |  1 |\n| cl01 | cl01_02 |  8 | 1 | Mitchell | Gonzales | 0 |  0 |\n| cl01 | cl01_02 |  9 | 1 | Mitchell | Gonzales | 0 |  0 |\n| cl01 | cl01_02 | 10 | 1 | Mitchell | Gonzales | 0 |  0 |\n| cl01 | cl01_02 | 11 | 1 | Mitchell | Gonzales | 0 |  0 |\n| cl01 | cl01_02 | 12 | 1 | Mitchell | Gonzales | 0 |  0 |\n| cl01 | cl01_03 |  1 | 1 | Anthony  | Simmons  | 0 |  1 |\n| cl01 | cl01_03 |  2 | 1 | Anthony  | Simmons  | 0 |  0 |\n| cl01 | cl01_03 |  3 | 1 | Anthony  | Simmons  | 0 |  0 |\n| cl01 | cl01_03 |  4 | 1 | Anthony  | Simmons  | 0 |  0 |\n| cl01 | cl01_03 |  5 | 1 | Anthony  | Simmons  | 1 |  0 |\n| cl01 | cl01_03 |  6 | 1 | Anthony  | Simmons  | 0 |  1 |\n| ⋮ | ⋮ | ⋮ | ⋮ | ⋮ | ⋮ | ⋮ | ⋮ |\n| cl20 | cl20_36 |  7 | 0 | Michael  | Sisneros     | 0 | 1 |\n| cl20 | cl20_36 |  8 | 1 | Michael  | Sisneros     | 1 | 0 |\n| cl20 | cl20_36 |  9 | 1 | Michael  | Sisneros     | 1 | 1 |\n| cl20 | cl20_36 | 10 | 1 | Michael  | Sisneros     | 1 | 1 |\n| cl20 | cl20_36 | 11 | 1 | Michael  | Sisneros     | 0 | 1 |\n| cl20 | cl20_36 | 12 | 1 | Michael  | Sisneros     | 1 | 0 |\n| cl20 | cl20_37 |  1 | 1 | Talayshi | Cooper-Moore | 1 | 1 |\n| cl20 | cl20_37 |  2 | 1 | Talayshi | Cooper-Moore | 0 | 0 |\n| cl20 | cl20_37 |  3 | 1 | Talayshi | Cooper-Moore | 0 | 1 |\n| cl20 | cl20_37 |  4 | 1 | Talayshi | Cooper-Moore | 0 | 1 |\n| cl20 | cl20_37 |  5 | 1 | Talayshi | Cooper-Moore | 0 | 0 |\n| cl20 | cl20_37 |  6 | 1 | Talayshi | Cooper-Moore | 0 | 0 |\n| cl20 | cl20_37 |  7 | 0 | Talayshi | Cooper-Moore | 0 | 0 |\n| cl20 | cl20_37 |  8 | 1 | Talayshi | Cooper-Moore | 0 | 0 |\n| cl20 | cl20_37 |  9 | 1 | Talayshi | Cooper-Moore | 1 | 1 |\n| cl20 | cl20_37 | 10 | 1 | Talayshi | Cooper-Moore | 0 | 0 |\n| cl20 | cl20_37 | 11 | 1 | Talayshi | Cooper-Moore | 0 | 0 |\n| cl20 | cl20_37 | 12 | 1 | Talayshi | Cooper-Moore | 1 | 0 |\n| cl20 | cl20_38 |  1 | 1 | Madison  | Hatton       | 1 | 1 |\n| cl20 | cl20_38 |  2 | 1 | Madison  | Hatton       | 0 | 0 |\n| cl20 | cl20_38 |  3 | 1 | Madison  | Hatton       | 0 | 0 |\n| cl20 | cl20_38 |  4 | 1 | Madison  | Hatton       | 1 | 1 |\n| cl20 | cl20_38 |  5 | 1 | Madison  | Hatton       | 0 | 1 |\n| cl20 | cl20_38 |  6 | 1 | Madison  | Hatton       | 0 | 0 |\n| cl20 | cl20_38 |  7 | 1 | Madison  | Hatton       | 0 | 1 |\n| cl20 | cl20_38 |  8 | 1 | Madison  | Hatton       | 0 | 0 |\n| cl20 | cl20_38 |  9 | 1 | Madison  | Hatton       | 0 | 0 |\n| cl20 | cl20_38 | 10 | 1 | Madison  | Hatton       | 0 | 0 |\n| cl20 | cl20_38 | 11 | 1 | Madison  | Hatton       | 0 | 0 |\n| cl20 | cl20_38 | 12 | 1 | Madison  | Hatton       | 0 | 1 |\n\n",
            "text/latex": "A data.frame: 9095 × 8\n\\begin{tabular}{llllllll}\n cluster\\_id & cohort\\_id & visit & avail & name\\_f & name\\_l & symp & rdt\\\\\n <chr> & <chr> & <int> & <int> & <chr> & <chr> & <int> & <int>\\\\\n\\hline\n\t cl01 & cl01\\_01 &  1 & 1 & Sakeena  & al-Hoque & 0 &  0\\\\\n\t cl01 & cl01\\_01 &  2 & 1 & Sakeena  & al-Hoque & 0 &  0\\\\\n\t cl01 & cl01\\_01 &  3 & 0 & Sakeena  & al-Hoque & 0 &  0\\\\\n\t cl01 & cl01\\_01 &  4 & 0 & Sakeena  & al-Hoque & 0 &  1\\\\\n\t cl01 & cl01\\_01 &  5 & 1 & Sakeena  & al-Hoque & 0 &  0\\\\\n\t cl01 & cl01\\_01 &  6 & 1 & Sakeena  & al-Hoque & 1 &  1\\\\\n\t cl01 & cl01\\_01 &  7 & 1 & Sakeena  & al-Hoque & 0 &  0\\\\\n\t cl01 & cl01\\_01 &  8 & 1 & Sakeena  & al-Hoque & 0 &  0\\\\\n\t cl01 & cl01\\_01 &  9 & 1 & Sakeena  & al-Hoque & 0 &  0\\\\\n\t cl01 & cl01\\_01 & 10 & 1 & Sakeena  & al-Hoque & 0 &  1\\\\\n\t cl01 & cl01\\_01 & 11 & 1 & Sakeena  & al-Hoque & 1 &  0\\\\\n\t cl01 & cl01\\_01 & 12 & 0 & Sakeena  & al-Hoque & 1 &  0\\\\\n\t cl01 & cl01\\_02 &  1 & 1 & Mitchell & Gonzales & 0 & NA\\\\\n\t cl01 & cl01\\_02 &  2 & 1 & Mitchelv & Gonzales & 0 &  0\\\\\n\t cl01 & cl01\\_02 &  3 & 1 & Mitchell & Gonzales & 0 &  0\\\\\n\t cl01 & cl01\\_02 &  4 & 1 & Mitchell & Gonzales & 0 &  1\\\\\n\t cl01 & cl01\\_02 &  5 & 1 & Mitchell & Gonzales & 0 &  0\\\\\n\t cl01 & cl01\\_02 &  6 & 1 & Mitchell & Gonzales & 0 &  0\\\\\n\t cl01 & cl01\\_02 &  7 & 1 & Mitchell & Gonzales & 0 &  1\\\\\n\t cl01 & cl01\\_02 &  8 & 1 & Mitchell & Gonzales & 0 &  0\\\\\n\t cl01 & cl01\\_02 &  9 & 1 & Mitchell & Gonzales & 0 &  0\\\\\n\t cl01 & cl01\\_02 & 10 & 1 & Mitchell & Gonzales & 0 &  0\\\\\n\t cl01 & cl01\\_02 & 11 & 1 & Mitchell & Gonzales & 0 &  0\\\\\n\t cl01 & cl01\\_02 & 12 & 1 & Mitchell & Gonzales & 0 &  0\\\\\n\t cl01 & cl01\\_03 &  1 & 1 & Anthony  & Simmons  & 0 &  1\\\\\n\t cl01 & cl01\\_03 &  2 & 1 & Anthony  & Simmons  & 0 &  0\\\\\n\t cl01 & cl01\\_03 &  3 & 1 & Anthony  & Simmons  & 0 &  0\\\\\n\t cl01 & cl01\\_03 &  4 & 1 & Anthony  & Simmons  & 0 &  0\\\\\n\t cl01 & cl01\\_03 &  5 & 1 & Anthony  & Simmons  & 1 &  0\\\\\n\t cl01 & cl01\\_03 &  6 & 1 & Anthony  & Simmons  & 0 &  1\\\\\n\t ⋮ & ⋮ & ⋮ & ⋮ & ⋮ & ⋮ & ⋮ & ⋮\\\\\n\t cl20 & cl20\\_36 &  7 & 0 & Michael  & Sisneros     & 0 & 1\\\\\n\t cl20 & cl20\\_36 &  8 & 1 & Michael  & Sisneros     & 1 & 0\\\\\n\t cl20 & cl20\\_36 &  9 & 1 & Michael  & Sisneros     & 1 & 1\\\\\n\t cl20 & cl20\\_36 & 10 & 1 & Michael  & Sisneros     & 1 & 1\\\\\n\t cl20 & cl20\\_36 & 11 & 1 & Michael  & Sisneros     & 0 & 1\\\\\n\t cl20 & cl20\\_36 & 12 & 1 & Michael  & Sisneros     & 1 & 0\\\\\n\t cl20 & cl20\\_37 &  1 & 1 & Talayshi & Cooper-Moore & 1 & 1\\\\\n\t cl20 & cl20\\_37 &  2 & 1 & Talayshi & Cooper-Moore & 0 & 0\\\\\n\t cl20 & cl20\\_37 &  3 & 1 & Talayshi & Cooper-Moore & 0 & 1\\\\\n\t cl20 & cl20\\_37 &  4 & 1 & Talayshi & Cooper-Moore & 0 & 1\\\\\n\t cl20 & cl20\\_37 &  5 & 1 & Talayshi & Cooper-Moore & 0 & 0\\\\\n\t cl20 & cl20\\_37 &  6 & 1 & Talayshi & Cooper-Moore & 0 & 0\\\\\n\t cl20 & cl20\\_37 &  7 & 0 & Talayshi & Cooper-Moore & 0 & 0\\\\\n\t cl20 & cl20\\_37 &  8 & 1 & Talayshi & Cooper-Moore & 0 & 0\\\\\n\t cl20 & cl20\\_37 &  9 & 1 & Talayshi & Cooper-Moore & 1 & 1\\\\\n\t cl20 & cl20\\_37 & 10 & 1 & Talayshi & Cooper-Moore & 0 & 0\\\\\n\t cl20 & cl20\\_37 & 11 & 1 & Talayshi & Cooper-Moore & 0 & 0\\\\\n\t cl20 & cl20\\_37 & 12 & 1 & Talayshi & Cooper-Moore & 1 & 0\\\\\n\t cl20 & cl20\\_38 &  1 & 1 & Madison  & Hatton       & 1 & 1\\\\\n\t cl20 & cl20\\_38 &  2 & 1 & Madison  & Hatton       & 0 & 0\\\\\n\t cl20 & cl20\\_38 &  3 & 1 & Madison  & Hatton       & 0 & 0\\\\\n\t cl20 & cl20\\_38 &  4 & 1 & Madison  & Hatton       & 1 & 1\\\\\n\t cl20 & cl20\\_38 &  5 & 1 & Madison  & Hatton       & 0 & 1\\\\\n\t cl20 & cl20\\_38 &  6 & 1 & Madison  & Hatton       & 0 & 0\\\\\n\t cl20 & cl20\\_38 &  7 & 1 & Madison  & Hatton       & 0 & 1\\\\\n\t cl20 & cl20\\_38 &  8 & 1 & Madison  & Hatton       & 0 & 0\\\\\n\t cl20 & cl20\\_38 &  9 & 1 & Madison  & Hatton       & 0 & 0\\\\\n\t cl20 & cl20\\_38 & 10 & 1 & Madison  & Hatton       & 0 & 0\\\\\n\t cl20 & cl20\\_38 & 11 & 1 & Madison  & Hatton       & 0 & 0\\\\\n\t cl20 & cl20\\_38 & 12 & 1 & Madison  & Hatton       & 0 & 1\\\\\n\\end{tabular}\n",
            "text/plain": [
              "     cluster_id cohort_id visit avail name_f   name_l       symp rdt\n",
              "1    cl01       cl01_01    1    1     Sakeena  al-Hoque     0     0 \n",
              "2    cl01       cl01_01    2    1     Sakeena  al-Hoque     0     0 \n",
              "3    cl01       cl01_01    3    0     Sakeena  al-Hoque     0     0 \n",
              "4    cl01       cl01_01    4    0     Sakeena  al-Hoque     0     1 \n",
              "5    cl01       cl01_01    5    1     Sakeena  al-Hoque     0     0 \n",
              "6    cl01       cl01_01    6    1     Sakeena  al-Hoque     1     1 \n",
              "7    cl01       cl01_01    7    1     Sakeena  al-Hoque     0     0 \n",
              "8    cl01       cl01_01    8    1     Sakeena  al-Hoque     0     0 \n",
              "9    cl01       cl01_01    9    1     Sakeena  al-Hoque     0     0 \n",
              "10   cl01       cl01_01   10    1     Sakeena  al-Hoque     0     1 \n",
              "11   cl01       cl01_01   11    1     Sakeena  al-Hoque     1     0 \n",
              "12   cl01       cl01_01   12    0     Sakeena  al-Hoque     1     0 \n",
              "13   cl01       cl01_02    1    1     Mitchell Gonzales     0    NA \n",
              "14   cl01       cl01_02    2    1     Mitchelv Gonzales     0     0 \n",
              "15   cl01       cl01_02    3    1     Mitchell Gonzales     0     0 \n",
              "16   cl01       cl01_02    4    1     Mitchell Gonzales     0     1 \n",
              "17   cl01       cl01_02    5    1     Mitchell Gonzales     0     0 \n",
              "18   cl01       cl01_02    6    1     Mitchell Gonzales     0     0 \n",
              "19   cl01       cl01_02    7    1     Mitchell Gonzales     0     1 \n",
              "20   cl01       cl01_02    8    1     Mitchell Gonzales     0     0 \n",
              "21   cl01       cl01_02    9    1     Mitchell Gonzales     0     0 \n",
              "22   cl01       cl01_02   10    1     Mitchell Gonzales     0     0 \n",
              "23   cl01       cl01_02   11    1     Mitchell Gonzales     0     0 \n",
              "24   cl01       cl01_02   12    1     Mitchell Gonzales     0     0 \n",
              "25   cl01       cl01_03    1    1     Anthony  Simmons      0     1 \n",
              "26   cl01       cl01_03    2    1     Anthony  Simmons      0     0 \n",
              "27   cl01       cl01_03    3    1     Anthony  Simmons      0     0 \n",
              "28   cl01       cl01_03    4    1     Anthony  Simmons      0     0 \n",
              "29   cl01       cl01_03    5    1     Anthony  Simmons      1     0 \n",
              "30   cl01       cl01_03    6    1     Anthony  Simmons      0     1 \n",
              "⋮    ⋮          ⋮         ⋮     ⋮     ⋮        ⋮            ⋮    ⋮  \n",
              "9066 cl20       cl20_36    7    0     Michael  Sisneros     0    1  \n",
              "9067 cl20       cl20_36    8    1     Michael  Sisneros     1    0  \n",
              "9068 cl20       cl20_36    9    1     Michael  Sisneros     1    1  \n",
              "9069 cl20       cl20_36   10    1     Michael  Sisneros     1    1  \n",
              "9070 cl20       cl20_36   11    1     Michael  Sisneros     0    1  \n",
              "9071 cl20       cl20_36   12    1     Michael  Sisneros     1    0  \n",
              "9072 cl20       cl20_37    1    1     Talayshi Cooper-Moore 1    1  \n",
              "9073 cl20       cl20_37    2    1     Talayshi Cooper-Moore 0    0  \n",
              "9074 cl20       cl20_37    3    1     Talayshi Cooper-Moore 0    1  \n",
              "9075 cl20       cl20_37    4    1     Talayshi Cooper-Moore 0    1  \n",
              "9076 cl20       cl20_37    5    1     Talayshi Cooper-Moore 0    0  \n",
              "9077 cl20       cl20_37    6    1     Talayshi Cooper-Moore 0    0  \n",
              "9078 cl20       cl20_37    7    0     Talayshi Cooper-Moore 0    0  \n",
              "9079 cl20       cl20_37    8    1     Talayshi Cooper-Moore 0    0  \n",
              "9080 cl20       cl20_37    9    1     Talayshi Cooper-Moore 1    1  \n",
              "9081 cl20       cl20_37   10    1     Talayshi Cooper-Moore 0    0  \n",
              "9082 cl20       cl20_37   11    1     Talayshi Cooper-Moore 0    0  \n",
              "9083 cl20       cl20_37   12    1     Talayshi Cooper-Moore 1    0  \n",
              "9084 cl20       cl20_38    1    1     Madison  Hatton       1    1  \n",
              "9085 cl20       cl20_38    2    1     Madison  Hatton       0    0  \n",
              "9086 cl20       cl20_38    3    1     Madison  Hatton       0    0  \n",
              "9087 cl20       cl20_38    4    1     Madison  Hatton       1    1  \n",
              "9088 cl20       cl20_38    5    1     Madison  Hatton       0    1  \n",
              "9089 cl20       cl20_38    6    1     Madison  Hatton       0    0  \n",
              "9090 cl20       cl20_38    7    1     Madison  Hatton       0    1  \n",
              "9091 cl20       cl20_38    8    1     Madison  Hatton       0    0  \n",
              "9092 cl20       cl20_38    9    1     Madison  Hatton       0    0  \n",
              "9093 cl20       cl20_38   10    1     Madison  Hatton       0    0  \n",
              "9094 cl20       cl20_38   11    1     Madison  Hatton       0    0  \n",
              "9095 cl20       cl20_38   12    1     Madison  Hatton       0    1  "
            ]
          },
          "metadata": {}
        }
      ],
      "source": [
        "df_raw <- read.csv(\"./data_cohort_raw.csv\")\n",
        "df_raw"
      ]
    },
    {
      "cell_type": "markdown",
      "source": [
        "We need the results regarding clinical malaria\n",
        "\n",
        "= symptoms + RDT positive\n"
      ],
      "metadata": {
        "id": "YJwR9Fu8li0q"
      }
    },
    {
      "cell_type": "code",
      "execution_count": 36,
      "metadata": {
        "id": "NAXmufPDDYlH"
      },
      "outputs": [],
      "source": [
        "df_raw2 <- df_raw %>%\n",
        "    mutate(outcome = ifelse(rdt == 1 & symp == 1, 1, 0))"
      ]
    },
    {
      "cell_type": "code",
      "execution_count": 37,
      "metadata": {
        "scrolled": true,
        "id": "IrJII5J1DYlH",
        "outputId": "eae9c1d5-2066-43ea-eadf-dce7902a69ba",
        "colab": {
          "base_uri": "https://localhost:8080/",
          "height": 1000
        }
      },
      "outputs": [
        {
          "output_type": "display_data",
          "data": {
            "text/html": [
              "<table class=\"dataframe\">\n",
              "<caption>A data.frame: 9095 × 9</caption>\n",
              "<thead>\n",
              "\t<tr><th scope=col>cluster_id</th><th scope=col>cohort_id</th><th scope=col>visit</th><th scope=col>avail</th><th scope=col>name_f</th><th scope=col>name_l</th><th scope=col>symp</th><th scope=col>rdt</th><th scope=col>outcome</th></tr>\n",
              "\t<tr><th scope=col>&lt;chr&gt;</th><th scope=col>&lt;chr&gt;</th><th scope=col>&lt;int&gt;</th><th scope=col>&lt;int&gt;</th><th scope=col>&lt;chr&gt;</th><th scope=col>&lt;chr&gt;</th><th scope=col>&lt;int&gt;</th><th scope=col>&lt;int&gt;</th><th scope=col>&lt;dbl&gt;</th></tr>\n",
              "</thead>\n",
              "<tbody>\n",
              "\t<tr><td>cl01</td><td>cl01_01</td><td> 1</td><td>1</td><td>Sakeena </td><td>al-Hoque</td><td>0</td><td> 0</td><td>0</td></tr>\n",
              "\t<tr><td>cl01</td><td>cl01_01</td><td> 2</td><td>1</td><td>Sakeena </td><td>al-Hoque</td><td>0</td><td> 0</td><td>0</td></tr>\n",
              "\t<tr><td>cl01</td><td>cl01_01</td><td> 3</td><td>0</td><td>Sakeena </td><td>al-Hoque</td><td>0</td><td> 0</td><td>0</td></tr>\n",
              "\t<tr><td>cl01</td><td>cl01_01</td><td> 4</td><td>0</td><td>Sakeena </td><td>al-Hoque</td><td>0</td><td> 1</td><td>0</td></tr>\n",
              "\t<tr><td>cl01</td><td>cl01_01</td><td> 5</td><td>1</td><td>Sakeena </td><td>al-Hoque</td><td>0</td><td> 0</td><td>0</td></tr>\n",
              "\t<tr><td>cl01</td><td>cl01_01</td><td> 6</td><td>1</td><td>Sakeena </td><td>al-Hoque</td><td>1</td><td> 1</td><td>1</td></tr>\n",
              "\t<tr><td>cl01</td><td>cl01_01</td><td> 7</td><td>1</td><td>Sakeena </td><td>al-Hoque</td><td>0</td><td> 0</td><td>0</td></tr>\n",
              "\t<tr><td>cl01</td><td>cl01_01</td><td> 8</td><td>1</td><td>Sakeena </td><td>al-Hoque</td><td>0</td><td> 0</td><td>0</td></tr>\n",
              "\t<tr><td>cl01</td><td>cl01_01</td><td> 9</td><td>1</td><td>Sakeena </td><td>al-Hoque</td><td>0</td><td> 0</td><td>0</td></tr>\n",
              "\t<tr><td>cl01</td><td>cl01_01</td><td>10</td><td>1</td><td>Sakeena </td><td>al-Hoque</td><td>0</td><td> 1</td><td>0</td></tr>\n",
              "\t<tr><td>cl01</td><td>cl01_01</td><td>11</td><td>1</td><td>Sakeena </td><td>al-Hoque</td><td>1</td><td> 0</td><td>0</td></tr>\n",
              "\t<tr><td>cl01</td><td>cl01_01</td><td>12</td><td>0</td><td>Sakeena </td><td>al-Hoque</td><td>1</td><td> 0</td><td>0</td></tr>\n",
              "\t<tr><td>cl01</td><td>cl01_02</td><td> 1</td><td>1</td><td>Mitchell</td><td>Gonzales</td><td>0</td><td>NA</td><td>0</td></tr>\n",
              "\t<tr><td>cl01</td><td>cl01_02</td><td> 2</td><td>1</td><td>Mitchelv</td><td>Gonzales</td><td>0</td><td> 0</td><td>0</td></tr>\n",
              "\t<tr><td>cl01</td><td>cl01_02</td><td> 3</td><td>1</td><td>Mitchell</td><td>Gonzales</td><td>0</td><td> 0</td><td>0</td></tr>\n",
              "\t<tr><td>cl01</td><td>cl01_02</td><td> 4</td><td>1</td><td>Mitchell</td><td>Gonzales</td><td>0</td><td> 1</td><td>0</td></tr>\n",
              "\t<tr><td>cl01</td><td>cl01_02</td><td> 5</td><td>1</td><td>Mitchell</td><td>Gonzales</td><td>0</td><td> 0</td><td>0</td></tr>\n",
              "\t<tr><td>cl01</td><td>cl01_02</td><td> 6</td><td>1</td><td>Mitchell</td><td>Gonzales</td><td>0</td><td> 0</td><td>0</td></tr>\n",
              "\t<tr><td>cl01</td><td>cl01_02</td><td> 7</td><td>1</td><td>Mitchell</td><td>Gonzales</td><td>0</td><td> 1</td><td>0</td></tr>\n",
              "\t<tr><td>cl01</td><td>cl01_02</td><td> 8</td><td>1</td><td>Mitchell</td><td>Gonzales</td><td>0</td><td> 0</td><td>0</td></tr>\n",
              "\t<tr><td>cl01</td><td>cl01_02</td><td> 9</td><td>1</td><td>Mitchell</td><td>Gonzales</td><td>0</td><td> 0</td><td>0</td></tr>\n",
              "\t<tr><td>cl01</td><td>cl01_02</td><td>10</td><td>1</td><td>Mitchell</td><td>Gonzales</td><td>0</td><td> 0</td><td>0</td></tr>\n",
              "\t<tr><td>cl01</td><td>cl01_02</td><td>11</td><td>1</td><td>Mitchell</td><td>Gonzales</td><td>0</td><td> 0</td><td>0</td></tr>\n",
              "\t<tr><td>cl01</td><td>cl01_02</td><td>12</td><td>1</td><td>Mitchell</td><td>Gonzales</td><td>0</td><td> 0</td><td>0</td></tr>\n",
              "\t<tr><td>cl01</td><td>cl01_03</td><td> 1</td><td>1</td><td>Anthony </td><td>Simmons </td><td>0</td><td> 1</td><td>0</td></tr>\n",
              "\t<tr><td>cl01</td><td>cl01_03</td><td> 2</td><td>1</td><td>Anthony </td><td>Simmons </td><td>0</td><td> 0</td><td>0</td></tr>\n",
              "\t<tr><td>cl01</td><td>cl01_03</td><td> 3</td><td>1</td><td>Anthony </td><td>Simmons </td><td>0</td><td> 0</td><td>0</td></tr>\n",
              "\t<tr><td>cl01</td><td>cl01_03</td><td> 4</td><td>1</td><td>Anthony </td><td>Simmons </td><td>0</td><td> 0</td><td>0</td></tr>\n",
              "\t<tr><td>cl01</td><td>cl01_03</td><td> 5</td><td>1</td><td>Anthony </td><td>Simmons </td><td>1</td><td> 0</td><td>0</td></tr>\n",
              "\t<tr><td>cl01</td><td>cl01_03</td><td> 6</td><td>1</td><td>Anthony </td><td>Simmons </td><td>0</td><td> 1</td><td>0</td></tr>\n",
              "\t<tr><td>⋮</td><td>⋮</td><td>⋮</td><td>⋮</td><td>⋮</td><td>⋮</td><td>⋮</td><td>⋮</td><td>⋮</td></tr>\n",
              "\t<tr><td>cl20</td><td>cl20_36</td><td> 7</td><td>0</td><td>Michael </td><td>Sisneros    </td><td>0</td><td>1</td><td>0</td></tr>\n",
              "\t<tr><td>cl20</td><td>cl20_36</td><td> 8</td><td>1</td><td>Michael </td><td>Sisneros    </td><td>1</td><td>0</td><td>0</td></tr>\n",
              "\t<tr><td>cl20</td><td>cl20_36</td><td> 9</td><td>1</td><td>Michael </td><td>Sisneros    </td><td>1</td><td>1</td><td>1</td></tr>\n",
              "\t<tr><td>cl20</td><td>cl20_36</td><td>10</td><td>1</td><td>Michael </td><td>Sisneros    </td><td>1</td><td>1</td><td>1</td></tr>\n",
              "\t<tr><td>cl20</td><td>cl20_36</td><td>11</td><td>1</td><td>Michael </td><td>Sisneros    </td><td>0</td><td>1</td><td>0</td></tr>\n",
              "\t<tr><td>cl20</td><td>cl20_36</td><td>12</td><td>1</td><td>Michael </td><td>Sisneros    </td><td>1</td><td>0</td><td>0</td></tr>\n",
              "\t<tr><td>cl20</td><td>cl20_37</td><td> 1</td><td>1</td><td>Talayshi</td><td>Cooper-Moore</td><td>1</td><td>1</td><td>1</td></tr>\n",
              "\t<tr><td>cl20</td><td>cl20_37</td><td> 2</td><td>1</td><td>Talayshi</td><td>Cooper-Moore</td><td>0</td><td>0</td><td>0</td></tr>\n",
              "\t<tr><td>cl20</td><td>cl20_37</td><td> 3</td><td>1</td><td>Talayshi</td><td>Cooper-Moore</td><td>0</td><td>1</td><td>0</td></tr>\n",
              "\t<tr><td>cl20</td><td>cl20_37</td><td> 4</td><td>1</td><td>Talayshi</td><td>Cooper-Moore</td><td>0</td><td>1</td><td>0</td></tr>\n",
              "\t<tr><td>cl20</td><td>cl20_37</td><td> 5</td><td>1</td><td>Talayshi</td><td>Cooper-Moore</td><td>0</td><td>0</td><td>0</td></tr>\n",
              "\t<tr><td>cl20</td><td>cl20_37</td><td> 6</td><td>1</td><td>Talayshi</td><td>Cooper-Moore</td><td>0</td><td>0</td><td>0</td></tr>\n",
              "\t<tr><td>cl20</td><td>cl20_37</td><td> 7</td><td>0</td><td>Talayshi</td><td>Cooper-Moore</td><td>0</td><td>0</td><td>0</td></tr>\n",
              "\t<tr><td>cl20</td><td>cl20_37</td><td> 8</td><td>1</td><td>Talayshi</td><td>Cooper-Moore</td><td>0</td><td>0</td><td>0</td></tr>\n",
              "\t<tr><td>cl20</td><td>cl20_37</td><td> 9</td><td>1</td><td>Talayshi</td><td>Cooper-Moore</td><td>1</td><td>1</td><td>1</td></tr>\n",
              "\t<tr><td>cl20</td><td>cl20_37</td><td>10</td><td>1</td><td>Talayshi</td><td>Cooper-Moore</td><td>0</td><td>0</td><td>0</td></tr>\n",
              "\t<tr><td>cl20</td><td>cl20_37</td><td>11</td><td>1</td><td>Talayshi</td><td>Cooper-Moore</td><td>0</td><td>0</td><td>0</td></tr>\n",
              "\t<tr><td>cl20</td><td>cl20_37</td><td>12</td><td>1</td><td>Talayshi</td><td>Cooper-Moore</td><td>1</td><td>0</td><td>0</td></tr>\n",
              "\t<tr><td>cl20</td><td>cl20_38</td><td> 1</td><td>1</td><td>Madison </td><td>Hatton      </td><td>1</td><td>1</td><td>1</td></tr>\n",
              "\t<tr><td>cl20</td><td>cl20_38</td><td> 2</td><td>1</td><td>Madison </td><td>Hatton      </td><td>0</td><td>0</td><td>0</td></tr>\n",
              "\t<tr><td>cl20</td><td>cl20_38</td><td> 3</td><td>1</td><td>Madison </td><td>Hatton      </td><td>0</td><td>0</td><td>0</td></tr>\n",
              "\t<tr><td>cl20</td><td>cl20_38</td><td> 4</td><td>1</td><td>Madison </td><td>Hatton      </td><td>1</td><td>1</td><td>1</td></tr>\n",
              "\t<tr><td>cl20</td><td>cl20_38</td><td> 5</td><td>1</td><td>Madison </td><td>Hatton      </td><td>0</td><td>1</td><td>0</td></tr>\n",
              "\t<tr><td>cl20</td><td>cl20_38</td><td> 6</td><td>1</td><td>Madison </td><td>Hatton      </td><td>0</td><td>0</td><td>0</td></tr>\n",
              "\t<tr><td>cl20</td><td>cl20_38</td><td> 7</td><td>1</td><td>Madison </td><td>Hatton      </td><td>0</td><td>1</td><td>0</td></tr>\n",
              "\t<tr><td>cl20</td><td>cl20_38</td><td> 8</td><td>1</td><td>Madison </td><td>Hatton      </td><td>0</td><td>0</td><td>0</td></tr>\n",
              "\t<tr><td>cl20</td><td>cl20_38</td><td> 9</td><td>1</td><td>Madison </td><td>Hatton      </td><td>0</td><td>0</td><td>0</td></tr>\n",
              "\t<tr><td>cl20</td><td>cl20_38</td><td>10</td><td>1</td><td>Madison </td><td>Hatton      </td><td>0</td><td>0</td><td>0</td></tr>\n",
              "\t<tr><td>cl20</td><td>cl20_38</td><td>11</td><td>1</td><td>Madison </td><td>Hatton      </td><td>0</td><td>0</td><td>0</td></tr>\n",
              "\t<tr><td>cl20</td><td>cl20_38</td><td>12</td><td>1</td><td>Madison </td><td>Hatton      </td><td>0</td><td>1</td><td>0</td></tr>\n",
              "</tbody>\n",
              "</table>\n"
            ],
            "text/markdown": "\nA data.frame: 9095 × 9\n\n| cluster_id &lt;chr&gt; | cohort_id &lt;chr&gt; | visit &lt;int&gt; | avail &lt;int&gt; | name_f &lt;chr&gt; | name_l &lt;chr&gt; | symp &lt;int&gt; | rdt &lt;int&gt; | outcome &lt;dbl&gt; |\n|---|---|---|---|---|---|---|---|---|\n| cl01 | cl01_01 |  1 | 1 | Sakeena  | al-Hoque | 0 |  0 | 0 |\n| cl01 | cl01_01 |  2 | 1 | Sakeena  | al-Hoque | 0 |  0 | 0 |\n| cl01 | cl01_01 |  3 | 0 | Sakeena  | al-Hoque | 0 |  0 | 0 |\n| cl01 | cl01_01 |  4 | 0 | Sakeena  | al-Hoque | 0 |  1 | 0 |\n| cl01 | cl01_01 |  5 | 1 | Sakeena  | al-Hoque | 0 |  0 | 0 |\n| cl01 | cl01_01 |  6 | 1 | Sakeena  | al-Hoque | 1 |  1 | 1 |\n| cl01 | cl01_01 |  7 | 1 | Sakeena  | al-Hoque | 0 |  0 | 0 |\n| cl01 | cl01_01 |  8 | 1 | Sakeena  | al-Hoque | 0 |  0 | 0 |\n| cl01 | cl01_01 |  9 | 1 | Sakeena  | al-Hoque | 0 |  0 | 0 |\n| cl01 | cl01_01 | 10 | 1 | Sakeena  | al-Hoque | 0 |  1 | 0 |\n| cl01 | cl01_01 | 11 | 1 | Sakeena  | al-Hoque | 1 |  0 | 0 |\n| cl01 | cl01_01 | 12 | 0 | Sakeena  | al-Hoque | 1 |  0 | 0 |\n| cl01 | cl01_02 |  1 | 1 | Mitchell | Gonzales | 0 | NA | 0 |\n| cl01 | cl01_02 |  2 | 1 | Mitchelv | Gonzales | 0 |  0 | 0 |\n| cl01 | cl01_02 |  3 | 1 | Mitchell | Gonzales | 0 |  0 | 0 |\n| cl01 | cl01_02 |  4 | 1 | Mitchell | Gonzales | 0 |  1 | 0 |\n| cl01 | cl01_02 |  5 | 1 | Mitchell | Gonzales | 0 |  0 | 0 |\n| cl01 | cl01_02 |  6 | 1 | Mitchell | Gonzales | 0 |  0 | 0 |\n| cl01 | cl01_02 |  7 | 1 | Mitchell | Gonzales | 0 |  1 | 0 |\n| cl01 | cl01_02 |  8 | 1 | Mitchell | Gonzales | 0 |  0 | 0 |\n| cl01 | cl01_02 |  9 | 1 | Mitchell | Gonzales | 0 |  0 | 0 |\n| cl01 | cl01_02 | 10 | 1 | Mitchell | Gonzales | 0 |  0 | 0 |\n| cl01 | cl01_02 | 11 | 1 | Mitchell | Gonzales | 0 |  0 | 0 |\n| cl01 | cl01_02 | 12 | 1 | Mitchell | Gonzales | 0 |  0 | 0 |\n| cl01 | cl01_03 |  1 | 1 | Anthony  | Simmons  | 0 |  1 | 0 |\n| cl01 | cl01_03 |  2 | 1 | Anthony  | Simmons  | 0 |  0 | 0 |\n| cl01 | cl01_03 |  3 | 1 | Anthony  | Simmons  | 0 |  0 | 0 |\n| cl01 | cl01_03 |  4 | 1 | Anthony  | Simmons  | 0 |  0 | 0 |\n| cl01 | cl01_03 |  5 | 1 | Anthony  | Simmons  | 1 |  0 | 0 |\n| cl01 | cl01_03 |  6 | 1 | Anthony  | Simmons  | 0 |  1 | 0 |\n| ⋮ | ⋮ | ⋮ | ⋮ | ⋮ | ⋮ | ⋮ | ⋮ | ⋮ |\n| cl20 | cl20_36 |  7 | 0 | Michael  | Sisneros     | 0 | 1 | 0 |\n| cl20 | cl20_36 |  8 | 1 | Michael  | Sisneros     | 1 | 0 | 0 |\n| cl20 | cl20_36 |  9 | 1 | Michael  | Sisneros     | 1 | 1 | 1 |\n| cl20 | cl20_36 | 10 | 1 | Michael  | Sisneros     | 1 | 1 | 1 |\n| cl20 | cl20_36 | 11 | 1 | Michael  | Sisneros     | 0 | 1 | 0 |\n| cl20 | cl20_36 | 12 | 1 | Michael  | Sisneros     | 1 | 0 | 0 |\n| cl20 | cl20_37 |  1 | 1 | Talayshi | Cooper-Moore | 1 | 1 | 1 |\n| cl20 | cl20_37 |  2 | 1 | Talayshi | Cooper-Moore | 0 | 0 | 0 |\n| cl20 | cl20_37 |  3 | 1 | Talayshi | Cooper-Moore | 0 | 1 | 0 |\n| cl20 | cl20_37 |  4 | 1 | Talayshi | Cooper-Moore | 0 | 1 | 0 |\n| cl20 | cl20_37 |  5 | 1 | Talayshi | Cooper-Moore | 0 | 0 | 0 |\n| cl20 | cl20_37 |  6 | 1 | Talayshi | Cooper-Moore | 0 | 0 | 0 |\n| cl20 | cl20_37 |  7 | 0 | Talayshi | Cooper-Moore | 0 | 0 | 0 |\n| cl20 | cl20_37 |  8 | 1 | Talayshi | Cooper-Moore | 0 | 0 | 0 |\n| cl20 | cl20_37 |  9 | 1 | Talayshi | Cooper-Moore | 1 | 1 | 1 |\n| cl20 | cl20_37 | 10 | 1 | Talayshi | Cooper-Moore | 0 | 0 | 0 |\n| cl20 | cl20_37 | 11 | 1 | Talayshi | Cooper-Moore | 0 | 0 | 0 |\n| cl20 | cl20_37 | 12 | 1 | Talayshi | Cooper-Moore | 1 | 0 | 0 |\n| cl20 | cl20_38 |  1 | 1 | Madison  | Hatton       | 1 | 1 | 1 |\n| cl20 | cl20_38 |  2 | 1 | Madison  | Hatton       | 0 | 0 | 0 |\n| cl20 | cl20_38 |  3 | 1 | Madison  | Hatton       | 0 | 0 | 0 |\n| cl20 | cl20_38 |  4 | 1 | Madison  | Hatton       | 1 | 1 | 1 |\n| cl20 | cl20_38 |  5 | 1 | Madison  | Hatton       | 0 | 1 | 0 |\n| cl20 | cl20_38 |  6 | 1 | Madison  | Hatton       | 0 | 0 | 0 |\n| cl20 | cl20_38 |  7 | 1 | Madison  | Hatton       | 0 | 1 | 0 |\n| cl20 | cl20_38 |  8 | 1 | Madison  | Hatton       | 0 | 0 | 0 |\n| cl20 | cl20_38 |  9 | 1 | Madison  | Hatton       | 0 | 0 | 0 |\n| cl20 | cl20_38 | 10 | 1 | Madison  | Hatton       | 0 | 0 | 0 |\n| cl20 | cl20_38 | 11 | 1 | Madison  | Hatton       | 0 | 0 | 0 |\n| cl20 | cl20_38 | 12 | 1 | Madison  | Hatton       | 0 | 1 | 0 |\n\n",
            "text/latex": "A data.frame: 9095 × 9\n\\begin{tabular}{lllllllll}\n cluster\\_id & cohort\\_id & visit & avail & name\\_f & name\\_l & symp & rdt & outcome\\\\\n <chr> & <chr> & <int> & <int> & <chr> & <chr> & <int> & <int> & <dbl>\\\\\n\\hline\n\t cl01 & cl01\\_01 &  1 & 1 & Sakeena  & al-Hoque & 0 &  0 & 0\\\\\n\t cl01 & cl01\\_01 &  2 & 1 & Sakeena  & al-Hoque & 0 &  0 & 0\\\\\n\t cl01 & cl01\\_01 &  3 & 0 & Sakeena  & al-Hoque & 0 &  0 & 0\\\\\n\t cl01 & cl01\\_01 &  4 & 0 & Sakeena  & al-Hoque & 0 &  1 & 0\\\\\n\t cl01 & cl01\\_01 &  5 & 1 & Sakeena  & al-Hoque & 0 &  0 & 0\\\\\n\t cl01 & cl01\\_01 &  6 & 1 & Sakeena  & al-Hoque & 1 &  1 & 1\\\\\n\t cl01 & cl01\\_01 &  7 & 1 & Sakeena  & al-Hoque & 0 &  0 & 0\\\\\n\t cl01 & cl01\\_01 &  8 & 1 & Sakeena  & al-Hoque & 0 &  0 & 0\\\\\n\t cl01 & cl01\\_01 &  9 & 1 & Sakeena  & al-Hoque & 0 &  0 & 0\\\\\n\t cl01 & cl01\\_01 & 10 & 1 & Sakeena  & al-Hoque & 0 &  1 & 0\\\\\n\t cl01 & cl01\\_01 & 11 & 1 & Sakeena  & al-Hoque & 1 &  0 & 0\\\\\n\t cl01 & cl01\\_01 & 12 & 0 & Sakeena  & al-Hoque & 1 &  0 & 0\\\\\n\t cl01 & cl01\\_02 &  1 & 1 & Mitchell & Gonzales & 0 & NA & 0\\\\\n\t cl01 & cl01\\_02 &  2 & 1 & Mitchelv & Gonzales & 0 &  0 & 0\\\\\n\t cl01 & cl01\\_02 &  3 & 1 & Mitchell & Gonzales & 0 &  0 & 0\\\\\n\t cl01 & cl01\\_02 &  4 & 1 & Mitchell & Gonzales & 0 &  1 & 0\\\\\n\t cl01 & cl01\\_02 &  5 & 1 & Mitchell & Gonzales & 0 &  0 & 0\\\\\n\t cl01 & cl01\\_02 &  6 & 1 & Mitchell & Gonzales & 0 &  0 & 0\\\\\n\t cl01 & cl01\\_02 &  7 & 1 & Mitchell & Gonzales & 0 &  1 & 0\\\\\n\t cl01 & cl01\\_02 &  8 & 1 & Mitchell & Gonzales & 0 &  0 & 0\\\\\n\t cl01 & cl01\\_02 &  9 & 1 & Mitchell & Gonzales & 0 &  0 & 0\\\\\n\t cl01 & cl01\\_02 & 10 & 1 & Mitchell & Gonzales & 0 &  0 & 0\\\\\n\t cl01 & cl01\\_02 & 11 & 1 & Mitchell & Gonzales & 0 &  0 & 0\\\\\n\t cl01 & cl01\\_02 & 12 & 1 & Mitchell & Gonzales & 0 &  0 & 0\\\\\n\t cl01 & cl01\\_03 &  1 & 1 & Anthony  & Simmons  & 0 &  1 & 0\\\\\n\t cl01 & cl01\\_03 &  2 & 1 & Anthony  & Simmons  & 0 &  0 & 0\\\\\n\t cl01 & cl01\\_03 &  3 & 1 & Anthony  & Simmons  & 0 &  0 & 0\\\\\n\t cl01 & cl01\\_03 &  4 & 1 & Anthony  & Simmons  & 0 &  0 & 0\\\\\n\t cl01 & cl01\\_03 &  5 & 1 & Anthony  & Simmons  & 1 &  0 & 0\\\\\n\t cl01 & cl01\\_03 &  6 & 1 & Anthony  & Simmons  & 0 &  1 & 0\\\\\n\t ⋮ & ⋮ & ⋮ & ⋮ & ⋮ & ⋮ & ⋮ & ⋮ & ⋮\\\\\n\t cl20 & cl20\\_36 &  7 & 0 & Michael  & Sisneros     & 0 & 1 & 0\\\\\n\t cl20 & cl20\\_36 &  8 & 1 & Michael  & Sisneros     & 1 & 0 & 0\\\\\n\t cl20 & cl20\\_36 &  9 & 1 & Michael  & Sisneros     & 1 & 1 & 1\\\\\n\t cl20 & cl20\\_36 & 10 & 1 & Michael  & Sisneros     & 1 & 1 & 1\\\\\n\t cl20 & cl20\\_36 & 11 & 1 & Michael  & Sisneros     & 0 & 1 & 0\\\\\n\t cl20 & cl20\\_36 & 12 & 1 & Michael  & Sisneros     & 1 & 0 & 0\\\\\n\t cl20 & cl20\\_37 &  1 & 1 & Talayshi & Cooper-Moore & 1 & 1 & 1\\\\\n\t cl20 & cl20\\_37 &  2 & 1 & Talayshi & Cooper-Moore & 0 & 0 & 0\\\\\n\t cl20 & cl20\\_37 &  3 & 1 & Talayshi & Cooper-Moore & 0 & 1 & 0\\\\\n\t cl20 & cl20\\_37 &  4 & 1 & Talayshi & Cooper-Moore & 0 & 1 & 0\\\\\n\t cl20 & cl20\\_37 &  5 & 1 & Talayshi & Cooper-Moore & 0 & 0 & 0\\\\\n\t cl20 & cl20\\_37 &  6 & 1 & Talayshi & Cooper-Moore & 0 & 0 & 0\\\\\n\t cl20 & cl20\\_37 &  7 & 0 & Talayshi & Cooper-Moore & 0 & 0 & 0\\\\\n\t cl20 & cl20\\_37 &  8 & 1 & Talayshi & Cooper-Moore & 0 & 0 & 0\\\\\n\t cl20 & cl20\\_37 &  9 & 1 & Talayshi & Cooper-Moore & 1 & 1 & 1\\\\\n\t cl20 & cl20\\_37 & 10 & 1 & Talayshi & Cooper-Moore & 0 & 0 & 0\\\\\n\t cl20 & cl20\\_37 & 11 & 1 & Talayshi & Cooper-Moore & 0 & 0 & 0\\\\\n\t cl20 & cl20\\_37 & 12 & 1 & Talayshi & Cooper-Moore & 1 & 0 & 0\\\\\n\t cl20 & cl20\\_38 &  1 & 1 & Madison  & Hatton       & 1 & 1 & 1\\\\\n\t cl20 & cl20\\_38 &  2 & 1 & Madison  & Hatton       & 0 & 0 & 0\\\\\n\t cl20 & cl20\\_38 &  3 & 1 & Madison  & Hatton       & 0 & 0 & 0\\\\\n\t cl20 & cl20\\_38 &  4 & 1 & Madison  & Hatton       & 1 & 1 & 1\\\\\n\t cl20 & cl20\\_38 &  5 & 1 & Madison  & Hatton       & 0 & 1 & 0\\\\\n\t cl20 & cl20\\_38 &  6 & 1 & Madison  & Hatton       & 0 & 0 & 0\\\\\n\t cl20 & cl20\\_38 &  7 & 1 & Madison  & Hatton       & 0 & 1 & 0\\\\\n\t cl20 & cl20\\_38 &  8 & 1 & Madison  & Hatton       & 0 & 0 & 0\\\\\n\t cl20 & cl20\\_38 &  9 & 1 & Madison  & Hatton       & 0 & 0 & 0\\\\\n\t cl20 & cl20\\_38 & 10 & 1 & Madison  & Hatton       & 0 & 0 & 0\\\\\n\t cl20 & cl20\\_38 & 11 & 1 & Madison  & Hatton       & 0 & 0 & 0\\\\\n\t cl20 & cl20\\_38 & 12 & 1 & Madison  & Hatton       & 0 & 1 & 0\\\\\n\\end{tabular}\n",
            "text/plain": [
              "     cluster_id cohort_id visit avail name_f   name_l       symp rdt outcome\n",
              "1    cl01       cl01_01    1    1     Sakeena  al-Hoque     0     0  0      \n",
              "2    cl01       cl01_01    2    1     Sakeena  al-Hoque     0     0  0      \n",
              "3    cl01       cl01_01    3    0     Sakeena  al-Hoque     0     0  0      \n",
              "4    cl01       cl01_01    4    0     Sakeena  al-Hoque     0     1  0      \n",
              "5    cl01       cl01_01    5    1     Sakeena  al-Hoque     0     0  0      \n",
              "6    cl01       cl01_01    6    1     Sakeena  al-Hoque     1     1  1      \n",
              "7    cl01       cl01_01    7    1     Sakeena  al-Hoque     0     0  0      \n",
              "8    cl01       cl01_01    8    1     Sakeena  al-Hoque     0     0  0      \n",
              "9    cl01       cl01_01    9    1     Sakeena  al-Hoque     0     0  0      \n",
              "10   cl01       cl01_01   10    1     Sakeena  al-Hoque     0     1  0      \n",
              "11   cl01       cl01_01   11    1     Sakeena  al-Hoque     1     0  0      \n",
              "12   cl01       cl01_01   12    0     Sakeena  al-Hoque     1     0  0      \n",
              "13   cl01       cl01_02    1    1     Mitchell Gonzales     0    NA  0      \n",
              "14   cl01       cl01_02    2    1     Mitchelv Gonzales     0     0  0      \n",
              "15   cl01       cl01_02    3    1     Mitchell Gonzales     0     0  0      \n",
              "16   cl01       cl01_02    4    1     Mitchell Gonzales     0     1  0      \n",
              "17   cl01       cl01_02    5    1     Mitchell Gonzales     0     0  0      \n",
              "18   cl01       cl01_02    6    1     Mitchell Gonzales     0     0  0      \n",
              "19   cl01       cl01_02    7    1     Mitchell Gonzales     0     1  0      \n",
              "20   cl01       cl01_02    8    1     Mitchell Gonzales     0     0  0      \n",
              "21   cl01       cl01_02    9    1     Mitchell Gonzales     0     0  0      \n",
              "22   cl01       cl01_02   10    1     Mitchell Gonzales     0     0  0      \n",
              "23   cl01       cl01_02   11    1     Mitchell Gonzales     0     0  0      \n",
              "24   cl01       cl01_02   12    1     Mitchell Gonzales     0     0  0      \n",
              "25   cl01       cl01_03    1    1     Anthony  Simmons      0     1  0      \n",
              "26   cl01       cl01_03    2    1     Anthony  Simmons      0     0  0      \n",
              "27   cl01       cl01_03    3    1     Anthony  Simmons      0     0  0      \n",
              "28   cl01       cl01_03    4    1     Anthony  Simmons      0     0  0      \n",
              "29   cl01       cl01_03    5    1     Anthony  Simmons      1     0  0      \n",
              "30   cl01       cl01_03    6    1     Anthony  Simmons      0     1  0      \n",
              "⋮    ⋮          ⋮         ⋮     ⋮     ⋮        ⋮            ⋮    ⋮   ⋮      \n",
              "9066 cl20       cl20_36    7    0     Michael  Sisneros     0    1   0      \n",
              "9067 cl20       cl20_36    8    1     Michael  Sisneros     1    0   0      \n",
              "9068 cl20       cl20_36    9    1     Michael  Sisneros     1    1   1      \n",
              "9069 cl20       cl20_36   10    1     Michael  Sisneros     1    1   1      \n",
              "9070 cl20       cl20_36   11    1     Michael  Sisneros     0    1   0      \n",
              "9071 cl20       cl20_36   12    1     Michael  Sisneros     1    0   0      \n",
              "9072 cl20       cl20_37    1    1     Talayshi Cooper-Moore 1    1   1      \n",
              "9073 cl20       cl20_37    2    1     Talayshi Cooper-Moore 0    0   0      \n",
              "9074 cl20       cl20_37    3    1     Talayshi Cooper-Moore 0    1   0      \n",
              "9075 cl20       cl20_37    4    1     Talayshi Cooper-Moore 0    1   0      \n",
              "9076 cl20       cl20_37    5    1     Talayshi Cooper-Moore 0    0   0      \n",
              "9077 cl20       cl20_37    6    1     Talayshi Cooper-Moore 0    0   0      \n",
              "9078 cl20       cl20_37    7    0     Talayshi Cooper-Moore 0    0   0      \n",
              "9079 cl20       cl20_37    8    1     Talayshi Cooper-Moore 0    0   0      \n",
              "9080 cl20       cl20_37    9    1     Talayshi Cooper-Moore 1    1   1      \n",
              "9081 cl20       cl20_37   10    1     Talayshi Cooper-Moore 0    0   0      \n",
              "9082 cl20       cl20_37   11    1     Talayshi Cooper-Moore 0    0   0      \n",
              "9083 cl20       cl20_37   12    1     Talayshi Cooper-Moore 1    0   0      \n",
              "9084 cl20       cl20_38    1    1     Madison  Hatton       1    1   1      \n",
              "9085 cl20       cl20_38    2    1     Madison  Hatton       0    0   0      \n",
              "9086 cl20       cl20_38    3    1     Madison  Hatton       0    0   0      \n",
              "9087 cl20       cl20_38    4    1     Madison  Hatton       1    1   1      \n",
              "9088 cl20       cl20_38    5    1     Madison  Hatton       0    1   0      \n",
              "9089 cl20       cl20_38    6    1     Madison  Hatton       0    0   0      \n",
              "9090 cl20       cl20_38    7    1     Madison  Hatton       0    1   0      \n",
              "9091 cl20       cl20_38    8    1     Madison  Hatton       0    0   0      \n",
              "9092 cl20       cl20_38    9    1     Madison  Hatton       0    0   0      \n",
              "9093 cl20       cl20_38   10    1     Madison  Hatton       0    0   0      \n",
              "9094 cl20       cl20_38   11    1     Madison  Hatton       0    0   0      \n",
              "9095 cl20       cl20_38   12    1     Madison  Hatton       0    1   0      "
            ]
          },
          "metadata": {}
        }
      ],
      "source": [
        "df_raw2"
      ]
    },
    {
      "cell_type": "code",
      "execution_count": 38,
      "metadata": {
        "id": "32RGfO9PDYlH"
      },
      "outputs": [],
      "source": [
        "df_raw_count <- df_raw2 %>%\n",
        "    group_by(cohort_id) %>%\n",
        "    summarise(\n",
        "    num_pos = sum(outcome,na.rm=T),\n",
        "    total_visit = sum(avail)\n",
        "  )"
      ]
    },
    {
      "cell_type": "markdown",
      "source": [
        "\n",
        "\n",
        "\n",
        "*   Combine with the baseline covariates\n",
        "*   Calcluate incidence rate per person-year\n",
        "\n"
      ],
      "metadata": {
        "id": "51-BimfClxJX"
      }
    },
    {
      "cell_type": "code",
      "execution_count": 39,
      "metadata": {
        "id": "DVltxtKcDYlH",
        "outputId": "438baac4-3c9f-4b73-c51b-efcb788dc583",
        "colab": {
          "base_uri": "https://localhost:8080/"
        }
      },
      "outputs": [
        {
          "output_type": "stream",
          "name": "stderr",
          "text": [
            "\u001b[1m\u001b[22mJoining with `by = join_by(cohort_id)`\n"
          ]
        }
      ],
      "source": [
        "df_raw3 <- left_join(df_raw_count, df_baseline) %>%\n",
        "    distinct(cohort_id, .keep_all = T) %>%\n",
        "    mutate(incidence_rate = 12*num_pos/total_visit)"
      ]
    },
    {
      "cell_type": "code",
      "execution_count": 40,
      "metadata": {
        "scrolled": true,
        "id": "VnBJ9_ziDYlH",
        "outputId": "7152d3a4-7655-4f81-c203-b24a68c0fdcf",
        "colab": {
          "base_uri": "https://localhost:8080/",
          "height": 1000
        }
      },
      "outputs": [
        {
          "output_type": "display_data",
          "data": {
            "text/html": [
              "<table class=\"dataframe\">\n",
              "<caption>A tibble: 760 × 13</caption>\n",
              "<thead>\n",
              "\t<tr><th scope=col>cohort_id</th><th scope=col>num_pos</th><th scope=col>total_visit</th><th scope=col>cluster_id</th><th scope=col>birth</th><th scope=col>age</th><th scope=col>intervention</th><th scope=col>cn</th><th scope=col>non_bn</th><th scope=col>vac</th><th scope=col>age_c</th><th scope=col>rdt</th><th scope=col>incidence_rate</th></tr>\n",
              "\t<tr><th scope=col>&lt;chr&gt;</th><th scope=col>&lt;dbl&gt;</th><th scope=col>&lt;int&gt;</th><th scope=col>&lt;chr&gt;</th><th scope=col>&lt;chr&gt;</th><th scope=col>&lt;int&gt;</th><th scope=col>&lt;int&gt;</th><th scope=col>&lt;int&gt;</th><th scope=col>&lt;int&gt;</th><th scope=col>&lt;int&gt;</th><th scope=col>&lt;int&gt;</th><th scope=col>&lt;int&gt;</th><th scope=col>&lt;dbl&gt;</th></tr>\n",
              "</thead>\n",
              "<tbody>\n",
              "\t<tr><td>cl01_01</td><td>1</td><td> 9</td><td>cl01</td><td>2012-03-26</td><td>13</td><td>1</td><td>1</td><td>0</td><td>0</td><td>0</td><td>0</td><td>1.333333</td></tr>\n",
              "\t<tr><td>cl01_02</td><td>0</td><td>12</td><td>cl01</td><td>2017-01-02</td><td> 8</td><td>1</td><td>1</td><td>0</td><td>0</td><td>0</td><td>1</td><td>0.000000</td></tr>\n",
              "\t<tr><td>cl01_03</td><td>1</td><td>11</td><td>cl01</td><td>2024-08-15</td><td> 0</td><td>1</td><td>1</td><td>0</td><td>0</td><td>1</td><td>0</td><td>1.090909</td></tr>\n",
              "\t<tr><td>cl01_04</td><td>0</td><td>12</td><td>cl01</td><td>2016-10-03</td><td> 8</td><td>1</td><td>1</td><td>0</td><td>0</td><td>0</td><td>0</td><td>0.000000</td></tr>\n",
              "\t<tr><td>cl01_05</td><td>1</td><td>11</td><td>cl01</td><td>2015-09-10</td><td> 9</td><td>1</td><td>1</td><td>0</td><td>0</td><td>0</td><td>0</td><td>1.090909</td></tr>\n",
              "\t<tr><td>cl01_06</td><td>2</td><td>11</td><td>cl01</td><td>2018-08-09</td><td> 6</td><td>1</td><td>1</td><td>0</td><td>1</td><td>0</td><td>0</td><td>2.181818</td></tr>\n",
              "\t<tr><td>cl01_07</td><td>1</td><td>12</td><td>cl01</td><td>2022-05-22</td><td> 2</td><td>1</td><td>1</td><td>0</td><td>1</td><td>1</td><td>0</td><td>1.000000</td></tr>\n",
              "\t<tr><td>cl01_08</td><td>0</td><td>11</td><td>cl01</td><td>2011-07-23</td><td>13</td><td>1</td><td>1</td><td>0</td><td>0</td><td>0</td><td>0</td><td>0.000000</td></tr>\n",
              "\t<tr><td>cl01_09</td><td>0</td><td>12</td><td>cl01</td><td>2021-01-02</td><td> 4</td><td>1</td><td>1</td><td>0</td><td>1</td><td>0</td><td>0</td><td>0.000000</td></tr>\n",
              "\t<tr><td>cl01_10</td><td>0</td><td>12</td><td>cl01</td><td>2013-02-21</td><td>12</td><td>1</td><td>0</td><td>0</td><td>0</td><td>0</td><td>1</td><td>0.000000</td></tr>\n",
              "\t<tr><td>cl01_11</td><td>0</td><td>12</td><td>cl01</td><td>2020-11-30</td><td> 4</td><td>1</td><td>1</td><td>0</td><td>1</td><td>0</td><td>0</td><td>0.000000</td></tr>\n",
              "\t<tr><td>cl01_12</td><td>0</td><td>11</td><td>cl01</td><td>2016-09-19</td><td> 8</td><td>1</td><td>1</td><td>0</td><td>0</td><td>0</td><td>0</td><td>0.000000</td></tr>\n",
              "\t<tr><td>cl01_13</td><td>0</td><td>12</td><td>cl01</td><td>2013-04-23</td><td>11</td><td>1</td><td>1</td><td>0</td><td>0</td><td>0</td><td>1</td><td>0.000000</td></tr>\n",
              "\t<tr><td>cl01_14</td><td>2</td><td>11</td><td>cl01</td><td>2019-09-13</td><td> 5</td><td>1</td><td>1</td><td>1</td><td>0</td><td>0</td><td>1</td><td>2.181818</td></tr>\n",
              "\t<tr><td>cl01_15</td><td>0</td><td>12</td><td>cl01</td><td>2018-09-12</td><td> 6</td><td>1</td><td>1</td><td>0</td><td>0</td><td>0</td><td>1</td><td>0.000000</td></tr>\n",
              "\t<tr><td>cl01_16</td><td>2</td><td>11</td><td>cl01</td><td>2014-11-30</td><td>10</td><td>1</td><td>1</td><td>0</td><td>0</td><td>0</td><td>1</td><td>2.181818</td></tr>\n",
              "\t<tr><td>cl01_17</td><td>0</td><td>11</td><td>cl01</td><td>2020-01-27</td><td> 5</td><td>1</td><td>1</td><td>0</td><td>1</td><td>0</td><td>0</td><td>0.000000</td></tr>\n",
              "\t<tr><td>cl01_18</td><td>0</td><td>10</td><td>cl01</td><td>2017-04-24</td><td> 7</td><td>1</td><td>1</td><td>0</td><td>0</td><td>0</td><td>0</td><td>0.000000</td></tr>\n",
              "\t<tr><td>cl01_19</td><td>0</td><td>11</td><td>cl01</td><td>2011-05-06</td><td>13</td><td>1</td><td>1</td><td>0</td><td>0</td><td>0</td><td>0</td><td>0.000000</td></tr>\n",
              "\t<tr><td>cl01_20</td><td>0</td><td>11</td><td>cl01</td><td>2022-09-16</td><td> 2</td><td>1</td><td>1</td><td>0</td><td>1</td><td>1</td><td>0</td><td>0.000000</td></tr>\n",
              "\t<tr><td>cl01_21</td><td>1</td><td>12</td><td>cl01</td><td>2023-06-11</td><td> 1</td><td>1</td><td>1</td><td>0</td><td>0</td><td>1</td><td>1</td><td>1.000000</td></tr>\n",
              "\t<tr><td>cl01_22</td><td>0</td><td>11</td><td>cl01</td><td>2012-09-07</td><td>12</td><td>1</td><td>1</td><td>0</td><td>0</td><td>0</td><td>0</td><td>0.000000</td></tr>\n",
              "\t<tr><td>cl01_23</td><td>2</td><td>12</td><td>cl01</td><td>2014-12-06</td><td>10</td><td>1</td><td>1</td><td>0</td><td>0</td><td>0</td><td>1</td><td>2.000000</td></tr>\n",
              "\t<tr><td>cl01_24</td><td>0</td><td>12</td><td>cl01</td><td>2018-08-30</td><td> 6</td><td>1</td><td>1</td><td>0</td><td>1</td><td>0</td><td>0</td><td>0.000000</td></tr>\n",
              "\t<tr><td>cl01_25</td><td>0</td><td>12</td><td>cl01</td><td>2021-09-20</td><td> 3</td><td>1</td><td>1</td><td>0</td><td>1</td><td>0</td><td>0</td><td>0.000000</td></tr>\n",
              "\t<tr><td>cl01_26</td><td>0</td><td>12</td><td>cl01</td><td>2018-03-07</td><td> 7</td><td>1</td><td>1</td><td>0</td><td>0</td><td>0</td><td>0</td><td>0.000000</td></tr>\n",
              "\t<tr><td>cl01_27</td><td>3</td><td>11</td><td>cl01</td><td>2017-01-03</td><td> 8</td><td>1</td><td>0</td><td>0</td><td>0</td><td>0</td><td>1</td><td>3.272727</td></tr>\n",
              "\t<tr><td>cl01_28</td><td>0</td><td>12</td><td>cl01</td><td>2023-03-12</td><td> 2</td><td>1</td><td>1</td><td>0</td><td>1</td><td>1</td><td>0</td><td>0.000000</td></tr>\n",
              "\t<tr><td>cl01_29</td><td>1</td><td>11</td><td>cl01</td><td>2019-09-25</td><td> 5</td><td>1</td><td>1</td><td>0</td><td>1</td><td>0</td><td>0</td><td>1.090909</td></tr>\n",
              "\t<tr><td>cl01_30</td><td>0</td><td>12</td><td>cl01</td><td>2015-01-02</td><td>10</td><td>1</td><td>1</td><td>1</td><td>0</td><td>0</td><td>0</td><td>0.000000</td></tr>\n",
              "\t<tr><td>⋮</td><td>⋮</td><td>⋮</td><td>⋮</td><td>⋮</td><td>⋮</td><td>⋮</td><td>⋮</td><td>⋮</td><td>⋮</td><td>⋮</td><td>⋮</td><td>⋮</td></tr>\n",
              "\t<tr><td>cl20_09</td><td> 3</td><td>10</td><td>cl20</td><td>2017-01-05</td><td> 8</td><td>0</td><td>0</td><td>0</td><td>0</td><td>0</td><td>0</td><td> 3.600000</td></tr>\n",
              "\t<tr><td>cl20_10</td><td> 2</td><td>12</td><td>cl20</td><td>2013-09-15</td><td>11</td><td>0</td><td>0</td><td>1</td><td>0</td><td>0</td><td>1</td><td> 2.000000</td></tr>\n",
              "\t<tr><td>cl20_11</td><td> 1</td><td>12</td><td>cl20</td><td>2013-02-24</td><td>12</td><td>0</td><td>0</td><td>0</td><td>0</td><td>0</td><td>0</td><td> 1.000000</td></tr>\n",
              "\t<tr><td>cl20_12</td><td> 0</td><td>11</td><td>cl20</td><td>2018-02-28</td><td> 7</td><td>0</td><td>0</td><td>0</td><td>0</td><td>0</td><td>0</td><td> 0.000000</td></tr>\n",
              "\t<tr><td>cl20_13</td><td> 0</td><td>11</td><td>cl20</td><td>2020-05-23</td><td> 4</td><td>0</td><td>0</td><td>0</td><td>1</td><td>0</td><td>0</td><td> 0.000000</td></tr>\n",
              "\t<tr><td>cl20_14</td><td> 1</td><td>12</td><td>cl20</td><td>2023-10-07</td><td> 1</td><td>0</td><td>0</td><td>0</td><td>0</td><td>1</td><td>0</td><td> 1.000000</td></tr>\n",
              "\t<tr><td>cl20_15</td><td> 4</td><td>12</td><td>cl20</td><td>2012-02-05</td><td>13</td><td>0</td><td>0</td><td>0</td><td>0</td><td>0</td><td>0</td><td> 4.000000</td></tr>\n",
              "\t<tr><td>cl20_16</td><td> 0</td><td>12</td><td>cl20</td><td>2016-06-16</td><td> 8</td><td>0</td><td>0</td><td>0</td><td>0</td><td>0</td><td>0</td><td> 0.000000</td></tr>\n",
              "\t<tr><td>cl20_17</td><td>10</td><td>12</td><td>cl20</td><td>2017-05-17</td><td> 7</td><td>0</td><td>0</td><td>0</td><td>0</td><td>0</td><td>0</td><td>10.000000</td></tr>\n",
              "\t<tr><td>cl20_18</td><td> 1</td><td>10</td><td>cl20</td><td>2021-05-11</td><td> 3</td><td>0</td><td>0</td><td>0</td><td>1</td><td>0</td><td>0</td><td> 1.200000</td></tr>\n",
              "\t<tr><td>cl20_19</td><td> 1</td><td>12</td><td>cl20</td><td>2021-08-27</td><td> 3</td><td>0</td><td>0</td><td>0</td><td>0</td><td>0</td><td>0</td><td> 1.000000</td></tr>\n",
              "\t<tr><td>cl20_20</td><td> 9</td><td> 9</td><td>cl20</td><td>2014-10-15</td><td>10</td><td>0</td><td>0</td><td>1</td><td>0</td><td>0</td><td>0</td><td>12.000000</td></tr>\n",
              "\t<tr><td>cl20_21</td><td> 0</td><td>12</td><td>cl20</td><td>2024-08-13</td><td> 0</td><td>0</td><td>0</td><td>0</td><td>0</td><td>1</td><td>0</td><td> 0.000000</td></tr>\n",
              "\t<tr><td>cl20_22</td><td> 1</td><td>12</td><td>cl20</td><td>2016-02-09</td><td> 9</td><td>0</td><td>0</td><td>0</td><td>0</td><td>0</td><td>0</td><td> 1.000000</td></tr>\n",
              "\t<tr><td>cl20_23</td><td> 1</td><td>11</td><td>cl20</td><td>2020-12-03</td><td> 4</td><td>0</td><td>0</td><td>0</td><td>1</td><td>0</td><td>0</td><td> 1.090909</td></tr>\n",
              "\t<tr><td>cl20_24</td><td> 1</td><td>12</td><td>cl20</td><td>2023-03-22</td><td> 2</td><td>0</td><td>0</td><td>0</td><td>1</td><td>1</td><td>0</td><td> 1.000000</td></tr>\n",
              "\t<tr><td>cl20_25</td><td> 0</td><td>12</td><td>cl20</td><td>2022-07-17</td><td> 2</td><td>0</td><td>0</td><td>0</td><td>1</td><td>1</td><td>0</td><td> 0.000000</td></tr>\n",
              "\t<tr><td>cl20_26</td><td> 2</td><td>11</td><td>cl20</td><td>2013-04-20</td><td>11</td><td>0</td><td>0</td><td>1</td><td>0</td><td>0</td><td>0</td><td> 2.181818</td></tr>\n",
              "\t<tr><td>cl20_27</td><td> 2</td><td>12</td><td>cl20</td><td>2015-08-20</td><td> 9</td><td>0</td><td>0</td><td>0</td><td>0</td><td>0</td><td>1</td><td> 2.000000</td></tr>\n",
              "\t<tr><td>cl20_28</td><td> 1</td><td>10</td><td>cl20</td><td>2021-09-03</td><td> 3</td><td>0</td><td>0</td><td>0</td><td>1</td><td>0</td><td>0</td><td> 1.200000</td></tr>\n",
              "\t<tr><td>cl20_29</td><td> 3</td><td>11</td><td>cl20</td><td>2014-04-19</td><td>10</td><td>0</td><td>0</td><td>0</td><td>0</td><td>0</td><td>0</td><td> 3.272727</td></tr>\n",
              "\t<tr><td>cl20_30</td><td> 1</td><td>12</td><td>cl20</td><td>2014-06-17</td><td>10</td><td>0</td><td>0</td><td>0</td><td>0</td><td>0</td><td>1</td><td> 1.000000</td></tr>\n",
              "\t<tr><td>cl20_31</td><td> 2</td><td>12</td><td>cl20</td><td>2016-02-17</td><td> 9</td><td>0</td><td>0</td><td>0</td><td>0</td><td>0</td><td>0</td><td> 2.000000</td></tr>\n",
              "\t<tr><td>cl20_32</td><td> 0</td><td>11</td><td>cl20</td><td>2020-12-24</td><td> 4</td><td>0</td><td>0</td><td>1</td><td>1</td><td>0</td><td>0</td><td> 0.000000</td></tr>\n",
              "\t<tr><td>cl20_33</td><td> 2</td><td>12</td><td>cl20</td><td>2017-03-27</td><td> 8</td><td>0</td><td>0</td><td>0</td><td>0</td><td>0</td><td>0</td><td> 2.000000</td></tr>\n",
              "\t<tr><td>cl20_34</td><td> 2</td><td>12</td><td>cl20</td><td>2013-03-26</td><td>12</td><td>0</td><td>0</td><td>1</td><td>0</td><td>0</td><td>1</td><td> 2.000000</td></tr>\n",
              "\t<tr><td>cl20_35</td><td> 2</td><td>12</td><td>cl20</td><td>2022-04-25</td><td> 2</td><td>0</td><td>0</td><td>0</td><td>1</td><td>1</td><td>0</td><td> 2.000000</td></tr>\n",
              "\t<tr><td>cl20_36</td><td> 7</td><td>10</td><td>cl20</td><td>2011-01-30</td><td>14</td><td>0</td><td>0</td><td>0</td><td>0</td><td>0</td><td>1</td><td> 8.400000</td></tr>\n",
              "\t<tr><td>cl20_37</td><td> 2</td><td>11</td><td>cl20</td><td>2014-11-27</td><td>10</td><td>0</td><td>0</td><td>0</td><td>0</td><td>0</td><td>0</td><td> 2.181818</td></tr>\n",
              "\t<tr><td>cl20_38</td><td> 2</td><td>12</td><td>cl20</td><td>2013-03-16</td><td>12</td><td>0</td><td>0</td><td>0</td><td>0</td><td>0</td><td>0</td><td> 2.000000</td></tr>\n",
              "</tbody>\n",
              "</table>\n"
            ],
            "text/markdown": "\nA tibble: 760 × 13\n\n| cohort_id &lt;chr&gt; | num_pos &lt;dbl&gt; | total_visit &lt;int&gt; | cluster_id &lt;chr&gt; | birth &lt;chr&gt; | age &lt;int&gt; | intervention &lt;int&gt; | cn &lt;int&gt; | non_bn &lt;int&gt; | vac &lt;int&gt; | age_c &lt;int&gt; | rdt &lt;int&gt; | incidence_rate &lt;dbl&gt; |\n|---|---|---|---|---|---|---|---|---|---|---|---|---|\n| cl01_01 | 1 |  9 | cl01 | 2012-03-26 | 13 | 1 | 1 | 0 | 0 | 0 | 0 | 1.333333 |\n| cl01_02 | 0 | 12 | cl01 | 2017-01-02 |  8 | 1 | 1 | 0 | 0 | 0 | 1 | 0.000000 |\n| cl01_03 | 1 | 11 | cl01 | 2024-08-15 |  0 | 1 | 1 | 0 | 0 | 1 | 0 | 1.090909 |\n| cl01_04 | 0 | 12 | cl01 | 2016-10-03 |  8 | 1 | 1 | 0 | 0 | 0 | 0 | 0.000000 |\n| cl01_05 | 1 | 11 | cl01 | 2015-09-10 |  9 | 1 | 1 | 0 | 0 | 0 | 0 | 1.090909 |\n| cl01_06 | 2 | 11 | cl01 | 2018-08-09 |  6 | 1 | 1 | 0 | 1 | 0 | 0 | 2.181818 |\n| cl01_07 | 1 | 12 | cl01 | 2022-05-22 |  2 | 1 | 1 | 0 | 1 | 1 | 0 | 1.000000 |\n| cl01_08 | 0 | 11 | cl01 | 2011-07-23 | 13 | 1 | 1 | 0 | 0 | 0 | 0 | 0.000000 |\n| cl01_09 | 0 | 12 | cl01 | 2021-01-02 |  4 | 1 | 1 | 0 | 1 | 0 | 0 | 0.000000 |\n| cl01_10 | 0 | 12 | cl01 | 2013-02-21 | 12 | 1 | 0 | 0 | 0 | 0 | 1 | 0.000000 |\n| cl01_11 | 0 | 12 | cl01 | 2020-11-30 |  4 | 1 | 1 | 0 | 1 | 0 | 0 | 0.000000 |\n| cl01_12 | 0 | 11 | cl01 | 2016-09-19 |  8 | 1 | 1 | 0 | 0 | 0 | 0 | 0.000000 |\n| cl01_13 | 0 | 12 | cl01 | 2013-04-23 | 11 | 1 | 1 | 0 | 0 | 0 | 1 | 0.000000 |\n| cl01_14 | 2 | 11 | cl01 | 2019-09-13 |  5 | 1 | 1 | 1 | 0 | 0 | 1 | 2.181818 |\n| cl01_15 | 0 | 12 | cl01 | 2018-09-12 |  6 | 1 | 1 | 0 | 0 | 0 | 1 | 0.000000 |\n| cl01_16 | 2 | 11 | cl01 | 2014-11-30 | 10 | 1 | 1 | 0 | 0 | 0 | 1 | 2.181818 |\n| cl01_17 | 0 | 11 | cl01 | 2020-01-27 |  5 | 1 | 1 | 0 | 1 | 0 | 0 | 0.000000 |\n| cl01_18 | 0 | 10 | cl01 | 2017-04-24 |  7 | 1 | 1 | 0 | 0 | 0 | 0 | 0.000000 |\n| cl01_19 | 0 | 11 | cl01 | 2011-05-06 | 13 | 1 | 1 | 0 | 0 | 0 | 0 | 0.000000 |\n| cl01_20 | 0 | 11 | cl01 | 2022-09-16 |  2 | 1 | 1 | 0 | 1 | 1 | 0 | 0.000000 |\n| cl01_21 | 1 | 12 | cl01 | 2023-06-11 |  1 | 1 | 1 | 0 | 0 | 1 | 1 | 1.000000 |\n| cl01_22 | 0 | 11 | cl01 | 2012-09-07 | 12 | 1 | 1 | 0 | 0 | 0 | 0 | 0.000000 |\n| cl01_23 | 2 | 12 | cl01 | 2014-12-06 | 10 | 1 | 1 | 0 | 0 | 0 | 1 | 2.000000 |\n| cl01_24 | 0 | 12 | cl01 | 2018-08-30 |  6 | 1 | 1 | 0 | 1 | 0 | 0 | 0.000000 |\n| cl01_25 | 0 | 12 | cl01 | 2021-09-20 |  3 | 1 | 1 | 0 | 1 | 0 | 0 | 0.000000 |\n| cl01_26 | 0 | 12 | cl01 | 2018-03-07 |  7 | 1 | 1 | 0 | 0 | 0 | 0 | 0.000000 |\n| cl01_27 | 3 | 11 | cl01 | 2017-01-03 |  8 | 1 | 0 | 0 | 0 | 0 | 1 | 3.272727 |\n| cl01_28 | 0 | 12 | cl01 | 2023-03-12 |  2 | 1 | 1 | 0 | 1 | 1 | 0 | 0.000000 |\n| cl01_29 | 1 | 11 | cl01 | 2019-09-25 |  5 | 1 | 1 | 0 | 1 | 0 | 0 | 1.090909 |\n| cl01_30 | 0 | 12 | cl01 | 2015-01-02 | 10 | 1 | 1 | 1 | 0 | 0 | 0 | 0.000000 |\n| ⋮ | ⋮ | ⋮ | ⋮ | ⋮ | ⋮ | ⋮ | ⋮ | ⋮ | ⋮ | ⋮ | ⋮ | ⋮ |\n| cl20_09 |  3 | 10 | cl20 | 2017-01-05 |  8 | 0 | 0 | 0 | 0 | 0 | 0 |  3.600000 |\n| cl20_10 |  2 | 12 | cl20 | 2013-09-15 | 11 | 0 | 0 | 1 | 0 | 0 | 1 |  2.000000 |\n| cl20_11 |  1 | 12 | cl20 | 2013-02-24 | 12 | 0 | 0 | 0 | 0 | 0 | 0 |  1.000000 |\n| cl20_12 |  0 | 11 | cl20 | 2018-02-28 |  7 | 0 | 0 | 0 | 0 | 0 | 0 |  0.000000 |\n| cl20_13 |  0 | 11 | cl20 | 2020-05-23 |  4 | 0 | 0 | 0 | 1 | 0 | 0 |  0.000000 |\n| cl20_14 |  1 | 12 | cl20 | 2023-10-07 |  1 | 0 | 0 | 0 | 0 | 1 | 0 |  1.000000 |\n| cl20_15 |  4 | 12 | cl20 | 2012-02-05 | 13 | 0 | 0 | 0 | 0 | 0 | 0 |  4.000000 |\n| cl20_16 |  0 | 12 | cl20 | 2016-06-16 |  8 | 0 | 0 | 0 | 0 | 0 | 0 |  0.000000 |\n| cl20_17 | 10 | 12 | cl20 | 2017-05-17 |  7 | 0 | 0 | 0 | 0 | 0 | 0 | 10.000000 |\n| cl20_18 |  1 | 10 | cl20 | 2021-05-11 |  3 | 0 | 0 | 0 | 1 | 0 | 0 |  1.200000 |\n| cl20_19 |  1 | 12 | cl20 | 2021-08-27 |  3 | 0 | 0 | 0 | 0 | 0 | 0 |  1.000000 |\n| cl20_20 |  9 |  9 | cl20 | 2014-10-15 | 10 | 0 | 0 | 1 | 0 | 0 | 0 | 12.000000 |\n| cl20_21 |  0 | 12 | cl20 | 2024-08-13 |  0 | 0 | 0 | 0 | 0 | 1 | 0 |  0.000000 |\n| cl20_22 |  1 | 12 | cl20 | 2016-02-09 |  9 | 0 | 0 | 0 | 0 | 0 | 0 |  1.000000 |\n| cl20_23 |  1 | 11 | cl20 | 2020-12-03 |  4 | 0 | 0 | 0 | 1 | 0 | 0 |  1.090909 |\n| cl20_24 |  1 | 12 | cl20 | 2023-03-22 |  2 | 0 | 0 | 0 | 1 | 1 | 0 |  1.000000 |\n| cl20_25 |  0 | 12 | cl20 | 2022-07-17 |  2 | 0 | 0 | 0 | 1 | 1 | 0 |  0.000000 |\n| cl20_26 |  2 | 11 | cl20 | 2013-04-20 | 11 | 0 | 0 | 1 | 0 | 0 | 0 |  2.181818 |\n| cl20_27 |  2 | 12 | cl20 | 2015-08-20 |  9 | 0 | 0 | 0 | 0 | 0 | 1 |  2.000000 |\n| cl20_28 |  1 | 10 | cl20 | 2021-09-03 |  3 | 0 | 0 | 0 | 1 | 0 | 0 |  1.200000 |\n| cl20_29 |  3 | 11 | cl20 | 2014-04-19 | 10 | 0 | 0 | 0 | 0 | 0 | 0 |  3.272727 |\n| cl20_30 |  1 | 12 | cl20 | 2014-06-17 | 10 | 0 | 0 | 0 | 0 | 0 | 1 |  1.000000 |\n| cl20_31 |  2 | 12 | cl20 | 2016-02-17 |  9 | 0 | 0 | 0 | 0 | 0 | 0 |  2.000000 |\n| cl20_32 |  0 | 11 | cl20 | 2020-12-24 |  4 | 0 | 0 | 1 | 1 | 0 | 0 |  0.000000 |\n| cl20_33 |  2 | 12 | cl20 | 2017-03-27 |  8 | 0 | 0 | 0 | 0 | 0 | 0 |  2.000000 |\n| cl20_34 |  2 | 12 | cl20 | 2013-03-26 | 12 | 0 | 0 | 1 | 0 | 0 | 1 |  2.000000 |\n| cl20_35 |  2 | 12 | cl20 | 2022-04-25 |  2 | 0 | 0 | 0 | 1 | 1 | 0 |  2.000000 |\n| cl20_36 |  7 | 10 | cl20 | 2011-01-30 | 14 | 0 | 0 | 0 | 0 | 0 | 1 |  8.400000 |\n| cl20_37 |  2 | 11 | cl20 | 2014-11-27 | 10 | 0 | 0 | 0 | 0 | 0 | 0 |  2.181818 |\n| cl20_38 |  2 | 12 | cl20 | 2013-03-16 | 12 | 0 | 0 | 0 | 0 | 0 | 0 |  2.000000 |\n\n",
            "text/latex": "A tibble: 760 × 13\n\\begin{tabular}{lllllllllllll}\n cohort\\_id & num\\_pos & total\\_visit & cluster\\_id & birth & age & intervention & cn & non\\_bn & vac & age\\_c & rdt & incidence\\_rate\\\\\n <chr> & <dbl> & <int> & <chr> & <chr> & <int> & <int> & <int> & <int> & <int> & <int> & <int> & <dbl>\\\\\n\\hline\n\t cl01\\_01 & 1 &  9 & cl01 & 2012-03-26 & 13 & 1 & 1 & 0 & 0 & 0 & 0 & 1.333333\\\\\n\t cl01\\_02 & 0 & 12 & cl01 & 2017-01-02 &  8 & 1 & 1 & 0 & 0 & 0 & 1 & 0.000000\\\\\n\t cl01\\_03 & 1 & 11 & cl01 & 2024-08-15 &  0 & 1 & 1 & 0 & 0 & 1 & 0 & 1.090909\\\\\n\t cl01\\_04 & 0 & 12 & cl01 & 2016-10-03 &  8 & 1 & 1 & 0 & 0 & 0 & 0 & 0.000000\\\\\n\t cl01\\_05 & 1 & 11 & cl01 & 2015-09-10 &  9 & 1 & 1 & 0 & 0 & 0 & 0 & 1.090909\\\\\n\t cl01\\_06 & 2 & 11 & cl01 & 2018-08-09 &  6 & 1 & 1 & 0 & 1 & 0 & 0 & 2.181818\\\\\n\t cl01\\_07 & 1 & 12 & cl01 & 2022-05-22 &  2 & 1 & 1 & 0 & 1 & 1 & 0 & 1.000000\\\\\n\t cl01\\_08 & 0 & 11 & cl01 & 2011-07-23 & 13 & 1 & 1 & 0 & 0 & 0 & 0 & 0.000000\\\\\n\t cl01\\_09 & 0 & 12 & cl01 & 2021-01-02 &  4 & 1 & 1 & 0 & 1 & 0 & 0 & 0.000000\\\\\n\t cl01\\_10 & 0 & 12 & cl01 & 2013-02-21 & 12 & 1 & 0 & 0 & 0 & 0 & 1 & 0.000000\\\\\n\t cl01\\_11 & 0 & 12 & cl01 & 2020-11-30 &  4 & 1 & 1 & 0 & 1 & 0 & 0 & 0.000000\\\\\n\t cl01\\_12 & 0 & 11 & cl01 & 2016-09-19 &  8 & 1 & 1 & 0 & 0 & 0 & 0 & 0.000000\\\\\n\t cl01\\_13 & 0 & 12 & cl01 & 2013-04-23 & 11 & 1 & 1 & 0 & 0 & 0 & 1 & 0.000000\\\\\n\t cl01\\_14 & 2 & 11 & cl01 & 2019-09-13 &  5 & 1 & 1 & 1 & 0 & 0 & 1 & 2.181818\\\\\n\t cl01\\_15 & 0 & 12 & cl01 & 2018-09-12 &  6 & 1 & 1 & 0 & 0 & 0 & 1 & 0.000000\\\\\n\t cl01\\_16 & 2 & 11 & cl01 & 2014-11-30 & 10 & 1 & 1 & 0 & 0 & 0 & 1 & 2.181818\\\\\n\t cl01\\_17 & 0 & 11 & cl01 & 2020-01-27 &  5 & 1 & 1 & 0 & 1 & 0 & 0 & 0.000000\\\\\n\t cl01\\_18 & 0 & 10 & cl01 & 2017-04-24 &  7 & 1 & 1 & 0 & 0 & 0 & 0 & 0.000000\\\\\n\t cl01\\_19 & 0 & 11 & cl01 & 2011-05-06 & 13 & 1 & 1 & 0 & 0 & 0 & 0 & 0.000000\\\\\n\t cl01\\_20 & 0 & 11 & cl01 & 2022-09-16 &  2 & 1 & 1 & 0 & 1 & 1 & 0 & 0.000000\\\\\n\t cl01\\_21 & 1 & 12 & cl01 & 2023-06-11 &  1 & 1 & 1 & 0 & 0 & 1 & 1 & 1.000000\\\\\n\t cl01\\_22 & 0 & 11 & cl01 & 2012-09-07 & 12 & 1 & 1 & 0 & 0 & 0 & 0 & 0.000000\\\\\n\t cl01\\_23 & 2 & 12 & cl01 & 2014-12-06 & 10 & 1 & 1 & 0 & 0 & 0 & 1 & 2.000000\\\\\n\t cl01\\_24 & 0 & 12 & cl01 & 2018-08-30 &  6 & 1 & 1 & 0 & 1 & 0 & 0 & 0.000000\\\\\n\t cl01\\_25 & 0 & 12 & cl01 & 2021-09-20 &  3 & 1 & 1 & 0 & 1 & 0 & 0 & 0.000000\\\\\n\t cl01\\_26 & 0 & 12 & cl01 & 2018-03-07 &  7 & 1 & 1 & 0 & 0 & 0 & 0 & 0.000000\\\\\n\t cl01\\_27 & 3 & 11 & cl01 & 2017-01-03 &  8 & 1 & 0 & 0 & 0 & 0 & 1 & 3.272727\\\\\n\t cl01\\_28 & 0 & 12 & cl01 & 2023-03-12 &  2 & 1 & 1 & 0 & 1 & 1 & 0 & 0.000000\\\\\n\t cl01\\_29 & 1 & 11 & cl01 & 2019-09-25 &  5 & 1 & 1 & 0 & 1 & 0 & 0 & 1.090909\\\\\n\t cl01\\_30 & 0 & 12 & cl01 & 2015-01-02 & 10 & 1 & 1 & 1 & 0 & 0 & 0 & 0.000000\\\\\n\t ⋮ & ⋮ & ⋮ & ⋮ & ⋮ & ⋮ & ⋮ & ⋮ & ⋮ & ⋮ & ⋮ & ⋮ & ⋮\\\\\n\t cl20\\_09 &  3 & 10 & cl20 & 2017-01-05 &  8 & 0 & 0 & 0 & 0 & 0 & 0 &  3.600000\\\\\n\t cl20\\_10 &  2 & 12 & cl20 & 2013-09-15 & 11 & 0 & 0 & 1 & 0 & 0 & 1 &  2.000000\\\\\n\t cl20\\_11 &  1 & 12 & cl20 & 2013-02-24 & 12 & 0 & 0 & 0 & 0 & 0 & 0 &  1.000000\\\\\n\t cl20\\_12 &  0 & 11 & cl20 & 2018-02-28 &  7 & 0 & 0 & 0 & 0 & 0 & 0 &  0.000000\\\\\n\t cl20\\_13 &  0 & 11 & cl20 & 2020-05-23 &  4 & 0 & 0 & 0 & 1 & 0 & 0 &  0.000000\\\\\n\t cl20\\_14 &  1 & 12 & cl20 & 2023-10-07 &  1 & 0 & 0 & 0 & 0 & 1 & 0 &  1.000000\\\\\n\t cl20\\_15 &  4 & 12 & cl20 & 2012-02-05 & 13 & 0 & 0 & 0 & 0 & 0 & 0 &  4.000000\\\\\n\t cl20\\_16 &  0 & 12 & cl20 & 2016-06-16 &  8 & 0 & 0 & 0 & 0 & 0 & 0 &  0.000000\\\\\n\t cl20\\_17 & 10 & 12 & cl20 & 2017-05-17 &  7 & 0 & 0 & 0 & 0 & 0 & 0 & 10.000000\\\\\n\t cl20\\_18 &  1 & 10 & cl20 & 2021-05-11 &  3 & 0 & 0 & 0 & 1 & 0 & 0 &  1.200000\\\\\n\t cl20\\_19 &  1 & 12 & cl20 & 2021-08-27 &  3 & 0 & 0 & 0 & 0 & 0 & 0 &  1.000000\\\\\n\t cl20\\_20 &  9 &  9 & cl20 & 2014-10-15 & 10 & 0 & 0 & 1 & 0 & 0 & 0 & 12.000000\\\\\n\t cl20\\_21 &  0 & 12 & cl20 & 2024-08-13 &  0 & 0 & 0 & 0 & 0 & 1 & 0 &  0.000000\\\\\n\t cl20\\_22 &  1 & 12 & cl20 & 2016-02-09 &  9 & 0 & 0 & 0 & 0 & 0 & 0 &  1.000000\\\\\n\t cl20\\_23 &  1 & 11 & cl20 & 2020-12-03 &  4 & 0 & 0 & 0 & 1 & 0 & 0 &  1.090909\\\\\n\t cl20\\_24 &  1 & 12 & cl20 & 2023-03-22 &  2 & 0 & 0 & 0 & 1 & 1 & 0 &  1.000000\\\\\n\t cl20\\_25 &  0 & 12 & cl20 & 2022-07-17 &  2 & 0 & 0 & 0 & 1 & 1 & 0 &  0.000000\\\\\n\t cl20\\_26 &  2 & 11 & cl20 & 2013-04-20 & 11 & 0 & 0 & 1 & 0 & 0 & 0 &  2.181818\\\\\n\t cl20\\_27 &  2 & 12 & cl20 & 2015-08-20 &  9 & 0 & 0 & 0 & 0 & 0 & 1 &  2.000000\\\\\n\t cl20\\_28 &  1 & 10 & cl20 & 2021-09-03 &  3 & 0 & 0 & 0 & 1 & 0 & 0 &  1.200000\\\\\n\t cl20\\_29 &  3 & 11 & cl20 & 2014-04-19 & 10 & 0 & 0 & 0 & 0 & 0 & 0 &  3.272727\\\\\n\t cl20\\_30 &  1 & 12 & cl20 & 2014-06-17 & 10 & 0 & 0 & 0 & 0 & 0 & 1 &  1.000000\\\\\n\t cl20\\_31 &  2 & 12 & cl20 & 2016-02-17 &  9 & 0 & 0 & 0 & 0 & 0 & 0 &  2.000000\\\\\n\t cl20\\_32 &  0 & 11 & cl20 & 2020-12-24 &  4 & 0 & 0 & 1 & 1 & 0 & 0 &  0.000000\\\\\n\t cl20\\_33 &  2 & 12 & cl20 & 2017-03-27 &  8 & 0 & 0 & 0 & 0 & 0 & 0 &  2.000000\\\\\n\t cl20\\_34 &  2 & 12 & cl20 & 2013-03-26 & 12 & 0 & 0 & 1 & 0 & 0 & 1 &  2.000000\\\\\n\t cl20\\_35 &  2 & 12 & cl20 & 2022-04-25 &  2 & 0 & 0 & 0 & 1 & 1 & 0 &  2.000000\\\\\n\t cl20\\_36 &  7 & 10 & cl20 & 2011-01-30 & 14 & 0 & 0 & 0 & 0 & 0 & 1 &  8.400000\\\\\n\t cl20\\_37 &  2 & 11 & cl20 & 2014-11-27 & 10 & 0 & 0 & 0 & 0 & 0 & 0 &  2.181818\\\\\n\t cl20\\_38 &  2 & 12 & cl20 & 2013-03-16 & 12 & 0 & 0 & 0 & 0 & 0 & 0 &  2.000000\\\\\n\\end{tabular}\n",
            "text/plain": [
              "    cohort_id num_pos total_visit cluster_id birth      age intervention cn\n",
              "1   cl01_01   1        9          cl01       2012-03-26 13  1            1 \n",
              "2   cl01_02   0       12          cl01       2017-01-02  8  1            1 \n",
              "3   cl01_03   1       11          cl01       2024-08-15  0  1            1 \n",
              "4   cl01_04   0       12          cl01       2016-10-03  8  1            1 \n",
              "5   cl01_05   1       11          cl01       2015-09-10  9  1            1 \n",
              "6   cl01_06   2       11          cl01       2018-08-09  6  1            1 \n",
              "7   cl01_07   1       12          cl01       2022-05-22  2  1            1 \n",
              "8   cl01_08   0       11          cl01       2011-07-23 13  1            1 \n",
              "9   cl01_09   0       12          cl01       2021-01-02  4  1            1 \n",
              "10  cl01_10   0       12          cl01       2013-02-21 12  1            0 \n",
              "11  cl01_11   0       12          cl01       2020-11-30  4  1            1 \n",
              "12  cl01_12   0       11          cl01       2016-09-19  8  1            1 \n",
              "13  cl01_13   0       12          cl01       2013-04-23 11  1            1 \n",
              "14  cl01_14   2       11          cl01       2019-09-13  5  1            1 \n",
              "15  cl01_15   0       12          cl01       2018-09-12  6  1            1 \n",
              "16  cl01_16   2       11          cl01       2014-11-30 10  1            1 \n",
              "17  cl01_17   0       11          cl01       2020-01-27  5  1            1 \n",
              "18  cl01_18   0       10          cl01       2017-04-24  7  1            1 \n",
              "19  cl01_19   0       11          cl01       2011-05-06 13  1            1 \n",
              "20  cl01_20   0       11          cl01       2022-09-16  2  1            1 \n",
              "21  cl01_21   1       12          cl01       2023-06-11  1  1            1 \n",
              "22  cl01_22   0       11          cl01       2012-09-07 12  1            1 \n",
              "23  cl01_23   2       12          cl01       2014-12-06 10  1            1 \n",
              "24  cl01_24   0       12          cl01       2018-08-30  6  1            1 \n",
              "25  cl01_25   0       12          cl01       2021-09-20  3  1            1 \n",
              "26  cl01_26   0       12          cl01       2018-03-07  7  1            1 \n",
              "27  cl01_27   3       11          cl01       2017-01-03  8  1            0 \n",
              "28  cl01_28   0       12          cl01       2023-03-12  2  1            1 \n",
              "29  cl01_29   1       11          cl01       2019-09-25  5  1            1 \n",
              "30  cl01_30   0       12          cl01       2015-01-02 10  1            1 \n",
              "⋮   ⋮         ⋮       ⋮           ⋮          ⋮          ⋮   ⋮            ⋮ \n",
              "731 cl20_09    3      10          cl20       2017-01-05  8  0            0 \n",
              "732 cl20_10    2      12          cl20       2013-09-15 11  0            0 \n",
              "733 cl20_11    1      12          cl20       2013-02-24 12  0            0 \n",
              "734 cl20_12    0      11          cl20       2018-02-28  7  0            0 \n",
              "735 cl20_13    0      11          cl20       2020-05-23  4  0            0 \n",
              "736 cl20_14    1      12          cl20       2023-10-07  1  0            0 \n",
              "737 cl20_15    4      12          cl20       2012-02-05 13  0            0 \n",
              "738 cl20_16    0      12          cl20       2016-06-16  8  0            0 \n",
              "739 cl20_17   10      12          cl20       2017-05-17  7  0            0 \n",
              "740 cl20_18    1      10          cl20       2021-05-11  3  0            0 \n",
              "741 cl20_19    1      12          cl20       2021-08-27  3  0            0 \n",
              "742 cl20_20    9       9          cl20       2014-10-15 10  0            0 \n",
              "743 cl20_21    0      12          cl20       2024-08-13  0  0            0 \n",
              "744 cl20_22    1      12          cl20       2016-02-09  9  0            0 \n",
              "745 cl20_23    1      11          cl20       2020-12-03  4  0            0 \n",
              "746 cl20_24    1      12          cl20       2023-03-22  2  0            0 \n",
              "747 cl20_25    0      12          cl20       2022-07-17  2  0            0 \n",
              "748 cl20_26    2      11          cl20       2013-04-20 11  0            0 \n",
              "749 cl20_27    2      12          cl20       2015-08-20  9  0            0 \n",
              "750 cl20_28    1      10          cl20       2021-09-03  3  0            0 \n",
              "751 cl20_29    3      11          cl20       2014-04-19 10  0            0 \n",
              "752 cl20_30    1      12          cl20       2014-06-17 10  0            0 \n",
              "753 cl20_31    2      12          cl20       2016-02-17  9  0            0 \n",
              "754 cl20_32    0      11          cl20       2020-12-24  4  0            0 \n",
              "755 cl20_33    2      12          cl20       2017-03-27  8  0            0 \n",
              "756 cl20_34    2      12          cl20       2013-03-26 12  0            0 \n",
              "757 cl20_35    2      12          cl20       2022-04-25  2  0            0 \n",
              "758 cl20_36    7      10          cl20       2011-01-30 14  0            0 \n",
              "759 cl20_37    2      11          cl20       2014-11-27 10  0            0 \n",
              "760 cl20_38    2      12          cl20       2013-03-16 12  0            0 \n",
              "    non_bn vac age_c rdt incidence_rate\n",
              "1   0      0   0     0   1.333333      \n",
              "2   0      0   0     1   0.000000      \n",
              "3   0      0   1     0   1.090909      \n",
              "4   0      0   0     0   0.000000      \n",
              "5   0      0   0     0   1.090909      \n",
              "6   0      1   0     0   2.181818      \n",
              "7   0      1   1     0   1.000000      \n",
              "8   0      0   0     0   0.000000      \n",
              "9   0      1   0     0   0.000000      \n",
              "10  0      0   0     1   0.000000      \n",
              "11  0      1   0     0   0.000000      \n",
              "12  0      0   0     0   0.000000      \n",
              "13  0      0   0     1   0.000000      \n",
              "14  1      0   0     1   2.181818      \n",
              "15  0      0   0     1   0.000000      \n",
              "16  0      0   0     1   2.181818      \n",
              "17  0      1   0     0   0.000000      \n",
              "18  0      0   0     0   0.000000      \n",
              "19  0      0   0     0   0.000000      \n",
              "20  0      1   1     0   0.000000      \n",
              "21  0      0   1     1   1.000000      \n",
              "22  0      0   0     0   0.000000      \n",
              "23  0      0   0     1   2.000000      \n",
              "24  0      1   0     0   0.000000      \n",
              "25  0      1   0     0   0.000000      \n",
              "26  0      0   0     0   0.000000      \n",
              "27  0      0   0     1   3.272727      \n",
              "28  0      1   1     0   0.000000      \n",
              "29  0      1   0     0   1.090909      \n",
              "30  1      0   0     0   0.000000      \n",
              "⋮   ⋮      ⋮   ⋮     ⋮   ⋮             \n",
              "731 0      0   0     0    3.600000     \n",
              "732 1      0   0     1    2.000000     \n",
              "733 0      0   0     0    1.000000     \n",
              "734 0      0   0     0    0.000000     \n",
              "735 0      1   0     0    0.000000     \n",
              "736 0      0   1     0    1.000000     \n",
              "737 0      0   0     0    4.000000     \n",
              "738 0      0   0     0    0.000000     \n",
              "739 0      0   0     0   10.000000     \n",
              "740 0      1   0     0    1.200000     \n",
              "741 0      0   0     0    1.000000     \n",
              "742 1      0   0     0   12.000000     \n",
              "743 0      0   1     0    0.000000     \n",
              "744 0      0   0     0    1.000000     \n",
              "745 0      1   0     0    1.090909     \n",
              "746 0      1   1     0    1.000000     \n",
              "747 0      1   1     0    0.000000     \n",
              "748 1      0   0     0    2.181818     \n",
              "749 0      0   0     1    2.000000     \n",
              "750 0      1   0     0    1.200000     \n",
              "751 0      0   0     0    3.272727     \n",
              "752 0      0   0     1    1.000000     \n",
              "753 0      0   0     0    2.000000     \n",
              "754 1      1   0     0    0.000000     \n",
              "755 0      0   0     0    2.000000     \n",
              "756 1      0   0     1    2.000000     \n",
              "757 0      1   1     0    2.000000     \n",
              "758 0      0   0     1    8.400000     \n",
              "759 0      0   0     0    2.181818     \n",
              "760 0      0   0     0    2.000000     "
            ]
          },
          "metadata": {}
        }
      ],
      "source": [
        "df_raw3"
      ]
    },
    {
      "cell_type": "markdown",
      "source": [
        "Get estimates\n",
        "\n",
        "  - Intention to treeat vs Per protocol"
      ],
      "metadata": {
        "id": "NflTLCPEmIDq"
      }
    },
    {
      "cell_type": "code",
      "execution_count": 41,
      "metadata": {
        "id": "S_OVrcwkDYlH"
      },
      "outputs": [],
      "source": [
        "# Intention to Treat\n",
        "model_raw_itt <- glmer.nb(num_pos ~ intervention +\n",
        "                       non_bn +\n",
        "                       vac +\n",
        "                       age_c +\n",
        "                    　　offset(log(total_visit)) +\n",
        "                       (1 | cluster_id), data = df_raw3)"
      ]
    },
    {
      "cell_type": "code",
      "execution_count": 42,
      "metadata": {
        "id": "FszIqJ5qDYlH"
      },
      "outputs": [],
      "source": [
        "# Per protocol\n",
        "model_raw_pp <- glmer.nb(num_pos ~ cn +\n",
        "                       non_bn +\n",
        "                       vac +\n",
        "                       age_c +\n",
        "                    　　offset(log(total_visit)) +\n",
        "                       (1 | cluster_id), data = df_raw3)"
      ]
    },
    {
      "cell_type": "code",
      "execution_count": 43,
      "metadata": {
        "id": "4RjdPf0wDYlH",
        "outputId": "c53b47b5-948d-48ef-a83f-a195e7499b56",
        "colab": {
          "base_uri": "https://localhost:8080/",
          "height": 277
        }
      },
      "outputs": [
        {
          "output_type": "stream",
          "name": "stdout",
          "text": [
            " (Intercept) intervention       non_bn          vac        age_c \n",
            "   0.1365816    0.5732188    1.2852269    0.7065125    1.3550817 \n"
          ]
        },
        {
          "output_type": "display_data",
          "data": {
            "text/html": [
              "<table class=\"dataframe\">\n",
              "<caption>A matrix: 5 × 2 of type dbl</caption>\n",
              "<thead>\n",
              "\t<tr><th></th><th scope=col>2.5 %</th><th scope=col>97.5 %</th></tr>\n",
              "</thead>\n",
              "<tbody>\n",
              "\t<tr><th scope=row>(Intercept)</th><td>0.1078924</td><td>0.1728993</td></tr>\n",
              "\t<tr><th scope=row>intervention</th><td>0.4159276</td><td>0.7899927</td></tr>\n",
              "\t<tr><th scope=row>non_bn</th><td>1.0262208</td><td>1.6096031</td></tr>\n",
              "\t<tr><th scope=row>vac</th><td>0.5647866</td><td>0.8838026</td></tr>\n",
              "\t<tr><th scope=row>age_c</th><td>1.0735961</td><td>1.7103697</td></tr>\n",
              "</tbody>\n",
              "</table>\n"
            ],
            "text/markdown": "\nA matrix: 5 × 2 of type dbl\n\n| <!--/--> | 2.5 % | 97.5 % |\n|---|---|---|\n| (Intercept) | 0.1078924 | 0.1728993 |\n| intervention | 0.4159276 | 0.7899927 |\n| non_bn | 1.0262208 | 1.6096031 |\n| vac | 0.5647866 | 0.8838026 |\n| age_c | 1.0735961 | 1.7103697 |\n\n",
            "text/latex": "A matrix: 5 × 2 of type dbl\n\\begin{tabular}{r|ll}\n  & 2.5 \\% & 97.5 \\%\\\\\n\\hline\n\t(Intercept) & 0.1078924 & 0.1728993\\\\\n\tintervention & 0.4159276 & 0.7899927\\\\\n\tnon\\_bn & 1.0262208 & 1.6096031\\\\\n\tvac & 0.5647866 & 0.8838026\\\\\n\tage\\_c & 1.0735961 & 1.7103697\\\\\n\\end{tabular}\n",
            "text/plain": [
              "             2.5 %     97.5 %   \n",
              "(Intercept)  0.1078924 0.1728993\n",
              "intervention 0.4159276 0.7899927\n",
              "non_bn       1.0262208 1.6096031\n",
              "vac          0.5647866 0.8838026\n",
              "age_c        1.0735961 1.7103697"
            ]
          },
          "metadata": {}
        },
        {
          "output_type": "stream",
          "name": "stdout",
          "text": [
            "[1] \"Estimated efficacy of the ceiling net: 0.43\"\n"
          ]
        }
      ],
      "source": [
        "# Intention to Treat\n",
        "print(exp(fixef(model_raw_itt)))\n",
        "exp(confint(model_raw_itt, parm = \"beta_\", method = \"Wald\"))\n",
        "\n",
        "print(paste0(\"Estimated efficacy of the ceiling net: \", round(1-exp(fixef(model_raw_itt))[[2]],2)))"
      ]
    },
    {
      "cell_type": "code",
      "execution_count": 44,
      "metadata": {
        "id": "8aS22wpCDYlH",
        "outputId": "1924eb49-0bb2-42d9-8670-8b14e5877aa3",
        "colab": {
          "base_uri": "https://localhost:8080/",
          "height": 277
        }
      },
      "outputs": [
        {
          "output_type": "stream",
          "name": "stdout",
          "text": [
            "(Intercept)          cn      non_bn         vac       age_c \n",
            "  0.1452063   0.4364840   1.2706074   0.7071418   1.4044077 \n"
          ]
        },
        {
          "output_type": "display_data",
          "data": {
            "text/html": [
              "<table class=\"dataframe\">\n",
              "<caption>A matrix: 5 × 2 of type dbl</caption>\n",
              "<thead>\n",
              "\t<tr><th></th><th scope=col>2.5 %</th><th scope=col>97.5 %</th></tr>\n",
              "</thead>\n",
              "<tbody>\n",
              "\t<tr><th scope=row>(Intercept)</th><td>0.1166879</td><td>0.1806945</td></tr>\n",
              "\t<tr><th scope=row>cn</th><td>0.3260382</td><td>0.5843436</td></tr>\n",
              "\t<tr><th scope=row>non_bn</th><td>1.0179101</td><td>1.5860371</td></tr>\n",
              "\t<tr><th scope=row>vac</th><td>0.5664871</td><td>0.8827200</td></tr>\n",
              "\t<tr><th scope=row>age_c</th><td>1.1156512</td><td>1.7679011</td></tr>\n",
              "</tbody>\n",
              "</table>\n"
            ],
            "text/markdown": "\nA matrix: 5 × 2 of type dbl\n\n| <!--/--> | 2.5 % | 97.5 % |\n|---|---|---|\n| (Intercept) | 0.1166879 | 0.1806945 |\n| cn | 0.3260382 | 0.5843436 |\n| non_bn | 1.0179101 | 1.5860371 |\n| vac | 0.5664871 | 0.8827200 |\n| age_c | 1.1156512 | 1.7679011 |\n\n",
            "text/latex": "A matrix: 5 × 2 of type dbl\n\\begin{tabular}{r|ll}\n  & 2.5 \\% & 97.5 \\%\\\\\n\\hline\n\t(Intercept) & 0.1166879 & 0.1806945\\\\\n\tcn & 0.3260382 & 0.5843436\\\\\n\tnon\\_bn & 1.0179101 & 1.5860371\\\\\n\tvac & 0.5664871 & 0.8827200\\\\\n\tage\\_c & 1.1156512 & 1.7679011\\\\\n\\end{tabular}\n",
            "text/plain": [
              "            2.5 %     97.5 %   \n",
              "(Intercept) 0.1166879 0.1806945\n",
              "cn          0.3260382 0.5843436\n",
              "non_bn      1.0179101 1.5860371\n",
              "vac         0.5664871 0.8827200\n",
              "age_c       1.1156512 1.7679011"
            ]
          },
          "metadata": {}
        },
        {
          "output_type": "stream",
          "name": "stdout",
          "text": [
            "[1] \"Estimated efficacy of the ceiling net: 0.56\"\n"
          ]
        }
      ],
      "source": [
        "# Per protocol\n",
        "print(exp(fixef(model_raw_pp)))\n",
        "exp(confint(model_raw_pp, parm = \"beta_\", method = \"Wald\"))\n",
        "\n",
        "\n",
        "print(paste0(\"Estimated efficacy of the ceiling net: \", round(1-exp(fixef(model_raw_pp))[[2]],2)))"
      ]
    },
    {
      "cell_type": "markdown",
      "metadata": {
        "id": "1ONF2PQIg35l"
      },
      "source": [
        "## Data simulation\n"
      ]
    },
    {
      "cell_type": "markdown",
      "metadata": {
        "id": "IZUMHsoM3Rfv"
      },
      "source": [
        "### Data generation process\n",
        "\n",
        "1.   **Cluster-level random effect**: mean = 0, sd = 0.3\n",
        "2.   **Intervention**: Randomly assing 50% to receive the intervention with 50% risk reduction in clinical malaria\n",
        "3.   **Compliance**: 10% of participants do not accept the intervention due to the lack of health awareneses and they have 20% higher risk of clinical malaria\n",
        "4.   **Bed net use**: 20% of participants do not use bed nets regularly and they have 40% higher risk of clinical malaria\n",
        "5.   **Malaria vaccine**: 70% of children aged 2–6 years with malaria vaccines which reduces 30% of clinical malaria risk\n",
        "6. **Age**: Children aged 0–2 years have 50% higher clinical malaria risk compared to older children\n",
        "\n",
        "Without the above-mentioned any risk factor, incidence rate is 1.5 per person-year following a negative binomial distribution with dispersion parameter 1.2\n",
        "\n",
        "\n",
        "\\begin{align*}\n",
        "y_{ij} &\\sim NegBin(\\lambda_{ij}, \\theta) \\\\\n",
        "\\log{\\lambda_{ij}} &= \\alpha + x_{ij}^T\\beta + u_j \\\\\n",
        "\\ u_j &\\sim N(0, \\sigma_{u}^2) \\\\\n",
        "\\end{align*}\n",
        "\n",
        "\n",
        "\n",
        "\n",
        "\n"
      ]
    },
    {
      "cell_type": "code",
      "execution_count": null,
      "metadata": {
        "id": "6XXbmJOngqOl"
      },
      "outputs": [],
      "source": [
        "df_cohort <- read.csv(\"./data/list_cohort.csv\")\n",
        "date_survey <- as.Date(\"2025/04/01\")\n",
        "df_cohort_2 <- df_cohort %>%\n",
        "  mutate(birth = ifelse(cohort_id == \"cl01_11\", \"2020/11/30\", birth)) %>%\n",
        "  mutate(age = floor(interval(birth, date_survey) / years(1))) %>%\n",
        "  group_by(cluster_id) %>%\n",
        "  mutate(re = rnorm(1, mean = 0, sd = 0.3)) %>%\n",
        "  mutate(intervention = ifelse(as.numeric(str_extract(cluster_id, \"\\\\d+\")) %% 2 == 1,1,0)) %>%\n",
        "  ungroup() %>%\n",
        "  mutate(non_comp = rbinom(nrow(df_cohort), 1, 0.10),\n",
        "         non_bn = rbinom(nrow(df_cohort), 1, 0.2),\n",
        "         vac = case_when(age >= 2 & age <= 6 ~ rbinom(nrow(df_cohort), 1, 0.70),\n",
        "                         TRUE ~ 0),\n",
        "         age_c = ifelse(age <= 2, 1, 0)) %>% # 1: young, 0: old\n",
        "  mutate(cn = ifelse(intervention == 1 & non_comp == 0, 1, 0))"
      ]
    },
    {
      "cell_type": "code",
      "execution_count": null,
      "metadata": {
        "id": "gfemc3fN4FBZ"
      },
      "outputs": [],
      "source": [
        "lambda <- exp(log(1.5)+df_cohort_2$re+\n",
        "            log(0.5)*df_cohort_2$cn+\n",
        "            log(1.2)*df_cohort_2$non_comp+\n",
        "            log(1.4)*df_cohort_2$non_bn+\n",
        "            log(0.7)*df_cohort_2$vac+\n",
        "            log(1.5)*df_cohort_2$age_c\n",
        "            )\n",
        "theta <- 1.2\n",
        "num_pos <- rnegbin(nrow(df_cohort_2), mu = lambda, theta = theta)\n",
        "df_cohort_2$num_pos <- num_pos"
      ]
    },
    {
      "cell_type": "code",
      "execution_count": null,
      "metadata": {
        "scrolled": true,
        "id": "Iq-w_pcSDYlH",
        "outputId": "05bd96fb-4b2e-4639-d1f6-4ffc5395c4f9"
      },
      "outputs": [
        {
          "name": "stdout",
          "output_type": "stream",
          "text": [
            "  [1]  1  0  1  0  1  2  1  0  0  0  0  0  0  2  0  2  0  0  0  0  1  0  2  0  0\n",
            " [26]  0  3  0  1  0  3  0  4  1  0  0  0  1  1  1  1  1  0  0  3  1  1  1  2  0\n",
            " [51]  4  1  0  0  0  0  1  0  1  0  0  3  0  0  1  6  0  0  2  4  2  0  0  5  0\n",
            " [76]  2  0  0  1  0  1  2  0  6  0  2  1  0  6  0  0  1  1  0  0  3  3  4  2  4\n",
            "[101]  0  1  0  1  1  1  3  0  1  0  1  0  1  0  4  7  1  3  1  2  1  2  0  2  2\n",
            "[126]  1  2  3  1  5  2  5  1  1  4  3  8  3  1  2  1  3  2  0  0  0  5  2  0  0\n",
            "[151] 10  0  2  2  6  2  0  2  2  0  0  0  0  0  0  3  4  0  1  0  0  2  1  0  0\n",
            "[176]  3  1  1  0  3  1  0  1  0  0  0  2  0  0  4  5  0  1  0  1  4  0  3  3  0\n",
            "[201]  5  2  0  3  0  2  1  6  2  2  1  0  2  3  1  9  4  0  1  4  6  1  5  0  0\n",
            "[226]  0  0  7  5  0  4  2  1  0  9  0  0  1  1  2  0  0  1  2  0  1  1  0  0  1\n",
            "[251]  0  4  1  0  2  2  0  0  1  1  0  1  2  0  3  0  4  0  0  3  0  1  1  1  1\n",
            "[276]  0  3  1  1  0  0  3  8  0  0  0  1  0  3  4  0  2  0  3  0  0  1  0  0  1\n",
            "[301]  4  2  1  3  1  1  0  2  3  0  0  0  0  0  0  0  3  1  0  2  0  0  2  3  0\n",
            "[326]  1  0  1  3  1  2  0  0  0  1  0  1  0  0  1  0  0  1  1  2  2  1  0  1  2\n",
            "[351]  6  0  4  5  0  1  1  0  0  3  2  0  2  0  4  0  2  0  2  0  0  1  3  0  1\n",
            "[376]  1  0  0  0  1  0  1  0  0  0  0  0  0  2  1  0  0  0  0  1  2  0  0  3  0\n",
            "[401]  0  0  1  0  0  1  0  0  0  2  0  1  0  0  0  2  2  0 10  1  7  0  3  1  4\n",
            "[426]  4  2  2  1  5  1  0  4  1  1  1  4  0  4  4  1  4  3  7  0  3  1  2  0  0\n",
            "[451]  0  8  2  0  0  6  1  3  2  1  0  1  1  5  2  0  1  5  1  2  0  0  2  1  1\n",
            "[476]  0  0  0  0  0  0  1  0  0  0  3  0  0  0  0  1  2  0  0  1  0  0  4  0  1\n",
            "[501]  2  1  0  0  1  1  0  1  0  0  1  0  1  2  0  0  0  0  0  0  0  0  0  0  1\n",
            "[526]  0  1  3  0  0  1  0  0  0  0  0  0  1  2  0  3  0  5  2  1  1  0  2  1  0\n",
            "[551]  0  0  0  1  2  3  1  2  1  7  0  5  0  1  1  2  0  0  3  0  5  0  0  0  3\n",
            "[576]  4  3  1  1  1  0  3  0  1  1  0  8  0  4  0  0  1  1  0  0  2  2  0  2  0\n",
            "[601]  1  5  0  8  1  1  4  0  0  1  0  1  0  2  0  0  4  3  0  0  0  3  1  0  1\n",
            "[626]  0  0  5  0  3  2  0  0  0  0  2  0  7  0  2  6  0  4  1  1  3  2  0  2  2\n",
            "[651]  1  0  2  2  1  1  1  2  2  0  6  0  1  0  1  5  3  3 10  0  0  1  0  0  3\n",
            "[676]  1  0  2  0  3  1  0  5  2  0  0  1  0  0  0  0  1  1  1  0  0  1  0  0  0\n",
            "[701]  4  1  1  1  0  0  4  0  0  0  0  0  0  2  0  0  0  3  1  0  0  0  2  0  0\n",
            "[726]  4  0  0 10  0  3  2  1  0  0  1  4  0 10  1  1  9  0  1  1  1  0  2  2  1\n",
            "[751]  3  1  2  0  2  2  2  7  2  2\n"
          ]
        }
      ],
      "source": [
        "print(df_cohort_2$num_pos)"
      ]
    },
    {
      "cell_type": "code",
      "execution_count": null,
      "metadata": {
        "id": "kT0eL0fLDYlI",
        "outputId": "4d4063fd-a1d9-404b-826a-82d315bbcdf3"
      },
      "outputs": [
        {
          "data": {
            "image/png": "[encoded data removed]",
            "text/plain": [
              "plot without title"
            ]
          },
          "metadata": {
            "image/png": {
              "height": 420,
              "width": 420
            }
          },
          "output_type": "display_data"
        }
      ],
      "source": [
        "df_num_pos <- df_cohort_2 %>% count(num_pos)\n",
        "\n",
        "ggplot(data = df_num_pos, aes(x = num_pos, y = n))+\n",
        "   geom_bar(stat = \"identity\", fill = \"#3182bd\", color = \"#252525\")+\n",
        "   ggtitle(\"Number of malaria positives\")+\n",
        "   theme"
      ]
    },
    {
      "cell_type": "markdown",
      "metadata": {
        "id": "OPP5anQ4DYlI"
      },
      "source": [
        "### Estimates"
      ]
    },
    {
      "cell_type": "code",
      "execution_count": null,
      "metadata": {
        "id": "y-FCKCf7DYlI"
      },
      "outputs": [],
      "source": [
        "model_true <- glmer.nb(num_pos ~\n",
        "                       cn +\n",
        "                       non_comp +\n",
        "                       non_bn +\n",
        "                       vac +\n",
        "                       age_c +\n",
        "                       (1 | cluster_id), data = df_cohort_2)"
      ]
    },
    {
      "cell_type": "code",
      "execution_count": null,
      "metadata": {
        "id": "uVHpUHeEDYlI"
      },
      "outputs": [],
      "source": [
        "model_pp <- glmer.nb(num_pos ~\n",
        "                       cn +\n",
        "                       non_bn +\n",
        "                       vac +\n",
        "                       age_c +\n",
        "                       (1 | cluster_id), data = df_cohort_2)"
      ]
    },
    {
      "cell_type": "code",
      "execution_count": null,
      "metadata": {
        "id": "oquq3AmIDYlI"
      },
      "outputs": [],
      "source": [
        "model_itt <- glmer.nb(num_pos ~\n",
        "                       intervention +\n",
        "                       non_bn +\n",
        "                       vac +\n",
        "                       age_c +\n",
        "                       (1 | cluster_id), data = df_cohort_2)"
      ]
    },
    {
      "cell_type": "code",
      "execution_count": null,
      "metadata": {
        "id": "9jlibYF4DYlI",
        "outputId": "3635603f-619c-4389-f4ee-c83526836021"
      },
      "outputs": [
        {
          "name": "stdout",
          "output_type": "stream",
          "text": [
            "(Intercept)          cn    non_comp      non_bn         vac       age_c \n",
            "  1.4739221   0.5104331   1.4220520   1.2569294   0.7169912   1.3920480 \n"
          ]
        }
      ],
      "source": [
        "print(exp(fixef(model_true)))"
      ]
    },
    {
      "cell_type": "code",
      "execution_count": null,
      "metadata": {
        "id": "W_-HnNCgDYlI",
        "outputId": "09802557-3598-4956-881a-a0410e2b370c"
      },
      "outputs": [
        {
          "name": "stdout",
          "output_type": "stream",
          "text": [
            "(Intercept)          cn      non_bn         vac       age_c \n",
            "  1.6580925   0.4291437   1.2670424   0.7067779   1.4062556 \n"
          ]
        }
      ],
      "source": [
        "print(exp(fixef(model_pp)))"
      ]
    },
    {
      "cell_type": "code",
      "execution_count": null,
      "metadata": {
        "id": "AtWQEGgNDYlI",
        "outputId": "602ea9c5-7e30-49b8-b6f0-e5153e15da31"
      },
      "outputs": [
        {
          "name": "stdout",
          "output_type": "stream",
          "text": [
            " (Intercept) intervention       non_bn          vac        age_c \n",
            "   1.5442046    0.5776051    1.2834086    0.7067913    1.3569822 \n"
          ]
        }
      ],
      "source": [
        "print(exp(fixef(model_itt)))"
      ]
    },
    {
      "cell_type": "code",
      "execution_count": null,
      "metadata": {
        "id": "lwFca7LuDYlI",
        "outputId": "aa981a18-e0c0-486c-9022-870760c09190"
      },
      "outputs": [
        {
          "data": {
            "text/html": [
              "<table class=\"dataframe\">\n",
              "<caption>A matrix: 6 × 2 of type dbl</caption>\n",
              "<thead>\n",
              "\t<tr><th></th><th scope=col>2.5 %</th><th scope=col>97.5 %</th></tr>\n",
              "</thead>\n",
              "<tbody>\n",
              "\t<tr><th scope=row>(Intercept)</th><td>1.1649945</td><td>1.8647695</td></tr>\n",
              "\t<tr><th scope=row>cn</th><td>0.3730803</td><td>0.6983535</td></tr>\n",
              "\t<tr><th scope=row>non_comp</th><td>1.0505415</td><td>1.9249424</td></tr>\n",
              "\t<tr><th scope=row>non_bn</th><td>1.0085038</td><td>1.5665498</td></tr>\n",
              "\t<tr><th scope=row>vac</th><td>0.5751258</td><td>0.8938502</td></tr>\n",
              "\t<tr><th scope=row>age_c</th><td>1.1075344</td><td>1.7496502</td></tr>\n",
              "</tbody>\n",
              "</table>\n"
            ],
            "text/latex": [
              "A matrix: 6 × 2 of type dbl\n",
              "\\begin{tabular}{r|ll}\n",
              "  & 2.5 \\% & 97.5 \\%\\\\\n",
              "\\hline\n",
              "\t(Intercept) & 1.1649945 & 1.8647695\\\\\n",
              "\tcn & 0.3730803 & 0.6983535\\\\\n",
              "\tnon\\_comp & 1.0505415 & 1.9249424\\\\\n",
              "\tnon\\_bn & 1.0085038 & 1.5665498\\\\\n",
              "\tvac & 0.5751258 & 0.8938502\\\\\n",
              "\tage\\_c & 1.1075344 & 1.7496502\\\\\n",
              "\\end{tabular}\n"
            ],
            "text/markdown": [
              "\n",
              "A matrix: 6 × 2 of type dbl\n",
              "\n",
              "| <!--/--> | 2.5 % | 97.5 % |\n",
              "|---|---|---|\n",
              "| (Intercept) | 1.1649945 | 1.8647695 |\n",
              "| cn | 0.3730803 | 0.6983535 |\n",
              "| non_comp | 1.0505415 | 1.9249424 |\n",
              "| non_bn | 1.0085038 | 1.5665498 |\n",
              "| vac | 0.5751258 | 0.8938502 |\n",
              "| age_c | 1.1075344 | 1.7496502 |\n",
              "\n"
            ],
            "text/plain": [
              "            2.5 %     97.5 %   \n",
              "(Intercept) 1.1649945 1.8647695\n",
              "cn          0.3730803 0.6983535\n",
              "non_comp    1.0505415 1.9249424\n",
              "non_bn      1.0085038 1.5665498\n",
              "vac         0.5751258 0.8938502\n",
              "age_c       1.1075344 1.7496502"
            ]
          },
          "metadata": {},
          "output_type": "display_data"
        }
      ],
      "source": [
        "exp(confint(model_true, parm = \"beta_\", method = \"Wald\"))"
      ]
    },
    {
      "cell_type": "code",
      "execution_count": null,
      "metadata": {
        "id": "G6V-IzQODYlI",
        "outputId": "068131f6-37de-4591-cb45-d439fb2ed379"
      },
      "outputs": [
        {
          "name": "stderr",
          "output_type": "stream",
          "text": [
            "\u001b[1m\u001b[22mJoining with `by = join_by(cohort_id)`\n"
          ]
        }
      ],
      "source": [
        "df_res <- tibble(\n",
        "  cohort_id = rep(df_cohort_2$cohort_id, each = 12),\n",
        "  visit = rep(1:12, times = nrow(df_cohort_2)),\n",
        "  total_pos = rep(df_cohort_2$num_pos, each = 12)) %>%\n",
        "  group_by(cohort_id) %>%\n",
        "  mutate(\n",
        "    outcome = {\n",
        "      n_visits <- n()\n",
        "      n_ones <- first(total_pos)\n",
        "      assigned <- rep(0, n_visits)\n",
        "      assigned[sample(n_visits, n_ones)] <- 1\n",
        "      assigned\n",
        "    }\n",
        "  ) %>%\n",
        "  ungroup() %>%\n",
        "  left_join(df_cohort_2)"
      ]
    },
    {
      "cell_type": "code",
      "execution_count": null,
      "metadata": {
        "id": "tPky1eKRDYlI",
        "outputId": "f71cc900-eb1a-465e-e1be-cf66867d90e5"
      },
      "outputs": [
        {
          "data": {
            "text/html": [
              "<table class=\"dataframe\">\n",
              "<caption>A tibble: 6 × 18</caption>\n",
              "<thead>\n",
              "\t<tr><th scope=col>cohort_id</th><th scope=col>visit</th><th scope=col>total_pos</th><th scope=col>outcome</th><th scope=col>cluster_id</th><th scope=col>name_f</th><th scope=col>name_l</th><th scope=col>birth</th><th scope=col>name_labtec</th><th scope=col>age</th><th scope=col>re</th><th scope=col>intervention</th><th scope=col>non_comp</th><th scope=col>non_bn</th><th scope=col>vac</th><th scope=col>age_c</th><th scope=col>cn</th><th scope=col>num_pos</th></tr>\n",
              "\t<tr><th scope=col>&lt;chr&gt;</th><th scope=col>&lt;int&gt;</th><th scope=col>&lt;int&gt;</th><th scope=col>&lt;dbl&gt;</th><th scope=col>&lt;chr&gt;</th><th scope=col>&lt;chr&gt;</th><th scope=col>&lt;chr&gt;</th><th scope=col>&lt;chr&gt;</th><th scope=col>&lt;chr&gt;</th><th scope=col>&lt;dbl&gt;</th><th scope=col>&lt;dbl&gt;</th><th scope=col>&lt;dbl&gt;</th><th scope=col>&lt;int&gt;</th><th scope=col>&lt;int&gt;</th><th scope=col>&lt;dbl&gt;</th><th scope=col>&lt;dbl&gt;</th><th scope=col>&lt;dbl&gt;</th><th scope=col>&lt;int&gt;</th></tr>\n",
              "</thead>\n",
              "<tbody>\n",
              "\t<tr><td>cl01_01</td><td>1</td><td>1</td><td>0</td><td>cl01</td><td> Sakeena</td><td>al-Hoque</td><td>2012-03-26</td><td> Nicole</td><td>13</td><td>-0.2503978</td><td>1</td><td>0</td><td>0</td><td>0</td><td>0</td><td>1</td><td>1</td></tr>\n",
              "\t<tr><td>cl01_01</td><td>2</td><td>1</td><td>0</td><td>cl01</td><td> Sakeena</td><td>al-Hoque</td><td>2012-03-26</td><td> Nicole</td><td>13</td><td>-0.2503978</td><td>1</td><td>0</td><td>0</td><td>0</td><td>0</td><td>1</td><td>1</td></tr>\n",
              "\t<tr><td>cl01_01</td><td>3</td><td>1</td><td>0</td><td>cl01</td><td> Sakeena</td><td>al-Hoque</td><td>2012-03-26</td><td> Nicole</td><td>13</td><td>-0.2503978</td><td>1</td><td>0</td><td>0</td><td>0</td><td>0</td><td>1</td><td>1</td></tr>\n",
              "\t<tr><td>cl01_01</td><td>4</td><td>1</td><td>0</td><td>cl01</td><td> Sakeena</td><td>al-Hoque</td><td>2012-03-26</td><td> Nicole</td><td>13</td><td>-0.2503978</td><td>1</td><td>0</td><td>0</td><td>0</td><td>0</td><td>1</td><td>1</td></tr>\n",
              "\t<tr><td>cl01_01</td><td>5</td><td>1</td><td>0</td><td>cl01</td><td> Sakeena</td><td>al-Hoque</td><td>2012-03-26</td><td> Nicole</td><td>13</td><td>-0.2503978</td><td>1</td><td>0</td><td>0</td><td>0</td><td>0</td><td>1</td><td>1</td></tr>\n",
              "\t<tr><td>cl01_01</td><td>6</td><td>1</td><td>1</td><td>cl01</td><td> Sakeena</td><td>al-Hoque</td><td>2012-03-26</td><td> Nicole</td><td>13</td><td>-0.2503978</td><td>1</td><td>0</td><td>0</td><td>0</td><td>0</td><td>1</td><td>1</td></tr>\n",
              "</tbody>\n",
              "</table>\n"
            ],
            "text/latex": [
              "A tibble: 6 × 18\n",
              "\\begin{tabular}{llllllllllllllllll}\n",
              " cohort\\_id & visit & total\\_pos & outcome & cluster\\_id & name\\_f & name\\_l & birth & name\\_labtec & age & re & intervention & non\\_comp & non\\_bn & vac & age\\_c & cn & num\\_pos\\\\\n",
              " <chr> & <int> & <int> & <dbl> & <chr> & <chr> & <chr> & <chr> & <chr> & <dbl> & <dbl> & <dbl> & <int> & <int> & <dbl> & <dbl> & <dbl> & <int>\\\\\n",
              "\\hline\n",
              "\t cl01\\_01 & 1 & 1 & 0 & cl01 &  Sakeena & al-Hoque & 2012-03-26 &  Nicole & 13 & -0.2503978 & 1 & 0 & 0 & 0 & 0 & 1 & 1\\\\\n",
              "\t cl01\\_01 & 2 & 1 & 0 & cl01 &  Sakeena & al-Hoque & 2012-03-26 &  Nicole & 13 & -0.2503978 & 1 & 0 & 0 & 0 & 0 & 1 & 1\\\\\n",
              "\t cl01\\_01 & 3 & 1 & 0 & cl01 &  Sakeena & al-Hoque & 2012-03-26 &  Nicole & 13 & -0.2503978 & 1 & 0 & 0 & 0 & 0 & 1 & 1\\\\\n",
              "\t cl01\\_01 & 4 & 1 & 0 & cl01 &  Sakeena & al-Hoque & 2012-03-26 &  Nicole & 13 & -0.2503978 & 1 & 0 & 0 & 0 & 0 & 1 & 1\\\\\n",
              "\t cl01\\_01 & 5 & 1 & 0 & cl01 &  Sakeena & al-Hoque & 2012-03-26 &  Nicole & 13 & -0.2503978 & 1 & 0 & 0 & 0 & 0 & 1 & 1\\\\\n",
              "\t cl01\\_01 & 6 & 1 & 1 & cl01 &  Sakeena & al-Hoque & 2012-03-26 &  Nicole & 13 & -0.2503978 & 1 & 0 & 0 & 0 & 0 & 1 & 1\\\\\n",
              "\\end{tabular}\n"
            ],
            "text/markdown": [
              "\n",
              "A tibble: 6 × 18\n",
              "\n",
              "| cohort_id &lt;chr&gt; | visit &lt;int&gt; | total_pos &lt;int&gt; | outcome &lt;dbl&gt; | cluster_id &lt;chr&gt; | name_f &lt;chr&gt; | name_l &lt;chr&gt; | birth &lt;chr&gt; | name_labtec &lt;chr&gt; | age &lt;dbl&gt; | re &lt;dbl&gt; | intervention &lt;dbl&gt; | non_comp &lt;int&gt; | non_bn &lt;int&gt; | vac &lt;dbl&gt; | age_c &lt;dbl&gt; | cn &lt;dbl&gt; | num_pos &lt;int&gt; |\n",
              "|---|---|---|---|---|---|---|---|---|---|---|---|---|---|---|---|---|---|\n",
              "| cl01_01 | 1 | 1 | 0 | cl01 |  Sakeena | al-Hoque | 2012-03-26 |  Nicole | 13 | -0.2503978 | 1 | 0 | 0 | 0 | 0 | 1 | 1 |\n",
              "| cl01_01 | 2 | 1 | 0 | cl01 |  Sakeena | al-Hoque | 2012-03-26 |  Nicole | 13 | -0.2503978 | 1 | 0 | 0 | 0 | 0 | 1 | 1 |\n",
              "| cl01_01 | 3 | 1 | 0 | cl01 |  Sakeena | al-Hoque | 2012-03-26 |  Nicole | 13 | -0.2503978 | 1 | 0 | 0 | 0 | 0 | 1 | 1 |\n",
              "| cl01_01 | 4 | 1 | 0 | cl01 |  Sakeena | al-Hoque | 2012-03-26 |  Nicole | 13 | -0.2503978 | 1 | 0 | 0 | 0 | 0 | 1 | 1 |\n",
              "| cl01_01 | 5 | 1 | 0 | cl01 |  Sakeena | al-Hoque | 2012-03-26 |  Nicole | 13 | -0.2503978 | 1 | 0 | 0 | 0 | 0 | 1 | 1 |\n",
              "| cl01_01 | 6 | 1 | 1 | cl01 |  Sakeena | al-Hoque | 2012-03-26 |  Nicole | 13 | -0.2503978 | 1 | 0 | 0 | 0 | 0 | 1 | 1 |\n",
              "\n"
            ],
            "text/plain": [
              "  cohort_id visit total_pos outcome cluster_id name_f   name_l   birth     \n",
              "1 cl01_01   1     1         0       cl01        Sakeena al-Hoque 2012-03-26\n",
              "2 cl01_01   2     1         0       cl01        Sakeena al-Hoque 2012-03-26\n",
              "3 cl01_01   3     1         0       cl01        Sakeena al-Hoque 2012-03-26\n",
              "4 cl01_01   4     1         0       cl01        Sakeena al-Hoque 2012-03-26\n",
              "5 cl01_01   5     1         0       cl01        Sakeena al-Hoque 2012-03-26\n",
              "6 cl01_01   6     1         1       cl01        Sakeena al-Hoque 2012-03-26\n",
              "  name_labtec age re         intervention non_comp non_bn vac age_c cn num_pos\n",
              "1  Nicole     13  -0.2503978 1            0        0      0   0     1  1      \n",
              "2  Nicole     13  -0.2503978 1            0        0      0   0     1  1      \n",
              "3  Nicole     13  -0.2503978 1            0        0      0   0     1  1      \n",
              "4  Nicole     13  -0.2503978 1            0        0      0   0     1  1      \n",
              "5  Nicole     13  -0.2503978 1            0        0      0   0     1  1      \n",
              "6  Nicole     13  -0.2503978 1            0        0      0   0     1  1      "
            ]
          },
          "metadata": {},
          "output_type": "display_data"
        }
      ],
      "source": [
        "head(df_res)"
      ]
    },
    {
      "cell_type": "code",
      "execution_count": null,
      "metadata": {
        "id": "n3buSA1BDYlI"
      },
      "outputs": [],
      "source": [
        "library(writexl)\n",
        "write_xlsx(df_res,\"df_res.xlsx\")"
      ]
    },
    {
      "cell_type": "code",
      "execution_count": null,
      "metadata": {
        "id": "i65rKB-cDYlI"
      },
      "outputs": [],
      "source": [
        "df_var <- df_res %>%\n",
        "    dplyr::select(cluster_id, cohort_id, birth, age, intervention, cn, non_comp, non_bn, vac, age_c)\n",
        "write_csv(df_var,\"data_var.csv\")\n"
      ]
    },
    {
      "cell_type": "code",
      "execution_count": null,
      "metadata": {
        "id": "84Fa2NaPDYlI"
      },
      "outputs": [],
      "source": []
    }
  ],
  "metadata": {
    "colab": {
      "provenance": [],
      "toc_visible": true
    },
    "kernelspec": {
      "display_name": "R",
      "language": "R",
      "name": "ir"
    },
    "language_info": {
      "codemirror_mode": "r",
      "file_extension": ".r",
      "mimetype": "text/x-r-source",
      "name": "R",
      "pygments_lexer": "r",
      "version": "4.3.3"
    }
  },
  "nbformat": 4,
  "nbformat_minor": 0
}