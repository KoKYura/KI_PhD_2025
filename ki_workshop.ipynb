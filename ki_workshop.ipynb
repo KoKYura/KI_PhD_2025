{
  "cells": [
    {
      "cell_type": "markdown",
      "source": [
        "# Introduction\n",
        "\n",
        "In this workshop, we will estimate the protective efficacy of a new vector control tool, 'ceiling nets,' using data from a hypothetical cluster-randomized controlled trial generated through computer simulation.\n",
        "\n",
        "About ceiling nets: https://bmjopen.bmj.com/content/15/1/e087832.info"
      ],
      "metadata": {
        "id": "MlT9LB5p-JLt"
      }
    },
    {
      "cell_type": "markdown",
      "metadata": {
        "id": "kwPTRvcevMvu"
      },
      "source": [
        "### Importing libraries"
      ]
    },
    {
      "cell_type": "code",
      "source": [
        "# It might take some time, better to run the code in advance of the course.\n",
        "\n",
        "install.packages(\"lme4\")"
      ],
      "metadata": {
        "id": "oBj-cT1kDhdb",
        "outputId": "031a0ea4-d381-43bb-e820-a9f496b35ac7",
        "colab": {
          "base_uri": "https://localhost:8080/"
        }
      },
      "execution_count": 11,
      "outputs": [
        {
          "output_type": "stream",
          "name": "stderr",
          "text": [
            "Installing package into ‘/usr/local/lib/R/site-library’\n",
            "(as ‘lib’ is unspecified)\n",
            "\n",
            "also installing the dependencies ‘rbibutils’, ‘Rdpack’, ‘minqa’, ‘nloptr’, ‘reformulas’, ‘RcppEigen’\n",
            "\n",
            "\n"
          ]
        }
      ]
    },
    {
      "cell_type": "code",
      "execution_count": 12,
      "metadata": {
        "colab": {
          "base_uri": "https://localhost:8080/"
        },
        "id": "naukg5l7vMvu",
        "outputId": "1a62d0a2-7ce4-4589-aca1-282245443727",
        "vscode": {
          "languageId": "r"
        }
      },
      "outputs": [
        {
          "output_type": "stream",
          "name": "stderr",
          "text": [
            "Loading required package: Matrix\n",
            "\n",
            "\n",
            "Attaching package: ‘Matrix’\n",
            "\n",
            "\n",
            "The following objects are masked from ‘package:tidyr’:\n",
            "\n",
            "    expand, pack, unpack\n",
            "\n",
            "\n"
          ]
        }
      ],
      "source": [
        "library(tidyverse)\n",
        "library(MASS)\n",
        "library(lme4)"
      ]
    },
    {
      "cell_type": "code",
      "execution_count": 13,
      "metadata": {
        "id": "z5cAvrX_DYlF"
      },
      "outputs": [],
      "source": [
        "# To make plots\n",
        "theme <- theme(\n",
        "            plot.title = element_text(size=20,face=\"bold\"),\n",
        "            legend.position = \"top\",\n",
        "            legend.title = element_blank(),\n",
        "            axis.text = element_text(size=15),\n",
        "            axis.title = element_text(size=18,face=\"bold\"),\n",
        "            axis.line = element_line(colour = \"black\"),\n",
        "            plot.margin = unit(c(1, 2, 1, 1), \"lines\"),\n",
        "            panel.background = element_blank())"
      ]
    },
    {
      "cell_type": "markdown",
      "metadata": {
        "id": "scAy6lB6vMvu"
      },
      "source": [
        "# Participant list\n",
        "\n",
        "\n",
        "First, you got a cohort participant list from local staff.\n",
        "\n",
        "\n",
        "*   Cohort children are supposed to be aged 6 month to 14 years old.\n",
        "\n",
        "*   Variables are the following:\n",
        "\n",
        "    1.   **cluster_id**: ID for each cluster\n",
        "    2.   **cohort_id**: Unique identifier for each participant\n",
        "    3. **name_f**: First name of the participant\n",
        "    4. **name_l**: Last name of the participant\n",
        "    5. **birth**: Birthday of the participant\n",
        "    6. **name_labtec**: Name of lab tech respondible for the cluster\n",
        "\n"
      ]
    },
    {
      "cell_type": "code",
      "execution_count": 14,
      "metadata": {
        "id": "bs3bRUPhvMvz"
      },
      "outputs": [],
      "source": [
        "df_cohort <- read.csv(\"./list_cohort.csv\")"
      ]
    },
    {
      "cell_type": "code",
      "execution_count": 15,
      "metadata": {
        "colab": {
          "base_uri": "https://localhost:8080/",
          "height": 412
        },
        "id": "CQ160iuzUlZI",
        "outputId": "fcbf4e03-41db-4dd2-e08d-1dfaa6cb9d72"
      },
      "outputs": [
        {
          "output_type": "display_data",
          "data": {
            "text/html": [
              "<table class=\"dataframe\">\n",
              "<caption>A data.frame: 10 × 6</caption>\n",
              "<thead>\n",
              "\t<tr><th></th><th scope=col>cluster_id</th><th scope=col>cohort_id</th><th scope=col>name_f</th><th scope=col>name_l</th><th scope=col>birth</th><th scope=col>name_labtec</th></tr>\n",
              "\t<tr><th></th><th scope=col>&lt;chr&gt;</th><th scope=col>&lt;chr&gt;</th><th scope=col>&lt;chr&gt;</th><th scope=col>&lt;chr&gt;</th><th scope=col>&lt;chr&gt;</th><th scope=col>&lt;chr&gt;</th></tr>\n",
              "</thead>\n",
              "<tbody>\n",
              "\t<tr><th scope=row>1</th><td>cl01</td><td>cl01_01</td><td> Sakeena   </td><td>al-Hoque</td><td>2012-03-26</td><td> Nicole</td></tr>\n",
              "\t<tr><th scope=row>2</th><td>cl01</td><td>cl01_02</td><td> Mitchell  </td><td>Gonzales</td><td>2017-01-02</td><td> Nicole</td></tr>\n",
              "\t<tr><th scope=row>3</th><td>cl01</td><td>cl01_03</td><td> Anthony   </td><td>Simmons </td><td>2024-08-15</td><td> Nicole</td></tr>\n",
              "\t<tr><th scope=row>4</th><td>cl01</td><td>cl01_04</td><td> Alyssa    </td><td>Rivera  </td><td>2016-10-03</td><td> Nicole</td></tr>\n",
              "\t<tr><th scope=row>5</th><td>cl01</td><td>cl01_05</td><td> Timothy   </td><td>Vlajic  </td><td>2015-09-10</td><td> Nicole</td></tr>\n",
              "\t<tr><th scope=row>6</th><td>cl01</td><td>cl01_06</td><td> Mana      </td><td>White   </td><td>2018-08-09</td><td> Nicole</td></tr>\n",
              "\t<tr><th scope=row>7</th><td>cl01</td><td>cl01_07</td><td> Chykeiljah</td><td>Rea     </td><td>2022-05-22</td><td> Nicole</td></tr>\n",
              "\t<tr><th scope=row>8</th><td>cl01</td><td>cl01_08</td><td> Laneesha  </td><td>Rusk    </td><td>2011-07-23</td><td> Nicole</td></tr>\n",
              "\t<tr><th scope=row>9</th><td>cl01</td><td>cl01_09</td><td> Mujaahida </td><td>el-Malak</td><td>2021-01-02</td><td> Nicole</td></tr>\n",
              "\t<tr><th scope=row>10</th><td>cl01</td><td>cl01_10</td><td> Jasmine   </td><td>Figueroa</td><td>2013-02-21</td><td> Nicole</td></tr>\n",
              "</tbody>\n",
              "</table>\n"
            ],
            "text/markdown": "\nA data.frame: 10 × 6\n\n| <!--/--> | cluster_id &lt;chr&gt; | cohort_id &lt;chr&gt; | name_f &lt;chr&gt; | name_l &lt;chr&gt; | birth &lt;chr&gt; | name_labtec &lt;chr&gt; |\n|---|---|---|---|---|---|---|\n| 1 | cl01 | cl01_01 |  Sakeena    | al-Hoque | 2012-03-26 |  Nicole |\n| 2 | cl01 | cl01_02 |  Mitchell   | Gonzales | 2017-01-02 |  Nicole |\n| 3 | cl01 | cl01_03 |  Anthony    | Simmons  | 2024-08-15 |  Nicole |\n| 4 | cl01 | cl01_04 |  Alyssa     | Rivera   | 2016-10-03 |  Nicole |\n| 5 | cl01 | cl01_05 |  Timothy    | Vlajic   | 2015-09-10 |  Nicole |\n| 6 | cl01 | cl01_06 |  Mana       | White    | 2018-08-09 |  Nicole |\n| 7 | cl01 | cl01_07 |  Chykeiljah | Rea      | 2022-05-22 |  Nicole |\n| 8 | cl01 | cl01_08 |  Laneesha   | Rusk     | 2011-07-23 |  Nicole |\n| 9 | cl01 | cl01_09 |  Mujaahida  | el-Malak | 2021-01-02 |  Nicole |\n| 10 | cl01 | cl01_10 |  Jasmine    | Figueroa | 2013-02-21 |  Nicole |\n\n",
            "text/latex": "A data.frame: 10 × 6\n\\begin{tabular}{r|llllll}\n  & cluster\\_id & cohort\\_id & name\\_f & name\\_l & birth & name\\_labtec\\\\\n  & <chr> & <chr> & <chr> & <chr> & <chr> & <chr>\\\\\n\\hline\n\t1 & cl01 & cl01\\_01 &  Sakeena    & al-Hoque & 2012-03-26 &  Nicole\\\\\n\t2 & cl01 & cl01\\_02 &  Mitchell   & Gonzales & 2017-01-02 &  Nicole\\\\\n\t3 & cl01 & cl01\\_03 &  Anthony    & Simmons  & 2024-08-15 &  Nicole\\\\\n\t4 & cl01 & cl01\\_04 &  Alyssa     & Rivera   & 2016-10-03 &  Nicole\\\\\n\t5 & cl01 & cl01\\_05 &  Timothy    & Vlajic   & 2015-09-10 &  Nicole\\\\\n\t6 & cl01 & cl01\\_06 &  Mana       & White    & 2018-08-09 &  Nicole\\\\\n\t7 & cl01 & cl01\\_07 &  Chykeiljah & Rea      & 2022-05-22 &  Nicole\\\\\n\t8 & cl01 & cl01\\_08 &  Laneesha   & Rusk     & 2011-07-23 &  Nicole\\\\\n\t9 & cl01 & cl01\\_09 &  Mujaahida  & el-Malak & 2021-01-02 &  Nicole\\\\\n\t10 & cl01 & cl01\\_10 &  Jasmine    & Figueroa & 2013-02-21 &  Nicole\\\\\n\\end{tabular}\n",
            "text/plain": [
              "   cluster_id cohort_id name_f      name_l   birth      name_labtec\n",
              "1  cl01       cl01_01    Sakeena    al-Hoque 2012-03-26  Nicole    \n",
              "2  cl01       cl01_02    Mitchell   Gonzales 2017-01-02  Nicole    \n",
              "3  cl01       cl01_03    Anthony    Simmons  2024-08-15  Nicole    \n",
              "4  cl01       cl01_04    Alyssa     Rivera   2016-10-03  Nicole    \n",
              "5  cl01       cl01_05    Timothy    Vlajic   2015-09-10  Nicole    \n",
              "6  cl01       cl01_06    Mana       White    2018-08-09  Nicole    \n",
              "7  cl01       cl01_07    Chykeiljah Rea      2022-05-22  Nicole    \n",
              "8  cl01       cl01_08    Laneesha   Rusk     2011-07-23  Nicole    \n",
              "9  cl01       cl01_09    Mujaahida  el-Malak 2021-01-02  Nicole    \n",
              "10 cl01       cl01_10    Jasmine    Figueroa 2013-02-21  Nicole    "
            ]
          },
          "metadata": {}
        }
      ],
      "source": [
        "head(df_cohort,10)"
      ]
    },
    {
      "cell_type": "code",
      "execution_count": 16,
      "metadata": {
        "colab": {
          "base_uri": "https://localhost:8080/",
          "height": 34
        },
        "id": "dr7ZK1gMVBiA",
        "outputId": "4b8d5b2d-5193-477a-cce6-55e7031ef90c"
      },
      "outputs": [
        {
          "output_type": "display_data",
          "data": {
            "text/html": [
              "<style>\n",
              ".list-inline {list-style: none; margin:0; padding: 0}\n",
              ".list-inline>li {display: inline-block}\n",
              ".list-inline>li:not(:last-child)::after {content: \"\\00b7\"; padding: 0 .5ex}\n",
              "</style>\n",
              "<ol class=list-inline><li>'cl01'</li><li>'cl02'</li><li>'cl03'</li><li>'cl04'</li><li>'cl05'</li><li>'cl06'</li><li>'cl07'</li><li>'cl08'</li><li>'cl09'</li><li>'cl10'</li><li>'cl11'</li><li>'cl12'</li><li>'cl13'</li><li>'cl14'</li><li>'cl15'</li><li>'cl16'</li><li>'cl17'</li><li>'cl18'</li><li>'cl19'</li><li>'cl20'</li></ol>\n"
            ],
            "text/markdown": "1. 'cl01'\n2. 'cl02'\n3. 'cl03'\n4. 'cl04'\n5. 'cl05'\n6. 'cl06'\n7. 'cl07'\n8. 'cl08'\n9. 'cl09'\n10. 'cl10'\n11. 'cl11'\n12. 'cl12'\n13. 'cl13'\n14. 'cl14'\n15. 'cl15'\n16. 'cl16'\n17. 'cl17'\n18. 'cl18'\n19. 'cl19'\n20. 'cl20'\n\n\n",
            "text/latex": "\\begin{enumerate*}\n\\item 'cl01'\n\\item 'cl02'\n\\item 'cl03'\n\\item 'cl04'\n\\item 'cl05'\n\\item 'cl06'\n\\item 'cl07'\n\\item 'cl08'\n\\item 'cl09'\n\\item 'cl10'\n\\item 'cl11'\n\\item 'cl12'\n\\item 'cl13'\n\\item 'cl14'\n\\item 'cl15'\n\\item 'cl16'\n\\item 'cl17'\n\\item 'cl18'\n\\item 'cl19'\n\\item 'cl20'\n\\end{enumerate*}\n",
            "text/plain": [
              " [1] \"cl01\" \"cl02\" \"cl03\" \"cl04\" \"cl05\" \"cl06\" \"cl07\" \"cl08\" \"cl09\" \"cl10\"\n",
              "[11] \"cl11\" \"cl12\" \"cl13\" \"cl14\" \"cl15\" \"cl16\" \"cl17\" \"cl18\" \"cl19\" \"cl20\""
            ]
          },
          "metadata": {}
        }
      ],
      "source": [
        "# How many cluster IDs?\n",
        "unique(df_cohort$cluster_id)"
      ]
    },
    {
      "cell_type": "code",
      "execution_count": 17,
      "metadata": {
        "colab": {
          "base_uri": "https://localhost:8080/",
          "height": 725
        },
        "id": "fcwM8InTXOS0",
        "outputId": "1b2eef51-b59b-4602-bf64-b0ee7d1f6ea1"
      },
      "outputs": [
        {
          "output_type": "display_data",
          "data": {
            "text/html": [
              "<table class=\"dataframe\">\n",
              "<caption>A data.frame: 20 × 2</caption>\n",
              "<thead>\n",
              "\t<tr><th scope=col>cluster_id</th><th scope=col>n</th></tr>\n",
              "\t<tr><th scope=col>&lt;chr&gt;</th><th scope=col>&lt;int&gt;</th></tr>\n",
              "</thead>\n",
              "<tbody>\n",
              "\t<tr><td>cl01</td><td>38</td></tr>\n",
              "\t<tr><td>cl02</td><td>38</td></tr>\n",
              "\t<tr><td>cl03</td><td>38</td></tr>\n",
              "\t<tr><td>cl04</td><td>38</td></tr>\n",
              "\t<tr><td>cl05</td><td>38</td></tr>\n",
              "\t<tr><td>cl06</td><td>38</td></tr>\n",
              "\t<tr><td>cl07</td><td>38</td></tr>\n",
              "\t<tr><td>cl08</td><td>38</td></tr>\n",
              "\t<tr><td>cl09</td><td>38</td></tr>\n",
              "\t<tr><td>cl10</td><td>38</td></tr>\n",
              "\t<tr><td>cl11</td><td>38</td></tr>\n",
              "\t<tr><td>cl12</td><td>38</td></tr>\n",
              "\t<tr><td>cl13</td><td>38</td></tr>\n",
              "\t<tr><td>cl14</td><td>38</td></tr>\n",
              "\t<tr><td>cl15</td><td>38</td></tr>\n",
              "\t<tr><td>cl16</td><td>38</td></tr>\n",
              "\t<tr><td>cl17</td><td>38</td></tr>\n",
              "\t<tr><td>cl18</td><td>38</td></tr>\n",
              "\t<tr><td>cl19</td><td>38</td></tr>\n",
              "\t<tr><td>cl20</td><td>38</td></tr>\n",
              "</tbody>\n",
              "</table>\n"
            ],
            "text/markdown": "\nA data.frame: 20 × 2\n\n| cluster_id &lt;chr&gt; | n &lt;int&gt; |\n|---|---|\n| cl01 | 38 |\n| cl02 | 38 |\n| cl03 | 38 |\n| cl04 | 38 |\n| cl05 | 38 |\n| cl06 | 38 |\n| cl07 | 38 |\n| cl08 | 38 |\n| cl09 | 38 |\n| cl10 | 38 |\n| cl11 | 38 |\n| cl12 | 38 |\n| cl13 | 38 |\n| cl14 | 38 |\n| cl15 | 38 |\n| cl16 | 38 |\n| cl17 | 38 |\n| cl18 | 38 |\n| cl19 | 38 |\n| cl20 | 38 |\n\n",
            "text/latex": "A data.frame: 20 × 2\n\\begin{tabular}{ll}\n cluster\\_id & n\\\\\n <chr> & <int>\\\\\n\\hline\n\t cl01 & 38\\\\\n\t cl02 & 38\\\\\n\t cl03 & 38\\\\\n\t cl04 & 38\\\\\n\t cl05 & 38\\\\\n\t cl06 & 38\\\\\n\t cl07 & 38\\\\\n\t cl08 & 38\\\\\n\t cl09 & 38\\\\\n\t cl10 & 38\\\\\n\t cl11 & 38\\\\\n\t cl12 & 38\\\\\n\t cl13 & 38\\\\\n\t cl14 & 38\\\\\n\t cl15 & 38\\\\\n\t cl16 & 38\\\\\n\t cl17 & 38\\\\\n\t cl18 & 38\\\\\n\t cl19 & 38\\\\\n\t cl20 & 38\\\\\n\\end{tabular}\n",
            "text/plain": [
              "   cluster_id n \n",
              "1  cl01       38\n",
              "2  cl02       38\n",
              "3  cl03       38\n",
              "4  cl04       38\n",
              "5  cl05       38\n",
              "6  cl06       38\n",
              "7  cl07       38\n",
              "8  cl08       38\n",
              "9  cl09       38\n",
              "10 cl10       38\n",
              "11 cl11       38\n",
              "12 cl12       38\n",
              "13 cl13       38\n",
              "14 cl14       38\n",
              "15 cl15       38\n",
              "16 cl16       38\n",
              "17 cl17       38\n",
              "18 cl18       38\n",
              "19 cl19       38\n",
              "20 cl20       38"
            ]
          },
          "metadata": {}
        }
      ],
      "source": [
        "# Number of participants per cluster\n",
        "df_cohort %>% count(cluster_id)"
      ]
    },
    {
      "cell_type": "code",
      "source": [
        "# Lab tech name?\n",
        "print(unique(df_cohort$name_labtec))"
      ],
      "metadata": {
        "id": "SAr9wYzTGjg8",
        "outputId": "f7ee3ee2-3391-4153-e048-bc17ef7819ff",
        "colab": {
          "base_uri": "https://localhost:8080/"
        }
      },
      "execution_count": 18,
      "outputs": [
        {
          "output_type": "stream",
          "name": "stdout",
          "text": [
            " [1] \" Nicole\"     \" Luis\"       \" Rustin\"     \" Phuc Danny\" \" Kimberly\"  \n",
            " [6] \" Ghaaziya\"   \" Clifford\"   \" Antonia\"    \" Felonice\"   \" Jordan\"    \n",
            "[11] \" Hysoonie\"   \" Saleet\"     \" Michael\"    \" Patrick\"    \" Darian\"    \n",
            "[16] \" Sean\"       \" Megan\"      \" Sharaf\"     \" Rashiah\"    \" Aaron\"     \n"
          ]
        }
      ]
    },
    {
      "cell_type": "code",
      "execution_count": 19,
      "metadata": {
        "id": "1QJm3jFOYMCv"
      },
      "outputs": [],
      "source": [
        "# Age of participants?\n",
        "date_survey <- as.Date(\"2025/04/01\")\n",
        "df_cohort$age <- floor(interval(df_cohort$birth, date_survey) / years(1))"
      ]
    },
    {
      "cell_type": "code",
      "execution_count": 20,
      "metadata": {
        "colab": {
          "base_uri": "https://localhost:8080/",
          "height": 437
        },
        "id": "HqZlwGKAYafu",
        "outputId": "f5200c4e-2619-4ca8-9d73-3619bc0ebc2b"
      },
      "outputs": [
        {
          "output_type": "display_data",
          "data": {
            "text/plain": [
              "plot without title"
            ],
            "image/png": "[encoded data removed]"
          },
          "metadata": {
            "image/png": {
              "width": 420,
              "height": 420
            }
          }
        }
      ],
      "source": [
        "df_cohort_age <- df_cohort %>% count(age)\n",
        "\n",
        "ggplot(data = df_cohort_age, aes(x = age, y = n))+\n",
        "  geom_bar(stat = \"identity\", fill = \"#fdae6b\", color = \"#252525\")+\n",
        "  theme"
      ]
    },
    {
      "cell_type": "code",
      "execution_count": 21,
      "metadata": {
        "colab": {
          "base_uri": "https://localhost:8080/",
          "height": 129
        },
        "id": "GgSu9NrWacSl",
        "outputId": "09db5a98-ed2f-40d1-a768-956281a1fb31"
      },
      "outputs": [
        {
          "output_type": "display_data",
          "data": {
            "text/html": [
              "<table class=\"dataframe\">\n",
              "<caption>A data.frame: 1 × 7</caption>\n",
              "<thead>\n",
              "\t<tr><th scope=col>cluster_id</th><th scope=col>cohort_id</th><th scope=col>name_f</th><th scope=col>name_l</th><th scope=col>birth</th><th scope=col>name_labtec</th><th scope=col>age</th></tr>\n",
              "\t<tr><th scope=col>&lt;chr&gt;</th><th scope=col>&lt;chr&gt;</th><th scope=col>&lt;chr&gt;</th><th scope=col>&lt;chr&gt;</th><th scope=col>&lt;chr&gt;</th><th scope=col>&lt;chr&gt;</th><th scope=col>&lt;dbl&gt;</th></tr>\n",
              "</thead>\n",
              "<tbody>\n",
              "\t<tr><td>cl01</td><td>cl01_11</td><td> Austin</td><td>Smith</td><td>2000/11/30</td><td> Nicole</td><td>24</td></tr>\n",
              "</tbody>\n",
              "</table>\n"
            ],
            "text/markdown": "\nA data.frame: 1 × 7\n\n| cluster_id &lt;chr&gt; | cohort_id &lt;chr&gt; | name_f &lt;chr&gt; | name_l &lt;chr&gt; | birth &lt;chr&gt; | name_labtec &lt;chr&gt; | age &lt;dbl&gt; |\n|---|---|---|---|---|---|---|\n| cl01 | cl01_11 |  Austin | Smith | 2000/11/30 |  Nicole | 24 |\n\n",
            "text/latex": "A data.frame: 1 × 7\n\\begin{tabular}{lllllll}\n cluster\\_id & cohort\\_id & name\\_f & name\\_l & birth & name\\_labtec & age\\\\\n <chr> & <chr> & <chr> & <chr> & <chr> & <chr> & <dbl>\\\\\n\\hline\n\t cl01 & cl01\\_11 &  Austin & Smith & 2000/11/30 &  Nicole & 24\\\\\n\\end{tabular}\n",
            "text/plain": [
              "  cluster_id cohort_id name_f  name_l birth      name_labtec age\n",
              "1 cl01       cl01_11    Austin Smith  2000/11/30  Nicole     24 "
            ]
          },
          "metadata": {}
        }
      ],
      "source": [
        "df_cohort %>% filter(age > 14)"
      ]
    },
    {
      "cell_type": "markdown",
      "source": [
        "Oh, why was the 24 y.o adult, Austin, included in the cohort list?\n",
        "\n",
        "Let's ask Nicole, the lab tech for cluster 'cl01'. Then, you may find that the incorrect birthday was recorded.\n",
        "\n",
        "Her true birthday is November 30, 2020!\n",
        "\n",
        "We need to fix the data set."
      ],
      "metadata": {
        "id": "9v_WSiSkHHi5"
      }
    },
    {
      "cell_type": "code",
      "execution_count": 22,
      "metadata": {
        "id": "vyBusHDeb8vv"
      },
      "outputs": [],
      "source": [
        "df_cohort <- df_cohort %>%\n",
        "  mutate(birth = ifelse(cohort_id == \"cl01_11\", \"2020/11/30\", birth)) %>%\n",
        "  mutate(age = ifelse(cohort_id == \"cl01_11\", 3, age))"
      ]
    },
    {
      "cell_type": "code",
      "execution_count": 23,
      "metadata": {
        "colab": {
          "base_uri": "https://localhost:8080/",
          "height": 129
        },
        "id": "nyGR4pgdb9Jj",
        "outputId": "e7991573-440f-43a9-f702-9266d6e38165"
      },
      "outputs": [
        {
          "output_type": "display_data",
          "data": {
            "text/html": [
              "<table class=\"dataframe\">\n",
              "<caption>A data.frame: 1 × 7</caption>\n",
              "<thead>\n",
              "\t<tr><th scope=col>cluster_id</th><th scope=col>cohort_id</th><th scope=col>name_f</th><th scope=col>name_l</th><th scope=col>birth</th><th scope=col>name_labtec</th><th scope=col>age</th></tr>\n",
              "\t<tr><th scope=col>&lt;chr&gt;</th><th scope=col>&lt;chr&gt;</th><th scope=col>&lt;chr&gt;</th><th scope=col>&lt;chr&gt;</th><th scope=col>&lt;chr&gt;</th><th scope=col>&lt;chr&gt;</th><th scope=col>&lt;dbl&gt;</th></tr>\n",
              "</thead>\n",
              "<tbody>\n",
              "\t<tr><td>cl01</td><td>cl01_11</td><td> Austin</td><td>Smith</td><td>2020/11/30</td><td> Nicole</td><td>3</td></tr>\n",
              "</tbody>\n",
              "</table>\n"
            ],
            "text/markdown": "\nA data.frame: 1 × 7\n\n| cluster_id &lt;chr&gt; | cohort_id &lt;chr&gt; | name_f &lt;chr&gt; | name_l &lt;chr&gt; | birth &lt;chr&gt; | name_labtec &lt;chr&gt; | age &lt;dbl&gt; |\n|---|---|---|---|---|---|---|\n| cl01 | cl01_11 |  Austin | Smith | 2020/11/30 |  Nicole | 3 |\n\n",
            "text/latex": "A data.frame: 1 × 7\n\\begin{tabular}{lllllll}\n cluster\\_id & cohort\\_id & name\\_f & name\\_l & birth & name\\_labtec & age\\\\\n <chr> & <chr> & <chr> & <chr> & <chr> & <chr> & <dbl>\\\\\n\\hline\n\t cl01 & cl01\\_11 &  Austin & Smith & 2020/11/30 &  Nicole & 3\\\\\n\\end{tabular}\n",
            "text/plain": [
              "  cluster_id cohort_id name_f  name_l birth      name_labtec age\n",
              "1 cl01       cl01_11    Austin Smith  2020/11/30  Nicole     3  "
            ]
          },
          "metadata": {}
        }
      ],
      "source": [
        "df_cohort %>% filter(cohort_id == \"cl01_11\")"
      ]
    },
    {
      "cell_type": "code",
      "execution_count": 24,
      "metadata": {
        "colab": {
          "base_uri": "https://localhost:8080/",
          "height": 437
        },
        "id": "8FnXMOVngf0n",
        "outputId": "d0258224-8421-4d4a-a38e-0b759d7a62ca"
      },
      "outputs": [
        {
          "output_type": "display_data",
          "data": {
            "text/plain": [
              "plot without title"
            ],
            "image/png": "[encoded data removed]"
          },
          "metadata": {
            "image/png": {
              "width": 420,
              "height": 420
            }
          }
        }
      ],
      "source": [
        "df_cohort_age <- df_cohort %>% count(age)\n",
        "\n",
        "ggplot(data = df_cohort_age, aes(x = age, y = n))+\n",
        "   geom_bar(stat = \"identity\", fill = \"#fdae6b\", color = \"#252525\")+\n",
        "   theme"
      ]
    },
    {
      "cell_type": "markdown",
      "source": [
        "# Baseline data\n",
        "\n",
        "We have the following information associated with malaria outcomes.\n",
        "\n",
        "\n",
        "\n",
        "1.   **intervention**: Intervention or Control assignment (1: intervention, 0: control)\n",
        "2.   **cn**: Living in the household with ceiling net or not (1: with cn, 0: without cn)\n",
        "3. **non_bn**: Not using bed net (1: non-user, 0: user)\n",
        "4. **vac**: With malaria vaccination for those aged 2–6 years old (1: vaccinated)\n",
        "5. **age_c**: age category (1: age <= 2 yo, 0: age > 2 yo)\n",
        "6. **rdt**: RDT results\n"
      ],
      "metadata": {
        "id": "TV0jieZAIJo_"
      }
    },
    {
      "cell_type": "code",
      "source": [
        "df_baseline <- read.csv(\"./data_baseline.csv\")\n",
        "head(df_baseline)"
      ],
      "metadata": {
        "id": "M0pl5GRxIA7a",
        "outputId": "5e68a3d3-cdf3-469d-c8bd-0a1568363b8d",
        "colab": {
          "base_uri": "https://localhost:8080/",
          "height": 286
        }
      },
      "execution_count": 25,
      "outputs": [
        {
          "output_type": "display_data",
          "data": {
            "text/html": [
              "<table class=\"dataframe\">\n",
              "<caption>A data.frame: 6 × 10</caption>\n",
              "<thead>\n",
              "\t<tr><th></th><th scope=col>cluster_id</th><th scope=col>cohort_id</th><th scope=col>birth</th><th scope=col>age</th><th scope=col>intervention</th><th scope=col>cn</th><th scope=col>non_bn</th><th scope=col>vac</th><th scope=col>age_c</th><th scope=col>rdt</th></tr>\n",
              "\t<tr><th></th><th scope=col>&lt;chr&gt;</th><th scope=col>&lt;chr&gt;</th><th scope=col>&lt;chr&gt;</th><th scope=col>&lt;int&gt;</th><th scope=col>&lt;int&gt;</th><th scope=col>&lt;int&gt;</th><th scope=col>&lt;int&gt;</th><th scope=col>&lt;int&gt;</th><th scope=col>&lt;int&gt;</th><th scope=col>&lt;int&gt;</th></tr>\n",
              "</thead>\n",
              "<tbody>\n",
              "\t<tr><th scope=row>1</th><td>cl01</td><td>cl01_01</td><td>2012-03-26</td><td>13</td><td>1</td><td>1</td><td>0</td><td>0</td><td>0</td><td>0</td></tr>\n",
              "\t<tr><th scope=row>2</th><td>cl01</td><td>cl01_02</td><td>2017-01-02</td><td> 8</td><td>1</td><td>1</td><td>0</td><td>0</td><td>0</td><td>1</td></tr>\n",
              "\t<tr><th scope=row>3</th><td>cl01</td><td>cl01_03</td><td>2024-08-15</td><td> 0</td><td>1</td><td>1</td><td>0</td><td>0</td><td>1</td><td>0</td></tr>\n",
              "\t<tr><th scope=row>4</th><td>cl01</td><td>cl01_04</td><td>2016-10-03</td><td> 8</td><td>1</td><td>1</td><td>0</td><td>0</td><td>0</td><td>0</td></tr>\n",
              "\t<tr><th scope=row>5</th><td>cl01</td><td>cl01_05</td><td>2015-09-10</td><td> 9</td><td>1</td><td>1</td><td>0</td><td>0</td><td>0</td><td>0</td></tr>\n",
              "\t<tr><th scope=row>6</th><td>cl01</td><td>cl01_06</td><td>2018-08-09</td><td> 6</td><td>1</td><td>1</td><td>0</td><td>1</td><td>0</td><td>0</td></tr>\n",
              "</tbody>\n",
              "</table>\n"
            ],
            "text/markdown": "\nA data.frame: 6 × 10\n\n| <!--/--> | cluster_id &lt;chr&gt; | cohort_id &lt;chr&gt; | birth &lt;chr&gt; | age &lt;int&gt; | intervention &lt;int&gt; | cn &lt;int&gt; | non_bn &lt;int&gt; | vac &lt;int&gt; | age_c &lt;int&gt; | rdt &lt;int&gt; |\n|---|---|---|---|---|---|---|---|---|---|---|\n| 1 | cl01 | cl01_01 | 2012-03-26 | 13 | 1 | 1 | 0 | 0 | 0 | 0 |\n| 2 | cl01 | cl01_02 | 2017-01-02 |  8 | 1 | 1 | 0 | 0 | 0 | 1 |\n| 3 | cl01 | cl01_03 | 2024-08-15 |  0 | 1 | 1 | 0 | 0 | 1 | 0 |\n| 4 | cl01 | cl01_04 | 2016-10-03 |  8 | 1 | 1 | 0 | 0 | 0 | 0 |\n| 5 | cl01 | cl01_05 | 2015-09-10 |  9 | 1 | 1 | 0 | 0 | 0 | 0 |\n| 6 | cl01 | cl01_06 | 2018-08-09 |  6 | 1 | 1 | 0 | 1 | 0 | 0 |\n\n",
            "text/latex": "A data.frame: 6 × 10\n\\begin{tabular}{r|llllllllll}\n  & cluster\\_id & cohort\\_id & birth & age & intervention & cn & non\\_bn & vac & age\\_c & rdt\\\\\n  & <chr> & <chr> & <chr> & <int> & <int> & <int> & <int> & <int> & <int> & <int>\\\\\n\\hline\n\t1 & cl01 & cl01\\_01 & 2012-03-26 & 13 & 1 & 1 & 0 & 0 & 0 & 0\\\\\n\t2 & cl01 & cl01\\_02 & 2017-01-02 &  8 & 1 & 1 & 0 & 0 & 0 & 1\\\\\n\t3 & cl01 & cl01\\_03 & 2024-08-15 &  0 & 1 & 1 & 0 & 0 & 1 & 0\\\\\n\t4 & cl01 & cl01\\_04 & 2016-10-03 &  8 & 1 & 1 & 0 & 0 & 0 & 0\\\\\n\t5 & cl01 & cl01\\_05 & 2015-09-10 &  9 & 1 & 1 & 0 & 0 & 0 & 0\\\\\n\t6 & cl01 & cl01\\_06 & 2018-08-09 &  6 & 1 & 1 & 0 & 1 & 0 & 0\\\\\n\\end{tabular}\n",
            "text/plain": [
              "  cluster_id cohort_id birth      age intervention cn non_bn vac age_c rdt\n",
              "1 cl01       cl01_01   2012-03-26 13  1            1  0      0   0     0  \n",
              "2 cl01       cl01_02   2017-01-02  8  1            1  0      0   0     1  \n",
              "3 cl01       cl01_03   2024-08-15  0  1            1  0      0   1     0  \n",
              "4 cl01       cl01_04   2016-10-03  8  1            1  0      0   0     0  \n",
              "5 cl01       cl01_05   2015-09-10  9  1            1  0      0   0     0  \n",
              "6 cl01       cl01_06   2018-08-09  6  1            1  0      1   0     0  "
            ]
          },
          "metadata": {}
        }
      ]
    },
    {
      "cell_type": "markdown",
      "source": [
        "Transmission heterogeneity"
      ],
      "metadata": {
        "id": "pD72CP7NjU-Q"
      }
    },
    {
      "cell_type": "code",
      "source": [
        "df_prev <- df_baseline %>%\n",
        "  group_by(cluster_id) %>%\n",
        "  count(rdt) %>%\n",
        "  mutate(prev = n/sum(n)) %>%\n",
        "  filter(rdt == 1) %>%\n",
        "  arrange(prev) %>%\n",
        "  ungroup() %>%\n",
        "  mutate(order = row_number())\n",
        "\n",
        "ggplot(data = df_prev, aes(x = order, y = prev))+\n",
        "   geom_bar(stat = \"identity\", fill = \"#fc4e2a\", color = \"#252525\")+\n",
        "   theme+\n",
        "   theme(\n",
        "          axis.title.x = element_blank(),\n",
        "          axis.text.x = element_blank()\n",
        "   )"
      ],
      "metadata": {
        "colab": {
          "base_uri": "https://localhost:8080/",
          "height": 437
        },
        "id": "1mgfCF5ffyW0",
        "outputId": "84a662b7-7471-43ee-a34b-e8027706423d"
      },
      "execution_count": 26,
      "outputs": [
        {
          "output_type": "display_data",
          "data": {
            "text/plain": [
              "plot without title"
            ],
            "image/png": "[encoded data removed]"
          },
          "metadata": {
            "image/png": {
              "width": 420,
              "height": 420
            }
          }
        }
      ]
    },
    {
      "cell_type": "markdown",
      "metadata": {
        "id": "RgUVIAl4DYlG"
      },
      "source": [
        "# Analysis of perfect data\n",
        "\n",
        "Suppose that we got to know the potential non-compliers, even those in the control arm.\n",
        "\n",
        "**non_comp**: 1: non complier, 0: complier"
      ]
    },
    {
      "cell_type": "code",
      "execution_count": 92,
      "metadata": {
        "scrolled": true,
        "id": "kWq9pYInDYlG",
        "outputId": "41a23836-0b61-41cd-cd49-70890dd61db8",
        "colab": {
          "base_uri": "https://localhost:8080/",
          "height": 286
        }
      },
      "outputs": [
        {
          "output_type": "display_data",
          "data": {
            "text/html": [
              "<table class=\"dataframe\">\n",
              "<caption>A data.frame: 6 × 15</caption>\n",
              "<thead>\n",
              "\t<tr><th></th><th scope=col>cohort_id</th><th scope=col>visit</th><th scope=col>outcome</th><th scope=col>cluster_id</th><th scope=col>name_f</th><th scope=col>name_l</th><th scope=col>birth</th><th scope=col>name_labtec</th><th scope=col>age</th><th scope=col>intervention</th><th scope=col>cn</th><th scope=col>non_comp</th><th scope=col>non_bn</th><th scope=col>vac</th><th scope=col>age_c</th></tr>\n",
              "\t<tr><th></th><th scope=col>&lt;chr&gt;</th><th scope=col>&lt;int&gt;</th><th scope=col>&lt;int&gt;</th><th scope=col>&lt;chr&gt;</th><th scope=col>&lt;chr&gt;</th><th scope=col>&lt;chr&gt;</th><th scope=col>&lt;chr&gt;</th><th scope=col>&lt;chr&gt;</th><th scope=col>&lt;int&gt;</th><th scope=col>&lt;int&gt;</th><th scope=col>&lt;int&gt;</th><th scope=col>&lt;int&gt;</th><th scope=col>&lt;int&gt;</th><th scope=col>&lt;int&gt;</th><th scope=col>&lt;int&gt;</th></tr>\n",
              "</thead>\n",
              "<tbody>\n",
              "\t<tr><th scope=row>1</th><td>cl01_01</td><td>1</td><td>0</td><td>cl01</td><td> Sakeena</td><td>al-Hoque</td><td>2012/03/26</td><td> Nicole</td><td>13</td><td>1</td><td>1</td><td>0</td><td>0</td><td>0</td><td>0</td></tr>\n",
              "\t<tr><th scope=row>2</th><td>cl01_01</td><td>2</td><td>0</td><td>cl01</td><td> Sakeena</td><td>al-Hoque</td><td>2012/03/26</td><td> Nicole</td><td>13</td><td>1</td><td>1</td><td>0</td><td>0</td><td>0</td><td>0</td></tr>\n",
              "\t<tr><th scope=row>3</th><td>cl01_01</td><td>3</td><td>0</td><td>cl01</td><td> Sakeena</td><td>al-Hoque</td><td>2012/03/26</td><td> Nicole</td><td>13</td><td>1</td><td>1</td><td>0</td><td>0</td><td>0</td><td>0</td></tr>\n",
              "\t<tr><th scope=row>4</th><td>cl01_01</td><td>4</td><td>0</td><td>cl01</td><td> Sakeena</td><td>al-Hoque</td><td>2012/03/26</td><td> Nicole</td><td>13</td><td>1</td><td>1</td><td>0</td><td>0</td><td>0</td><td>0</td></tr>\n",
              "\t<tr><th scope=row>5</th><td>cl01_01</td><td>5</td><td>0</td><td>cl01</td><td> Sakeena</td><td>al-Hoque</td><td>2012/03/26</td><td> Nicole</td><td>13</td><td>1</td><td>1</td><td>0</td><td>0</td><td>0</td><td>0</td></tr>\n",
              "\t<tr><th scope=row>6</th><td>cl01_01</td><td>6</td><td>1</td><td>cl01</td><td> Sakeena</td><td>al-Hoque</td><td>2012/03/26</td><td> Nicole</td><td>13</td><td>1</td><td>1</td><td>0</td><td>0</td><td>0</td><td>0</td></tr>\n",
              "</tbody>\n",
              "</table>\n"
            ],
            "text/markdown": "\nA data.frame: 6 × 15\n\n| <!--/--> | cohort_id &lt;chr&gt; | visit &lt;int&gt; | outcome &lt;int&gt; | cluster_id &lt;chr&gt; | name_f &lt;chr&gt; | name_l &lt;chr&gt; | birth &lt;chr&gt; | name_labtec &lt;chr&gt; | age &lt;int&gt; | intervention &lt;int&gt; | cn &lt;int&gt; | non_comp &lt;int&gt; | non_bn &lt;int&gt; | vac &lt;int&gt; | age_c &lt;int&gt; |\n|---|---|---|---|---|---|---|---|---|---|---|---|---|---|---|---|\n| 1 | cl01_01 | 1 | 0 | cl01 |  Sakeena | al-Hoque | 2012/03/26 |  Nicole | 13 | 1 | 1 | 0 | 0 | 0 | 0 |\n| 2 | cl01_01 | 2 | 0 | cl01 |  Sakeena | al-Hoque | 2012/03/26 |  Nicole | 13 | 1 | 1 | 0 | 0 | 0 | 0 |\n| 3 | cl01_01 | 3 | 0 | cl01 |  Sakeena | al-Hoque | 2012/03/26 |  Nicole | 13 | 1 | 1 | 0 | 0 | 0 | 0 |\n| 4 | cl01_01 | 4 | 0 | cl01 |  Sakeena | al-Hoque | 2012/03/26 |  Nicole | 13 | 1 | 1 | 0 | 0 | 0 | 0 |\n| 5 | cl01_01 | 5 | 0 | cl01 |  Sakeena | al-Hoque | 2012/03/26 |  Nicole | 13 | 1 | 1 | 0 | 0 | 0 | 0 |\n| 6 | cl01_01 | 6 | 1 | cl01 |  Sakeena | al-Hoque | 2012/03/26 |  Nicole | 13 | 1 | 1 | 0 | 0 | 0 | 0 |\n\n",
            "text/latex": "A data.frame: 6 × 15\n\\begin{tabular}{r|lllllllllllllll}\n  & cohort\\_id & visit & outcome & cluster\\_id & name\\_f & name\\_l & birth & name\\_labtec & age & intervention & cn & non\\_comp & non\\_bn & vac & age\\_c\\\\\n  & <chr> & <int> & <int> & <chr> & <chr> & <chr> & <chr> & <chr> & <int> & <int> & <int> & <int> & <int> & <int> & <int>\\\\\n\\hline\n\t1 & cl01\\_01 & 1 & 0 & cl01 &  Sakeena & al-Hoque & 2012/03/26 &  Nicole & 13 & 1 & 1 & 0 & 0 & 0 & 0\\\\\n\t2 & cl01\\_01 & 2 & 0 & cl01 &  Sakeena & al-Hoque & 2012/03/26 &  Nicole & 13 & 1 & 1 & 0 & 0 & 0 & 0\\\\\n\t3 & cl01\\_01 & 3 & 0 & cl01 &  Sakeena & al-Hoque & 2012/03/26 &  Nicole & 13 & 1 & 1 & 0 & 0 & 0 & 0\\\\\n\t4 & cl01\\_01 & 4 & 0 & cl01 &  Sakeena & al-Hoque & 2012/03/26 &  Nicole & 13 & 1 & 1 & 0 & 0 & 0 & 0\\\\\n\t5 & cl01\\_01 & 5 & 0 & cl01 &  Sakeena & al-Hoque & 2012/03/26 &  Nicole & 13 & 1 & 1 & 0 & 0 & 0 & 0\\\\\n\t6 & cl01\\_01 & 6 & 1 & cl01 &  Sakeena & al-Hoque & 2012/03/26 &  Nicole & 13 & 1 & 1 & 0 & 0 & 0 & 0\\\\\n\\end{tabular}\n",
            "text/plain": [
              "  cohort_id visit outcome cluster_id name_f   name_l   birth      name_labtec\n",
              "1 cl01_01   1     0       cl01        Sakeena al-Hoque 2012/03/26  Nicole    \n",
              "2 cl01_01   2     0       cl01        Sakeena al-Hoque 2012/03/26  Nicole    \n",
              "3 cl01_01   3     0       cl01        Sakeena al-Hoque 2012/03/26  Nicole    \n",
              "4 cl01_01   4     0       cl01        Sakeena al-Hoque 2012/03/26  Nicole    \n",
              "5 cl01_01   5     0       cl01        Sakeena al-Hoque 2012/03/26  Nicole    \n",
              "6 cl01_01   6     1       cl01        Sakeena al-Hoque 2012/03/26  Nicole    \n",
              "  age intervention cn non_comp non_bn vac age_c\n",
              "1 13  1            1  0        0      0   0    \n",
              "2 13  1            1  0        0      0   0    \n",
              "3 13  1            1  0        0      0   0    \n",
              "4 13  1            1  0        0      0   0    \n",
              "5 13  1            1  0        0      0   0    \n",
              "6 13  1            1  0        0      0   0    "
            ]
          },
          "metadata": {}
        }
      ],
      "source": [
        "df_full <- read.csv(\"./data_cohort_full.csv\")\n",
        "head(df_full)"
      ]
    },
    {
      "cell_type": "code",
      "source": [
        "head(df_full %>% filter(intervention == 1 & non_comp == 1))"
      ],
      "metadata": {
        "colab": {
          "base_uri": "https://localhost:8080/",
          "height": 286
        },
        "id": "-U2QzDcEh8eF",
        "outputId": "1dd910c4-4dab-4a97-b3e0-72a4c5a5db1f"
      },
      "execution_count": 93,
      "outputs": [
        {
          "output_type": "display_data",
          "data": {
            "text/html": [
              "<table class=\"dataframe\">\n",
              "<caption>A data.frame: 6 × 15</caption>\n",
              "<thead>\n",
              "\t<tr><th></th><th scope=col>cohort_id</th><th scope=col>visit</th><th scope=col>outcome</th><th scope=col>cluster_id</th><th scope=col>name_f</th><th scope=col>name_l</th><th scope=col>birth</th><th scope=col>name_labtec</th><th scope=col>age</th><th scope=col>intervention</th><th scope=col>cn</th><th scope=col>non_comp</th><th scope=col>non_bn</th><th scope=col>vac</th><th scope=col>age_c</th></tr>\n",
              "\t<tr><th></th><th scope=col>&lt;chr&gt;</th><th scope=col>&lt;int&gt;</th><th scope=col>&lt;int&gt;</th><th scope=col>&lt;chr&gt;</th><th scope=col>&lt;chr&gt;</th><th scope=col>&lt;chr&gt;</th><th scope=col>&lt;chr&gt;</th><th scope=col>&lt;chr&gt;</th><th scope=col>&lt;int&gt;</th><th scope=col>&lt;int&gt;</th><th scope=col>&lt;int&gt;</th><th scope=col>&lt;int&gt;</th><th scope=col>&lt;int&gt;</th><th scope=col>&lt;int&gt;</th><th scope=col>&lt;int&gt;</th></tr>\n",
              "</thead>\n",
              "<tbody>\n",
              "\t<tr><th scope=row>1</th><td>cl01_10</td><td>1</td><td>0</td><td>cl01</td><td> Jasmine</td><td>Figueroa</td><td>2013/02/21</td><td> Nicole</td><td>12</td><td>1</td><td>0</td><td>1</td><td>0</td><td>0</td><td>0</td></tr>\n",
              "\t<tr><th scope=row>2</th><td>cl01_10</td><td>2</td><td>0</td><td>cl01</td><td> Jasmine</td><td>Figueroa</td><td>2013/02/21</td><td> Nicole</td><td>12</td><td>1</td><td>0</td><td>1</td><td>0</td><td>0</td><td>0</td></tr>\n",
              "\t<tr><th scope=row>3</th><td>cl01_10</td><td>3</td><td>0</td><td>cl01</td><td> Jasmine</td><td>Figueroa</td><td>2013/02/21</td><td> Nicole</td><td>12</td><td>1</td><td>0</td><td>1</td><td>0</td><td>0</td><td>0</td></tr>\n",
              "\t<tr><th scope=row>4</th><td>cl01_10</td><td>4</td><td>0</td><td>cl01</td><td> Jasmine</td><td>Figueroa</td><td>2013/02/21</td><td> Nicole</td><td>12</td><td>1</td><td>0</td><td>1</td><td>0</td><td>0</td><td>0</td></tr>\n",
              "\t<tr><th scope=row>5</th><td>cl01_10</td><td>5</td><td>0</td><td>cl01</td><td> Jasmine</td><td>Figueroa</td><td>2013/02/21</td><td> Nicole</td><td>12</td><td>1</td><td>0</td><td>1</td><td>0</td><td>0</td><td>0</td></tr>\n",
              "\t<tr><th scope=row>6</th><td>cl01_10</td><td>6</td><td>0</td><td>cl01</td><td> Jasmine</td><td>Figueroa</td><td>2013/02/21</td><td> Nicole</td><td>12</td><td>1</td><td>0</td><td>1</td><td>0</td><td>0</td><td>0</td></tr>\n",
              "</tbody>\n",
              "</table>\n"
            ],
            "text/markdown": "\nA data.frame: 6 × 15\n\n| <!--/--> | cohort_id &lt;chr&gt; | visit &lt;int&gt; | outcome &lt;int&gt; | cluster_id &lt;chr&gt; | name_f &lt;chr&gt; | name_l &lt;chr&gt; | birth &lt;chr&gt; | name_labtec &lt;chr&gt; | age &lt;int&gt; | intervention &lt;int&gt; | cn &lt;int&gt; | non_comp &lt;int&gt; | non_bn &lt;int&gt; | vac &lt;int&gt; | age_c &lt;int&gt; |\n|---|---|---|---|---|---|---|---|---|---|---|---|---|---|---|---|\n| 1 | cl01_10 | 1 | 0 | cl01 |  Jasmine | Figueroa | 2013/02/21 |  Nicole | 12 | 1 | 0 | 1 | 0 | 0 | 0 |\n| 2 | cl01_10 | 2 | 0 | cl01 |  Jasmine | Figueroa | 2013/02/21 |  Nicole | 12 | 1 | 0 | 1 | 0 | 0 | 0 |\n| 3 | cl01_10 | 3 | 0 | cl01 |  Jasmine | Figueroa | 2013/02/21 |  Nicole | 12 | 1 | 0 | 1 | 0 | 0 | 0 |\n| 4 | cl01_10 | 4 | 0 | cl01 |  Jasmine | Figueroa | 2013/02/21 |  Nicole | 12 | 1 | 0 | 1 | 0 | 0 | 0 |\n| 5 | cl01_10 | 5 | 0 | cl01 |  Jasmine | Figueroa | 2013/02/21 |  Nicole | 12 | 1 | 0 | 1 | 0 | 0 | 0 |\n| 6 | cl01_10 | 6 | 0 | cl01 |  Jasmine | Figueroa | 2013/02/21 |  Nicole | 12 | 1 | 0 | 1 | 0 | 0 | 0 |\n\n",
            "text/latex": "A data.frame: 6 × 15\n\\begin{tabular}{r|lllllllllllllll}\n  & cohort\\_id & visit & outcome & cluster\\_id & name\\_f & name\\_l & birth & name\\_labtec & age & intervention & cn & non\\_comp & non\\_bn & vac & age\\_c\\\\\n  & <chr> & <int> & <int> & <chr> & <chr> & <chr> & <chr> & <chr> & <int> & <int> & <int> & <int> & <int> & <int> & <int>\\\\\n\\hline\n\t1 & cl01\\_10 & 1 & 0 & cl01 &  Jasmine & Figueroa & 2013/02/21 &  Nicole & 12 & 1 & 0 & 1 & 0 & 0 & 0\\\\\n\t2 & cl01\\_10 & 2 & 0 & cl01 &  Jasmine & Figueroa & 2013/02/21 &  Nicole & 12 & 1 & 0 & 1 & 0 & 0 & 0\\\\\n\t3 & cl01\\_10 & 3 & 0 & cl01 &  Jasmine & Figueroa & 2013/02/21 &  Nicole & 12 & 1 & 0 & 1 & 0 & 0 & 0\\\\\n\t4 & cl01\\_10 & 4 & 0 & cl01 &  Jasmine & Figueroa & 2013/02/21 &  Nicole & 12 & 1 & 0 & 1 & 0 & 0 & 0\\\\\n\t5 & cl01\\_10 & 5 & 0 & cl01 &  Jasmine & Figueroa & 2013/02/21 &  Nicole & 12 & 1 & 0 & 1 & 0 & 0 & 0\\\\\n\t6 & cl01\\_10 & 6 & 0 & cl01 &  Jasmine & Figueroa & 2013/02/21 &  Nicole & 12 & 1 & 0 & 1 & 0 & 0 & 0\\\\\n\\end{tabular}\n",
            "text/plain": [
              "  cohort_id visit outcome cluster_id name_f   name_l   birth      name_labtec\n",
              "1 cl01_10   1     0       cl01        Jasmine Figueroa 2013/02/21  Nicole    \n",
              "2 cl01_10   2     0       cl01        Jasmine Figueroa 2013/02/21  Nicole    \n",
              "3 cl01_10   3     0       cl01        Jasmine Figueroa 2013/02/21  Nicole    \n",
              "4 cl01_10   4     0       cl01        Jasmine Figueroa 2013/02/21  Nicole    \n",
              "5 cl01_10   5     0       cl01        Jasmine Figueroa 2013/02/21  Nicole    \n",
              "6 cl01_10   6     0       cl01        Jasmine Figueroa 2013/02/21  Nicole    \n",
              "  age intervention cn non_comp non_bn vac age_c\n",
              "1 12  1            0  1        0      0   0    \n",
              "2 12  1            0  1        0      0   0    \n",
              "3 12  1            0  1        0      0   0    \n",
              "4 12  1            0  1        0      0   0    \n",
              "5 12  1            0  1        0      0   0    \n",
              "6 12  1            0  1        0      0   0    "
            ]
          },
          "metadata": {}
        }
      ]
    },
    {
      "cell_type": "code",
      "execution_count": 94,
      "metadata": {
        "id": "3uYNukNxDYlH"
      },
      "outputs": [],
      "source": [
        "df_full_count <- df_full %>%\n",
        "    group_by(cohort_id) %>%\n",
        "    summarise(\n",
        "    num_pos = sum(outcome),\n",
        "    total_visit = n()\n",
        "  )"
      ]
    },
    {
      "cell_type": "code",
      "execution_count": 95,
      "metadata": {
        "id": "JN-omYA0DYlH"
      },
      "outputs": [],
      "source": [
        "df_full2 <- df_full %>%\n",
        "    dplyr::select(cluster_id, cohort_id, intervention, cn, non_comp, non_bn, vac, age_c) %>%\n",
        "    left_join(df_full_count, by = \"cohort_id\") %>%\n",
        "    distinct(cohort_id, .keep_all = T)"
      ]
    },
    {
      "cell_type": "code",
      "execution_count": 96,
      "metadata": {
        "id": "crBF5v7aDYlH"
      },
      "outputs": [],
      "source": [
        "model <- glmer.nb(num_pos ~\n",
        "                       cn +\n",
        "                       non_comp +\n",
        "                       non_bn +\n",
        "                       vac +\n",
        "                       age_c +\n",
        "                       offset(log(total_visit)) +\n",
        "                       (1 | cluster_id), data = df_full2)"
      ]
    },
    {
      "cell_type": "code",
      "execution_count": 102,
      "metadata": {
        "id": "uCJEEMt8DYlH",
        "outputId": "649e4c61-ee21-4438-aabd-dae3a6ba1917",
        "colab": {
          "base_uri": "https://localhost:8080/",
          "height": 308
        }
      },
      "outputs": [
        {
          "output_type": "stream",
          "name": "stdout",
          "text": [
            "(Intercept)          cn    non_comp      non_bn         vac       age_c \n",
            "  0.1228262   0.5104337   1.4220579   1.2569324   0.7169945   1.3920507 \n"
          ]
        },
        {
          "output_type": "display_data",
          "data": {
            "text/html": [
              "<table class=\"dataframe\">\n",
              "<caption>A matrix: 6 × 2 of type dbl</caption>\n",
              "<thead>\n",
              "\t<tr><th></th><th scope=col>2.5 %</th><th scope=col>97.5 %</th></tr>\n",
              "</thead>\n",
              "<tbody>\n",
              "\t<tr><th scope=row>(Intercept)</th><td>0.09708239</td><td>0.1553966</td></tr>\n",
              "\t<tr><th scope=row>cn</th><td>0.37308121</td><td>0.6983535</td></tr>\n",
              "\t<tr><th scope=row>non_comp</th><td>1.05054529</td><td>1.9249513</td></tr>\n",
              "\t<tr><th scope=row>non_bn</th><td>1.00850783</td><td>1.5665512</td></tr>\n",
              "\t<tr><th scope=row>vac</th><td>0.57512895</td><td>0.8938537</td></tr>\n",
              "\t<tr><th scope=row>age_c</th><td>1.10753742</td><td>1.7496521</td></tr>\n",
              "</tbody>\n",
              "</table>\n"
            ],
            "text/markdown": "\nA matrix: 6 × 2 of type dbl\n\n| <!--/--> | 2.5 % | 97.5 % |\n|---|---|---|\n| (Intercept) | 0.09708239 | 0.1553966 |\n| cn | 0.37308121 | 0.6983535 |\n| non_comp | 1.05054529 | 1.9249513 |\n| non_bn | 1.00850783 | 1.5665512 |\n| vac | 0.57512895 | 0.8938537 |\n| age_c | 1.10753742 | 1.7496521 |\n\n",
            "text/latex": "A matrix: 6 × 2 of type dbl\n\\begin{tabular}{r|ll}\n  & 2.5 \\% & 97.5 \\%\\\\\n\\hline\n\t(Intercept) & 0.09708239 & 0.1553966\\\\\n\tcn & 0.37308121 & 0.6983535\\\\\n\tnon\\_comp & 1.05054529 & 1.9249513\\\\\n\tnon\\_bn & 1.00850783 & 1.5665512\\\\\n\tvac & 0.57512895 & 0.8938537\\\\\n\tage\\_c & 1.10753742 & 1.7496521\\\\\n\\end{tabular}\n",
            "text/plain": [
              "            2.5 %      97.5 %   \n",
              "(Intercept) 0.09708239 0.1553966\n",
              "cn          0.37308121 0.6983535\n",
              "non_comp    1.05054529 1.9249513\n",
              "non_bn      1.00850783 1.5665512\n",
              "vac         0.57512895 0.8938537\n",
              "age_c       1.10753742 1.7496521"
            ]
          },
          "metadata": {}
        },
        {
          "output_type": "stream",
          "name": "stdout",
          "text": [
            "[1] \"Estimated efficacy of the ceiling net: 0.49\"\n"
          ]
        }
      ],
      "source": [
        "print(exp(fixef(model)))\n",
        "exp(confint(model, parm = \"beta_\", method = \"Wald\"))\n",
        "\n",
        "print(paste0(\"Estimated efficacy of the ceiling net: \", round(1-exp(fixef(model))[[2]],2)))"
      ]
    },
    {
      "cell_type": "code",
      "source": [
        "model_itt <- glmer.nb(num_pos ~\n",
        "                       intervention +\n",
        "                       non_bn +\n",
        "                       vac +\n",
        "                       age_c +\n",
        "                       offset(log(total_visit)) +\n",
        "                       (1 | cluster_id), data = df_full2)"
      ],
      "metadata": {
        "id": "2h5KfPJZpJL0"
      },
      "execution_count": 98,
      "outputs": []
    },
    {
      "cell_type": "code",
      "source": [
        "print(exp(fixef(model_itt)))\n",
        "exp(confint(model_itt, parm = \"beta_\", method = \"Wald\"))\n",
        "\n",
        "print(paste0(\"Estimated efficacy of the ceiling net: \", round(1-exp(fixef(model_itt))[[2]],2)))"
      ],
      "metadata": {
        "colab": {
          "base_uri": "https://localhost:8080/",
          "height": 277
        },
        "id": "xbgm4af2rqr0",
        "outputId": "a6aca584-6ddf-49bc-b047-9be6c83a9308"
      },
      "execution_count": 100,
      "outputs": [
        {
          "output_type": "stream",
          "name": "stdout",
          "text": [
            " (Intercept) intervention       non_bn          vac        age_c \n",
            "   0.1286833    0.5776060    1.2834120    0.7067883    1.3569771 \n"
          ]
        },
        {
          "output_type": "display_data",
          "data": {
            "text/html": [
              "<table class=\"dataframe\">\n",
              "<caption>A matrix: 5 × 2 of type dbl</caption>\n",
              "<thead>\n",
              "\t<tr><th></th><th scope=col>2.5 %</th><th scope=col>97.5 %</th></tr>\n",
              "</thead>\n",
              "<tbody>\n",
              "\t<tr><th scope=row>(Intercept)</th><td>0.1018415</td><td>0.1625996</td></tr>\n",
              "\t<tr><th scope=row>intervention</th><td>0.4202118</td><td>0.7939535</td></tr>\n",
              "\t<tr><th scope=row>non_bn</th><td>1.0251107</td><td>1.6067986</td></tr>\n",
              "\t<tr><th scope=row>vac</th><td>0.5650967</td><td>0.8840075</td></tr>\n",
              "\t<tr><th scope=row>age_c</th><td>1.0753540</td><td>1.7123540</td></tr>\n",
              "</tbody>\n",
              "</table>\n"
            ],
            "text/markdown": "\nA matrix: 5 × 2 of type dbl\n\n| <!--/--> | 2.5 % | 97.5 % |\n|---|---|---|\n| (Intercept) | 0.1018415 | 0.1625996 |\n| intervention | 0.4202118 | 0.7939535 |\n| non_bn | 1.0251107 | 1.6067986 |\n| vac | 0.5650967 | 0.8840075 |\n| age_c | 1.0753540 | 1.7123540 |\n\n",
            "text/latex": "A matrix: 5 × 2 of type dbl\n\\begin{tabular}{r|ll}\n  & 2.5 \\% & 97.5 \\%\\\\\n\\hline\n\t(Intercept) & 0.1018415 & 0.1625996\\\\\n\tintervention & 0.4202118 & 0.7939535\\\\\n\tnon\\_bn & 1.0251107 & 1.6067986\\\\\n\tvac & 0.5650967 & 0.8840075\\\\\n\tage\\_c & 1.0753540 & 1.7123540\\\\\n\\end{tabular}\n",
            "text/plain": [
              "             2.5 %     97.5 %   \n",
              "(Intercept)  0.1018415 0.1625996\n",
              "intervention 0.4202118 0.7939535\n",
              "non_bn       1.0251107 1.6067986\n",
              "vac          0.5650967 0.8840075\n",
              "age_c        1.0753540 1.7123540"
            ]
          },
          "metadata": {}
        },
        {
          "output_type": "stream",
          "name": "stdout",
          "text": [
            "[1] \"Estimated efficacy of the ceiling net: 0.42\"\n"
          ]
        }
      ]
    },
    {
      "cell_type": "markdown",
      "metadata": {
        "id": "kU-DjzORDYlH"
      },
      "source": [
        "# Analysis of raw data\n",
        "\n",
        "If you get to know who is the non complier, then we can estimate the data perfectly, but in reality it is not possible.\n",
        "\n",
        "\n",
        "\n",
        "*   **symp**: 1: with malaria related symptoms\n",
        "*   **rdt**: 1: malaria RDT positive\n",
        "\n"
      ]
    },
    {
      "cell_type": "code",
      "execution_count": 83,
      "metadata": {
        "scrolled": true,
        "id": "_X5iL_v1DYlH",
        "outputId": "d9139b2c-7a72-4c7d-9e75-2f5796465489",
        "colab": {
          "base_uri": "https://localhost:8080/",
          "height": 1000
        }
      },
      "outputs": [
        {
          "output_type": "display_data",
          "data": {
            "text/html": [
              "<table class=\"dataframe\">\n",
              "<caption>A data.frame: 9095 × 8</caption>\n",
              "<thead>\n",
              "\t<tr><th scope=col>cluster_id</th><th scope=col>cohort_id</th><th scope=col>visit</th><th scope=col>avail</th><th scope=col>name_f</th><th scope=col>name_l</th><th scope=col>symp</th><th scope=col>rdt</th></tr>\n",
              "\t<tr><th scope=col>&lt;chr&gt;</th><th scope=col>&lt;chr&gt;</th><th scope=col>&lt;int&gt;</th><th scope=col>&lt;int&gt;</th><th scope=col>&lt;chr&gt;</th><th scope=col>&lt;chr&gt;</th><th scope=col>&lt;int&gt;</th><th scope=col>&lt;int&gt;</th></tr>\n",
              "</thead>\n",
              "<tbody>\n",
              "\t<tr><td>cl01</td><td>cl01_01</td><td>1</td><td>1</td><td>Sakeena    </td><td>al-Hoque </td><td>0</td><td> 0</td></tr>\n",
              "\t<tr><td>cl01</td><td>cl01_02</td><td>1</td><td>1</td><td>Mitchell   </td><td>Gonzales </td><td>0</td><td>NA</td></tr>\n",
              "\t<tr><td>cl01</td><td>cl01_03</td><td>1</td><td>1</td><td>Anthony    </td><td>Simmons  </td><td>0</td><td> 1</td></tr>\n",
              "\t<tr><td>cl01</td><td>cl01_04</td><td>1</td><td>1</td><td>Alyssa     </td><td>Rivera   </td><td>0</td><td> 1</td></tr>\n",
              "\t<tr><td>cl01</td><td>cl01_05</td><td>1</td><td>1</td><td>Timothy    </td><td>Vlajic   </td><td>0</td><td> 0</td></tr>\n",
              "\t<tr><td>cl01</td><td>cl01_06</td><td>1</td><td>1</td><td>Mana       </td><td>White    </td><td>1</td><td> 0</td></tr>\n",
              "\t<tr><td>cl01</td><td>cl01_07</td><td>1</td><td>1</td><td>Chykeiljah </td><td>Rea      </td><td>1</td><td>NA</td></tr>\n",
              "\t<tr><td>cl01</td><td>cl01_08</td><td>1</td><td>1</td><td>Laneesha   </td><td>Rusk     </td><td>0</td><td> 1</td></tr>\n",
              "\t<tr><td>cl01</td><td>cl01_09</td><td>1</td><td>1</td><td>Mujaahida  </td><td>el-Malak </td><td>0</td><td> 0</td></tr>\n",
              "\t<tr><td>cl01</td><td>cl01_10</td><td>1</td><td>1</td><td>Jasmine    </td><td>Figueroa </td><td>0</td><td> 0</td></tr>\n",
              "\t<tr><td>cl01</td><td>cl01_11</td><td>1</td><td>1</td><td>Austin     </td><td>Smith    </td><td>0</td><td> 0</td></tr>\n",
              "\t<tr><td>cl01</td><td>cl01_12</td><td>1</td><td>1</td><td>Jacob      </td><td>Reyes    </td><td>1</td><td> 0</td></tr>\n",
              "\t<tr><td>cl01</td><td>cl01_13</td><td>1</td><td>1</td><td>Aatifa     </td><td>el-Ghani </td><td>1</td><td> 0</td></tr>\n",
              "\t<tr><td>cl01</td><td>cl01_14</td><td>1</td><td>1</td><td>Imraan     </td><td>el-Shafi </td><td>1</td><td> 1</td></tr>\n",
              "\t<tr><td>cl01</td><td>cl01_15</td><td>1</td><td>1</td><td>Naaifa     </td><td>el-Shaban</td><td>0</td><td>NA</td></tr>\n",
              "\t<tr><td>cl01</td><td>cl01_16</td><td>1</td><td>1</td><td>Teresa     </td><td>Silva    </td><td>0</td><td> 0</td></tr>\n",
              "\t<tr><td>cl01</td><td>cl01_17</td><td>1</td><td>1</td><td>Karthikeyan</td><td>Krishnan </td><td>0</td><td> 1</td></tr>\n",
              "\t<tr><td>cl01</td><td>cl01_18</td><td>1</td><td>0</td><td>William    </td><td>Sullivan </td><td>0</td><td> 1</td></tr>\n",
              "\t<tr><td>cl01</td><td>cl01_19</td><td>1</td><td>1</td><td>Kyler      </td><td>Sanchez  </td><td>0</td><td> 0</td></tr>\n",
              "\t<tr><td>cl01</td><td>cl01_20</td><td>1</td><td>1</td><td>Abdul Noor </td><td>al-Fawaz </td><td>1</td><td> 0</td></tr>\n",
              "\t<tr><td>cl01</td><td>cl01_21</td><td>1</td><td>1</td><td>John       </td><td>Bebernes </td><td>0</td><td> 1</td></tr>\n",
              "\t<tr><td>cl01</td><td>cl01_22</td><td>1</td><td>1</td><td>Lauren     </td><td>Thompson </td><td>0</td><td> 0</td></tr>\n",
              "\t<tr><td>cl01</td><td>cl01_23</td><td>1</td><td>1</td><td>Sham'a     </td><td>el-Samara</td><td>0</td><td> 0</td></tr>\n",
              "\t<tr><td>cl01</td><td>cl01_24</td><td>1</td><td>1</td><td>Jay        </td><td>Simpson  </td><td>0</td><td>NA</td></tr>\n",
              "\t<tr><td>cl01</td><td>cl01_25</td><td>1</td><td>1</td><td>Brandon    </td><td>Kaur     </td><td>0</td><td> 0</td></tr>\n",
              "\t<tr><td>cl01</td><td>cl01_26</td><td>1</td><td>1</td><td>Tyler      </td><td>Clark    </td><td>0</td><td> 0</td></tr>\n",
              "\t<tr><td>cl01</td><td>cl01_27</td><td>1</td><td>0</td><td>Molly      </td><td>Billings </td><td>1</td><td> 0</td></tr>\n",
              "\t<tr><td>cl01</td><td>cl01_28</td><td>1</td><td>1</td><td>Kelly      </td><td>Steward  </td><td>0</td><td> 0</td></tr>\n",
              "\t<tr><td>cl01</td><td>cl01_29</td><td>1</td><td>1</td><td>Sunjot     </td><td>Laouar   </td><td>0</td><td> 0</td></tr>\n",
              "\t<tr><td>cl01</td><td>cl01_30</td><td>1</td><td>1</td><td>Bassaam    </td><td>al-Hai   </td><td>0</td><td> 1</td></tr>\n",
              "\t<tr><td>⋮</td><td>⋮</td><td>⋮</td><td>⋮</td><td>⋮</td><td>⋮</td><td>⋮</td><td>⋮</td></tr>\n",
              "\t<tr><td>cl20</td><td>cl20_09</td><td>12</td><td>1</td><td>Nina     </td><td>Nguyen      </td><td>0</td><td>0</td></tr>\n",
              "\t<tr><td>cl20</td><td>cl20_10</td><td>12</td><td>1</td><td>Hannah   </td><td>Myles       </td><td>1</td><td>0</td></tr>\n",
              "\t<tr><td>cl20</td><td>cl20_11</td><td>12</td><td>1</td><td>Loreel   </td><td>Watson      </td><td>0</td><td>0</td></tr>\n",
              "\t<tr><td>cl20</td><td>cl20_12</td><td>12</td><td>1</td><td>Wyatt    </td><td>Proctor     </td><td>0</td><td>0</td></tr>\n",
              "\t<tr><td>cl20</td><td>cl20_13</td><td>12</td><td>0</td><td>Nafeesa  </td><td>al-Bari     </td><td>0</td><td>1</td></tr>\n",
              "\t<tr><td>cl20</td><td>cl20_14</td><td>12</td><td>1</td><td>Maria    </td><td>Leger       </td><td>0</td><td>0</td></tr>\n",
              "\t<tr><td>cl20</td><td>cl20_15</td><td>12</td><td>1</td><td>Sara     </td><td>Robinson    </td><td>0</td><td>0</td></tr>\n",
              "\t<tr><td>cl20</td><td>cl20_16</td><td>12</td><td>1</td><td>Jamaal   </td><td>al-Kabir    </td><td>0</td><td>0</td></tr>\n",
              "\t<tr><td>cl20</td><td>cl20_17</td><td>12</td><td>1</td><td>Trevon   </td><td>Mackey      </td><td>0</td><td>0</td></tr>\n",
              "\t<tr><td>cl20</td><td>cl20_18</td><td>12</td><td>0</td><td>Alicia   </td><td>Debarris    </td><td>0</td><td>0</td></tr>\n",
              "\t<tr><td>cl20</td><td>cl20_19</td><td>12</td><td>1</td><td>James    </td><td>Mcclain     </td><td>0</td><td>0</td></tr>\n",
              "\t<tr><td>cl20</td><td>cl20_20</td><td>12</td><td>1</td><td>Janelle  </td><td>Lawson      </td><td>1</td><td>1</td></tr>\n",
              "\t<tr><td>cl20</td><td>cl20_21</td><td>12</td><td>1</td><td>Ya'qoob  </td><td>el-Ahmadi   </td><td>0</td><td>0</td></tr>\n",
              "\t<tr><td>cl20</td><td>cl20_22</td><td>12</td><td>1</td><td>Eric     </td><td>Tran        </td><td>1</td><td>0</td></tr>\n",
              "\t<tr><td>cl20</td><td>cl20_23</td><td>12</td><td>1</td><td>Natalee  </td><td>Houdek      </td><td>1</td><td>1</td></tr>\n",
              "\t<tr><td>cl20</td><td>cl20_24</td><td>12</td><td>1</td><td>Marisa   </td><td>Deleon      </td><td>0</td><td>0</td></tr>\n",
              "\t<tr><td>cl20</td><td>cl20_25</td><td>12</td><td>1</td><td>Tristian </td><td>Nandih      </td><td>0</td><td>0</td></tr>\n",
              "\t<tr><td>cl20</td><td>cl20_26</td><td>12</td><td>1</td><td>Haafil   </td><td>el-Aydin    </td><td>1</td><td>1</td></tr>\n",
              "\t<tr><td>cl20</td><td>cl20_27</td><td>12</td><td>1</td><td>Dante    </td><td>Warren      </td><td>0</td><td>0</td></tr>\n",
              "\t<tr><td>cl20</td><td>cl20_28</td><td>12</td><td>1</td><td>Joseph   </td><td>Forrer      </td><td>0</td><td>0</td></tr>\n",
              "\t<tr><td>cl20</td><td>cl20_29</td><td>12</td><td>1</td><td>Frances  </td><td>Cox         </td><td>0</td><td>0</td></tr>\n",
              "\t<tr><td>cl20</td><td>cl20_30</td><td>12</td><td>1</td><td>Christian</td><td>Etsitty     </td><td>0</td><td>1</td></tr>\n",
              "\t<tr><td>cl20</td><td>cl20_31</td><td>12</td><td>1</td><td>Katherine</td><td>Hakes       </td><td>0</td><td>1</td></tr>\n",
              "\t<tr><td>cl20</td><td>cl20_32</td><td>12</td><td>1</td><td>Amber    </td><td>Damian      </td><td>0</td><td>0</td></tr>\n",
              "\t<tr><td>cl20</td><td>cl20_33</td><td>12</td><td>1</td><td>Martin   </td><td>Guderjahn   </td><td>0</td><td>0</td></tr>\n",
              "\t<tr><td>cl20</td><td>cl20_34</td><td>12</td><td>1</td><td>Tasneem  </td><td>al-Mahfouz  </td><td>0</td><td>0</td></tr>\n",
              "\t<tr><td>cl20</td><td>cl20_35</td><td>12</td><td>1</td><td>Ladan    </td><td>Scott       </td><td>0</td><td>0</td></tr>\n",
              "\t<tr><td>cl20</td><td>cl20_36</td><td>12</td><td>1</td><td>Michael  </td><td>Sisneros    </td><td>1</td><td>0</td></tr>\n",
              "\t<tr><td>cl20</td><td>cl20_37</td><td>12</td><td>1</td><td>Talayshi </td><td>Cooper-Moore</td><td>1</td><td>0</td></tr>\n",
              "\t<tr><td>cl20</td><td>cl20_38</td><td>12</td><td>1</td><td>Madison  </td><td>Hatton      </td><td>0</td><td>1</td></tr>\n",
              "</tbody>\n",
              "</table>\n"
            ],
            "text/markdown": "\nA data.frame: 9095 × 8\n\n| cluster_id &lt;chr&gt; | cohort_id &lt;chr&gt; | visit &lt;int&gt; | avail &lt;int&gt; | name_f &lt;chr&gt; | name_l &lt;chr&gt; | symp &lt;int&gt; | rdt &lt;int&gt; |\n|---|---|---|---|---|---|---|---|\n| cl01 | cl01_01 | 1 | 1 | Sakeena     | al-Hoque  | 0 |  0 |\n| cl01 | cl01_02 | 1 | 1 | Mitchell    | Gonzales  | 0 | NA |\n| cl01 | cl01_03 | 1 | 1 | Anthony     | Simmons   | 0 |  1 |\n| cl01 | cl01_04 | 1 | 1 | Alyssa      | Rivera    | 0 |  1 |\n| cl01 | cl01_05 | 1 | 1 | Timothy     | Vlajic    | 0 |  0 |\n| cl01 | cl01_06 | 1 | 1 | Mana        | White     | 1 |  0 |\n| cl01 | cl01_07 | 1 | 1 | Chykeiljah  | Rea       | 1 | NA |\n| cl01 | cl01_08 | 1 | 1 | Laneesha    | Rusk      | 0 |  1 |\n| cl01 | cl01_09 | 1 | 1 | Mujaahida   | el-Malak  | 0 |  0 |\n| cl01 | cl01_10 | 1 | 1 | Jasmine     | Figueroa  | 0 |  0 |\n| cl01 | cl01_11 | 1 | 1 | Austin      | Smith     | 0 |  0 |\n| cl01 | cl01_12 | 1 | 1 | Jacob       | Reyes     | 1 |  0 |\n| cl01 | cl01_13 | 1 | 1 | Aatifa      | el-Ghani  | 1 |  0 |\n| cl01 | cl01_14 | 1 | 1 | Imraan      | el-Shafi  | 1 |  1 |\n| cl01 | cl01_15 | 1 | 1 | Naaifa      | el-Shaban | 0 | NA |\n| cl01 | cl01_16 | 1 | 1 | Teresa      | Silva     | 0 |  0 |\n| cl01 | cl01_17 | 1 | 1 | Karthikeyan | Krishnan  | 0 |  1 |\n| cl01 | cl01_18 | 1 | 0 | William     | Sullivan  | 0 |  1 |\n| cl01 | cl01_19 | 1 | 1 | Kyler       | Sanchez   | 0 |  0 |\n| cl01 | cl01_20 | 1 | 1 | Abdul Noor  | al-Fawaz  | 1 |  0 |\n| cl01 | cl01_21 | 1 | 1 | John        | Bebernes  | 0 |  1 |\n| cl01 | cl01_22 | 1 | 1 | Lauren      | Thompson  | 0 |  0 |\n| cl01 | cl01_23 | 1 | 1 | Sham'a      | el-Samara | 0 |  0 |\n| cl01 | cl01_24 | 1 | 1 | Jay         | Simpson   | 0 | NA |\n| cl01 | cl01_25 | 1 | 1 | Brandon     | Kaur      | 0 |  0 |\n| cl01 | cl01_26 | 1 | 1 | Tyler       | Clark     | 0 |  0 |\n| cl01 | cl01_27 | 1 | 0 | Molly       | Billings  | 1 |  0 |\n| cl01 | cl01_28 | 1 | 1 | Kelly       | Steward   | 0 |  0 |\n| cl01 | cl01_29 | 1 | 1 | Sunjot      | Laouar    | 0 |  0 |\n| cl01 | cl01_30 | 1 | 1 | Bassaam     | al-Hai    | 0 |  1 |\n| ⋮ | ⋮ | ⋮ | ⋮ | ⋮ | ⋮ | ⋮ | ⋮ |\n| cl20 | cl20_09 | 12 | 1 | Nina      | Nguyen       | 0 | 0 |\n| cl20 | cl20_10 | 12 | 1 | Hannah    | Myles        | 1 | 0 |\n| cl20 | cl20_11 | 12 | 1 | Loreel    | Watson       | 0 | 0 |\n| cl20 | cl20_12 | 12 | 1 | Wyatt     | Proctor      | 0 | 0 |\n| cl20 | cl20_13 | 12 | 0 | Nafeesa   | al-Bari      | 0 | 1 |\n| cl20 | cl20_14 | 12 | 1 | Maria     | Leger        | 0 | 0 |\n| cl20 | cl20_15 | 12 | 1 | Sara      | Robinson     | 0 | 0 |\n| cl20 | cl20_16 | 12 | 1 | Jamaal    | al-Kabir     | 0 | 0 |\n| cl20 | cl20_17 | 12 | 1 | Trevon    | Mackey       | 0 | 0 |\n| cl20 | cl20_18 | 12 | 0 | Alicia    | Debarris     | 0 | 0 |\n| cl20 | cl20_19 | 12 | 1 | James     | Mcclain      | 0 | 0 |\n| cl20 | cl20_20 | 12 | 1 | Janelle   | Lawson       | 1 | 1 |\n| cl20 | cl20_21 | 12 | 1 | Ya'qoob   | el-Ahmadi    | 0 | 0 |\n| cl20 | cl20_22 | 12 | 1 | Eric      | Tran         | 1 | 0 |\n| cl20 | cl20_23 | 12 | 1 | Natalee   | Houdek       | 1 | 1 |\n| cl20 | cl20_24 | 12 | 1 | Marisa    | Deleon       | 0 | 0 |\n| cl20 | cl20_25 | 12 | 1 | Tristian  | Nandih       | 0 | 0 |\n| cl20 | cl20_26 | 12 | 1 | Haafil    | el-Aydin     | 1 | 1 |\n| cl20 | cl20_27 | 12 | 1 | Dante     | Warren       | 0 | 0 |\n| cl20 | cl20_28 | 12 | 1 | Joseph    | Forrer       | 0 | 0 |\n| cl20 | cl20_29 | 12 | 1 | Frances   | Cox          | 0 | 0 |\n| cl20 | cl20_30 | 12 | 1 | Christian | Etsitty      | 0 | 1 |\n| cl20 | cl20_31 | 12 | 1 | Katherine | Hakes        | 0 | 1 |\n| cl20 | cl20_32 | 12 | 1 | Amber     | Damian       | 0 | 0 |\n| cl20 | cl20_33 | 12 | 1 | Martin    | Guderjahn    | 0 | 0 |\n| cl20 | cl20_34 | 12 | 1 | Tasneem   | al-Mahfouz   | 0 | 0 |\n| cl20 | cl20_35 | 12 | 1 | Ladan     | Scott        | 0 | 0 |\n| cl20 | cl20_36 | 12 | 1 | Michael   | Sisneros     | 1 | 0 |\n| cl20 | cl20_37 | 12 | 1 | Talayshi  | Cooper-Moore | 1 | 0 |\n| cl20 | cl20_38 | 12 | 1 | Madison   | Hatton       | 0 | 1 |\n\n",
            "text/latex": "A data.frame: 9095 × 8\n\\begin{tabular}{llllllll}\n cluster\\_id & cohort\\_id & visit & avail & name\\_f & name\\_l & symp & rdt\\\\\n <chr> & <chr> & <int> & <int> & <chr> & <chr> & <int> & <int>\\\\\n\\hline\n\t cl01 & cl01\\_01 & 1 & 1 & Sakeena     & al-Hoque  & 0 &  0\\\\\n\t cl01 & cl01\\_02 & 1 & 1 & Mitchell    & Gonzales  & 0 & NA\\\\\n\t cl01 & cl01\\_03 & 1 & 1 & Anthony     & Simmons   & 0 &  1\\\\\n\t cl01 & cl01\\_04 & 1 & 1 & Alyssa      & Rivera    & 0 &  1\\\\\n\t cl01 & cl01\\_05 & 1 & 1 & Timothy     & Vlajic    & 0 &  0\\\\\n\t cl01 & cl01\\_06 & 1 & 1 & Mana        & White     & 1 &  0\\\\\n\t cl01 & cl01\\_07 & 1 & 1 & Chykeiljah  & Rea       & 1 & NA\\\\\n\t cl01 & cl01\\_08 & 1 & 1 & Laneesha    & Rusk      & 0 &  1\\\\\n\t cl01 & cl01\\_09 & 1 & 1 & Mujaahida   & el-Malak  & 0 &  0\\\\\n\t cl01 & cl01\\_10 & 1 & 1 & Jasmine     & Figueroa  & 0 &  0\\\\\n\t cl01 & cl01\\_11 & 1 & 1 & Austin      & Smith     & 0 &  0\\\\\n\t cl01 & cl01\\_12 & 1 & 1 & Jacob       & Reyes     & 1 &  0\\\\\n\t cl01 & cl01\\_13 & 1 & 1 & Aatifa      & el-Ghani  & 1 &  0\\\\\n\t cl01 & cl01\\_14 & 1 & 1 & Imraan      & el-Shafi  & 1 &  1\\\\\n\t cl01 & cl01\\_15 & 1 & 1 & Naaifa      & el-Shaban & 0 & NA\\\\\n\t cl01 & cl01\\_16 & 1 & 1 & Teresa      & Silva     & 0 &  0\\\\\n\t cl01 & cl01\\_17 & 1 & 1 & Karthikeyan & Krishnan  & 0 &  1\\\\\n\t cl01 & cl01\\_18 & 1 & 0 & William     & Sullivan  & 0 &  1\\\\\n\t cl01 & cl01\\_19 & 1 & 1 & Kyler       & Sanchez   & 0 &  0\\\\\n\t cl01 & cl01\\_20 & 1 & 1 & Abdul Noor  & al-Fawaz  & 1 &  0\\\\\n\t cl01 & cl01\\_21 & 1 & 1 & John        & Bebernes  & 0 &  1\\\\\n\t cl01 & cl01\\_22 & 1 & 1 & Lauren      & Thompson  & 0 &  0\\\\\n\t cl01 & cl01\\_23 & 1 & 1 & Sham'a      & el-Samara & 0 &  0\\\\\n\t cl01 & cl01\\_24 & 1 & 1 & Jay         & Simpson   & 0 & NA\\\\\n\t cl01 & cl01\\_25 & 1 & 1 & Brandon     & Kaur      & 0 &  0\\\\\n\t cl01 & cl01\\_26 & 1 & 1 & Tyler       & Clark     & 0 &  0\\\\\n\t cl01 & cl01\\_27 & 1 & 0 & Molly       & Billings  & 1 &  0\\\\\n\t cl01 & cl01\\_28 & 1 & 1 & Kelly       & Steward   & 0 &  0\\\\\n\t cl01 & cl01\\_29 & 1 & 1 & Sunjot      & Laouar    & 0 &  0\\\\\n\t cl01 & cl01\\_30 & 1 & 1 & Bassaam     & al-Hai    & 0 &  1\\\\\n\t ⋮ & ⋮ & ⋮ & ⋮ & ⋮ & ⋮ & ⋮ & ⋮\\\\\n\t cl20 & cl20\\_09 & 12 & 1 & Nina      & Nguyen       & 0 & 0\\\\\n\t cl20 & cl20\\_10 & 12 & 1 & Hannah    & Myles        & 1 & 0\\\\\n\t cl20 & cl20\\_11 & 12 & 1 & Loreel    & Watson       & 0 & 0\\\\\n\t cl20 & cl20\\_12 & 12 & 1 & Wyatt     & Proctor      & 0 & 0\\\\\n\t cl20 & cl20\\_13 & 12 & 0 & Nafeesa   & al-Bari      & 0 & 1\\\\\n\t cl20 & cl20\\_14 & 12 & 1 & Maria     & Leger        & 0 & 0\\\\\n\t cl20 & cl20\\_15 & 12 & 1 & Sara      & Robinson     & 0 & 0\\\\\n\t cl20 & cl20\\_16 & 12 & 1 & Jamaal    & al-Kabir     & 0 & 0\\\\\n\t cl20 & cl20\\_17 & 12 & 1 & Trevon    & Mackey       & 0 & 0\\\\\n\t cl20 & cl20\\_18 & 12 & 0 & Alicia    & Debarris     & 0 & 0\\\\\n\t cl20 & cl20\\_19 & 12 & 1 & James     & Mcclain      & 0 & 0\\\\\n\t cl20 & cl20\\_20 & 12 & 1 & Janelle   & Lawson       & 1 & 1\\\\\n\t cl20 & cl20\\_21 & 12 & 1 & Ya'qoob   & el-Ahmadi    & 0 & 0\\\\\n\t cl20 & cl20\\_22 & 12 & 1 & Eric      & Tran         & 1 & 0\\\\\n\t cl20 & cl20\\_23 & 12 & 1 & Natalee   & Houdek       & 1 & 1\\\\\n\t cl20 & cl20\\_24 & 12 & 1 & Marisa    & Deleon       & 0 & 0\\\\\n\t cl20 & cl20\\_25 & 12 & 1 & Tristian  & Nandih       & 0 & 0\\\\\n\t cl20 & cl20\\_26 & 12 & 1 & Haafil    & el-Aydin     & 1 & 1\\\\\n\t cl20 & cl20\\_27 & 12 & 1 & Dante     & Warren       & 0 & 0\\\\\n\t cl20 & cl20\\_28 & 12 & 1 & Joseph    & Forrer       & 0 & 0\\\\\n\t cl20 & cl20\\_29 & 12 & 1 & Frances   & Cox          & 0 & 0\\\\\n\t cl20 & cl20\\_30 & 12 & 1 & Christian & Etsitty      & 0 & 1\\\\\n\t cl20 & cl20\\_31 & 12 & 1 & Katherine & Hakes        & 0 & 1\\\\\n\t cl20 & cl20\\_32 & 12 & 1 & Amber     & Damian       & 0 & 0\\\\\n\t cl20 & cl20\\_33 & 12 & 1 & Martin    & Guderjahn    & 0 & 0\\\\\n\t cl20 & cl20\\_34 & 12 & 1 & Tasneem   & al-Mahfouz   & 0 & 0\\\\\n\t cl20 & cl20\\_35 & 12 & 1 & Ladan     & Scott        & 0 & 0\\\\\n\t cl20 & cl20\\_36 & 12 & 1 & Michael   & Sisneros     & 1 & 0\\\\\n\t cl20 & cl20\\_37 & 12 & 1 & Talayshi  & Cooper-Moore & 1 & 0\\\\\n\t cl20 & cl20\\_38 & 12 & 1 & Madison   & Hatton       & 0 & 1\\\\\n\\end{tabular}\n",
            "text/plain": [
              "     cluster_id cohort_id visit avail name_f      name_l       symp rdt\n",
              "1    cl01       cl01_01   1     1     Sakeena     al-Hoque     0     0 \n",
              "2    cl01       cl01_02   1     1     Mitchell    Gonzales     0    NA \n",
              "3    cl01       cl01_03   1     1     Anthony     Simmons      0     1 \n",
              "4    cl01       cl01_04   1     1     Alyssa      Rivera       0     1 \n",
              "5    cl01       cl01_05   1     1     Timothy     Vlajic       0     0 \n",
              "6    cl01       cl01_06   1     1     Mana        White        1     0 \n",
              "7    cl01       cl01_07   1     1     Chykeiljah  Rea          1    NA \n",
              "8    cl01       cl01_08   1     1     Laneesha    Rusk         0     1 \n",
              "9    cl01       cl01_09   1     1     Mujaahida   el-Malak     0     0 \n",
              "10   cl01       cl01_10   1     1     Jasmine     Figueroa     0     0 \n",
              "11   cl01       cl01_11   1     1     Austin      Smith        0     0 \n",
              "12   cl01       cl01_12   1     1     Jacob       Reyes        1     0 \n",
              "13   cl01       cl01_13   1     1     Aatifa      el-Ghani     1     0 \n",
              "14   cl01       cl01_14   1     1     Imraan      el-Shafi     1     1 \n",
              "15   cl01       cl01_15   1     1     Naaifa      el-Shaban    0    NA \n",
              "16   cl01       cl01_16   1     1     Teresa      Silva        0     0 \n",
              "17   cl01       cl01_17   1     1     Karthikeyan Krishnan     0     1 \n",
              "18   cl01       cl01_18   1     0     William     Sullivan     0     1 \n",
              "19   cl01       cl01_19   1     1     Kyler       Sanchez      0     0 \n",
              "20   cl01       cl01_20   1     1     Abdul Noor  al-Fawaz     1     0 \n",
              "21   cl01       cl01_21   1     1     John        Bebernes     0     1 \n",
              "22   cl01       cl01_22   1     1     Lauren      Thompson     0     0 \n",
              "23   cl01       cl01_23   1     1     Sham'a      el-Samara    0     0 \n",
              "24   cl01       cl01_24   1     1     Jay         Simpson      0    NA \n",
              "25   cl01       cl01_25   1     1     Brandon     Kaur         0     0 \n",
              "26   cl01       cl01_26   1     1     Tyler       Clark        0     0 \n",
              "27   cl01       cl01_27   1     0     Molly       Billings     1     0 \n",
              "28   cl01       cl01_28   1     1     Kelly       Steward      0     0 \n",
              "29   cl01       cl01_29   1     1     Sunjot      Laouar       0     0 \n",
              "30   cl01       cl01_30   1     1     Bassaam     al-Hai       0     1 \n",
              "⋮    ⋮          ⋮         ⋮     ⋮     ⋮           ⋮            ⋮    ⋮  \n",
              "9066 cl20       cl20_09   12    1     Nina        Nguyen       0    0  \n",
              "9067 cl20       cl20_10   12    1     Hannah      Myles        1    0  \n",
              "9068 cl20       cl20_11   12    1     Loreel      Watson       0    0  \n",
              "9069 cl20       cl20_12   12    1     Wyatt       Proctor      0    0  \n",
              "9070 cl20       cl20_13   12    0     Nafeesa     al-Bari      0    1  \n",
              "9071 cl20       cl20_14   12    1     Maria       Leger        0    0  \n",
              "9072 cl20       cl20_15   12    1     Sara        Robinson     0    0  \n",
              "9073 cl20       cl20_16   12    1     Jamaal      al-Kabir     0    0  \n",
              "9074 cl20       cl20_17   12    1     Trevon      Mackey       0    0  \n",
              "9075 cl20       cl20_18   12    0     Alicia      Debarris     0    0  \n",
              "9076 cl20       cl20_19   12    1     James       Mcclain      0    0  \n",
              "9077 cl20       cl20_20   12    1     Janelle     Lawson       1    1  \n",
              "9078 cl20       cl20_21   12    1     Ya'qoob     el-Ahmadi    0    0  \n",
              "9079 cl20       cl20_22   12    1     Eric        Tran         1    0  \n",
              "9080 cl20       cl20_23   12    1     Natalee     Houdek       1    1  \n",
              "9081 cl20       cl20_24   12    1     Marisa      Deleon       0    0  \n",
              "9082 cl20       cl20_25   12    1     Tristian    Nandih       0    0  \n",
              "9083 cl20       cl20_26   12    1     Haafil      el-Aydin     1    1  \n",
              "9084 cl20       cl20_27   12    1     Dante       Warren       0    0  \n",
              "9085 cl20       cl20_28   12    1     Joseph      Forrer       0    0  \n",
              "9086 cl20       cl20_29   12    1     Frances     Cox          0    0  \n",
              "9087 cl20       cl20_30   12    1     Christian   Etsitty      0    1  \n",
              "9088 cl20       cl20_31   12    1     Katherine   Hakes        0    1  \n",
              "9089 cl20       cl20_32   12    1     Amber       Damian       0    0  \n",
              "9090 cl20       cl20_33   12    1     Martin      Guderjahn    0    0  \n",
              "9091 cl20       cl20_34   12    1     Tasneem     al-Mahfouz   0    0  \n",
              "9092 cl20       cl20_35   12    1     Ladan       Scott        0    0  \n",
              "9093 cl20       cl20_36   12    1     Michael     Sisneros     1    0  \n",
              "9094 cl20       cl20_37   12    1     Talayshi    Cooper-Moore 1    0  \n",
              "9095 cl20       cl20_38   12    1     Madison     Hatton       0    1  "
            ]
          },
          "metadata": {}
        }
      ],
      "source": [
        "df_raw <- read.csv(\"./data_cohort_raw.csv\")\n",
        "df_raw"
      ]
    },
    {
      "cell_type": "markdown",
      "source": [
        "We need the variable for clinical malaria, defined as having both symptoms and a positive RDT result.\n"
      ],
      "metadata": {
        "id": "YJwR9Fu8li0q"
      }
    },
    {
      "cell_type": "code",
      "execution_count": 84,
      "metadata": {
        "id": "NAXmufPDDYlH"
      },
      "outputs": [],
      "source": [
        "df_raw2 <- df_raw %>%\n",
        "    mutate(outcome = ifelse(rdt == 1 & symp == 1, 1, 0))"
      ]
    },
    {
      "cell_type": "code",
      "execution_count": 85,
      "metadata": {
        "scrolled": true,
        "id": "IrJII5J1DYlH",
        "outputId": "864f8d2b-b200-414f-b383-fffec54469f4",
        "colab": {
          "base_uri": "https://localhost:8080/",
          "height": 1000
        }
      },
      "outputs": [
        {
          "output_type": "display_data",
          "data": {
            "text/html": [
              "<table class=\"dataframe\">\n",
              "<caption>A data.frame: 9095 × 9</caption>\n",
              "<thead>\n",
              "\t<tr><th scope=col>cluster_id</th><th scope=col>cohort_id</th><th scope=col>visit</th><th scope=col>avail</th><th scope=col>name_f</th><th scope=col>name_l</th><th scope=col>symp</th><th scope=col>rdt</th><th scope=col>outcome</th></tr>\n",
              "\t<tr><th scope=col>&lt;chr&gt;</th><th scope=col>&lt;chr&gt;</th><th scope=col>&lt;int&gt;</th><th scope=col>&lt;int&gt;</th><th scope=col>&lt;chr&gt;</th><th scope=col>&lt;chr&gt;</th><th scope=col>&lt;int&gt;</th><th scope=col>&lt;int&gt;</th><th scope=col>&lt;dbl&gt;</th></tr>\n",
              "</thead>\n",
              "<tbody>\n",
              "\t<tr><td>cl01</td><td>cl01_01</td><td>1</td><td>1</td><td>Sakeena    </td><td>al-Hoque </td><td>0</td><td> 0</td><td> 0</td></tr>\n",
              "\t<tr><td>cl01</td><td>cl01_02</td><td>1</td><td>1</td><td>Mitchell   </td><td>Gonzales </td><td>0</td><td>NA</td><td> 0</td></tr>\n",
              "\t<tr><td>cl01</td><td>cl01_03</td><td>1</td><td>1</td><td>Anthony    </td><td>Simmons  </td><td>0</td><td> 1</td><td> 0</td></tr>\n",
              "\t<tr><td>cl01</td><td>cl01_04</td><td>1</td><td>1</td><td>Alyssa     </td><td>Rivera   </td><td>0</td><td> 1</td><td> 0</td></tr>\n",
              "\t<tr><td>cl01</td><td>cl01_05</td><td>1</td><td>1</td><td>Timothy    </td><td>Vlajic   </td><td>0</td><td> 0</td><td> 0</td></tr>\n",
              "\t<tr><td>cl01</td><td>cl01_06</td><td>1</td><td>1</td><td>Mana       </td><td>White    </td><td>1</td><td> 0</td><td> 0</td></tr>\n",
              "\t<tr><td>cl01</td><td>cl01_07</td><td>1</td><td>1</td><td>Chykeiljah </td><td>Rea      </td><td>1</td><td>NA</td><td>NA</td></tr>\n",
              "\t<tr><td>cl01</td><td>cl01_08</td><td>1</td><td>1</td><td>Laneesha   </td><td>Rusk     </td><td>0</td><td> 1</td><td> 0</td></tr>\n",
              "\t<tr><td>cl01</td><td>cl01_09</td><td>1</td><td>1</td><td>Mujaahida  </td><td>el-Malak </td><td>0</td><td> 0</td><td> 0</td></tr>\n",
              "\t<tr><td>cl01</td><td>cl01_10</td><td>1</td><td>1</td><td>Jasmine    </td><td>Figueroa </td><td>0</td><td> 0</td><td> 0</td></tr>\n",
              "\t<tr><td>cl01</td><td>cl01_11</td><td>1</td><td>1</td><td>Austin     </td><td>Smith    </td><td>0</td><td> 0</td><td> 0</td></tr>\n",
              "\t<tr><td>cl01</td><td>cl01_12</td><td>1</td><td>1</td><td>Jacob      </td><td>Reyes    </td><td>1</td><td> 0</td><td> 0</td></tr>\n",
              "\t<tr><td>cl01</td><td>cl01_13</td><td>1</td><td>1</td><td>Aatifa     </td><td>el-Ghani </td><td>1</td><td> 0</td><td> 0</td></tr>\n",
              "\t<tr><td>cl01</td><td>cl01_14</td><td>1</td><td>1</td><td>Imraan     </td><td>el-Shafi </td><td>1</td><td> 1</td><td> 1</td></tr>\n",
              "\t<tr><td>cl01</td><td>cl01_15</td><td>1</td><td>1</td><td>Naaifa     </td><td>el-Shaban</td><td>0</td><td>NA</td><td> 0</td></tr>\n",
              "\t<tr><td>cl01</td><td>cl01_16</td><td>1</td><td>1</td><td>Teresa     </td><td>Silva    </td><td>0</td><td> 0</td><td> 0</td></tr>\n",
              "\t<tr><td>cl01</td><td>cl01_17</td><td>1</td><td>1</td><td>Karthikeyan</td><td>Krishnan </td><td>0</td><td> 1</td><td> 0</td></tr>\n",
              "\t<tr><td>cl01</td><td>cl01_18</td><td>1</td><td>0</td><td>William    </td><td>Sullivan </td><td>0</td><td> 1</td><td> 0</td></tr>\n",
              "\t<tr><td>cl01</td><td>cl01_19</td><td>1</td><td>1</td><td>Kyler      </td><td>Sanchez  </td><td>0</td><td> 0</td><td> 0</td></tr>\n",
              "\t<tr><td>cl01</td><td>cl01_20</td><td>1</td><td>1</td><td>Abdul Noor </td><td>al-Fawaz </td><td>1</td><td> 0</td><td> 0</td></tr>\n",
              "\t<tr><td>cl01</td><td>cl01_21</td><td>1</td><td>1</td><td>John       </td><td>Bebernes </td><td>0</td><td> 1</td><td> 0</td></tr>\n",
              "\t<tr><td>cl01</td><td>cl01_22</td><td>1</td><td>1</td><td>Lauren     </td><td>Thompson </td><td>0</td><td> 0</td><td> 0</td></tr>\n",
              "\t<tr><td>cl01</td><td>cl01_23</td><td>1</td><td>1</td><td>Sham'a     </td><td>el-Samara</td><td>0</td><td> 0</td><td> 0</td></tr>\n",
              "\t<tr><td>cl01</td><td>cl01_24</td><td>1</td><td>1</td><td>Jay        </td><td>Simpson  </td><td>0</td><td>NA</td><td> 0</td></tr>\n",
              "\t<tr><td>cl01</td><td>cl01_25</td><td>1</td><td>1</td><td>Brandon    </td><td>Kaur     </td><td>0</td><td> 0</td><td> 0</td></tr>\n",
              "\t<tr><td>cl01</td><td>cl01_26</td><td>1</td><td>1</td><td>Tyler      </td><td>Clark    </td><td>0</td><td> 0</td><td> 0</td></tr>\n",
              "\t<tr><td>cl01</td><td>cl01_27</td><td>1</td><td>0</td><td>Molly      </td><td>Billings </td><td>1</td><td> 0</td><td> 0</td></tr>\n",
              "\t<tr><td>cl01</td><td>cl01_28</td><td>1</td><td>1</td><td>Kelly      </td><td>Steward  </td><td>0</td><td> 0</td><td> 0</td></tr>\n",
              "\t<tr><td>cl01</td><td>cl01_29</td><td>1</td><td>1</td><td>Sunjot     </td><td>Laouar   </td><td>0</td><td> 0</td><td> 0</td></tr>\n",
              "\t<tr><td>cl01</td><td>cl01_30</td><td>1</td><td>1</td><td>Bassaam    </td><td>al-Hai   </td><td>0</td><td> 1</td><td> 0</td></tr>\n",
              "\t<tr><td>⋮</td><td>⋮</td><td>⋮</td><td>⋮</td><td>⋮</td><td>⋮</td><td>⋮</td><td>⋮</td><td>⋮</td></tr>\n",
              "\t<tr><td>cl20</td><td>cl20_09</td><td>12</td><td>1</td><td>Nina     </td><td>Nguyen      </td><td>0</td><td>0</td><td>0</td></tr>\n",
              "\t<tr><td>cl20</td><td>cl20_10</td><td>12</td><td>1</td><td>Hannah   </td><td>Myles       </td><td>1</td><td>0</td><td>0</td></tr>\n",
              "\t<tr><td>cl20</td><td>cl20_11</td><td>12</td><td>1</td><td>Loreel   </td><td>Watson      </td><td>0</td><td>0</td><td>0</td></tr>\n",
              "\t<tr><td>cl20</td><td>cl20_12</td><td>12</td><td>1</td><td>Wyatt    </td><td>Proctor     </td><td>0</td><td>0</td><td>0</td></tr>\n",
              "\t<tr><td>cl20</td><td>cl20_13</td><td>12</td><td>0</td><td>Nafeesa  </td><td>al-Bari     </td><td>0</td><td>1</td><td>0</td></tr>\n",
              "\t<tr><td>cl20</td><td>cl20_14</td><td>12</td><td>1</td><td>Maria    </td><td>Leger       </td><td>0</td><td>0</td><td>0</td></tr>\n",
              "\t<tr><td>cl20</td><td>cl20_15</td><td>12</td><td>1</td><td>Sara     </td><td>Robinson    </td><td>0</td><td>0</td><td>0</td></tr>\n",
              "\t<tr><td>cl20</td><td>cl20_16</td><td>12</td><td>1</td><td>Jamaal   </td><td>al-Kabir    </td><td>0</td><td>0</td><td>0</td></tr>\n",
              "\t<tr><td>cl20</td><td>cl20_17</td><td>12</td><td>1</td><td>Trevon   </td><td>Mackey      </td><td>0</td><td>0</td><td>0</td></tr>\n",
              "\t<tr><td>cl20</td><td>cl20_18</td><td>12</td><td>0</td><td>Alicia   </td><td>Debarris    </td><td>0</td><td>0</td><td>0</td></tr>\n",
              "\t<tr><td>cl20</td><td>cl20_19</td><td>12</td><td>1</td><td>James    </td><td>Mcclain     </td><td>0</td><td>0</td><td>0</td></tr>\n",
              "\t<tr><td>cl20</td><td>cl20_20</td><td>12</td><td>1</td><td>Janelle  </td><td>Lawson      </td><td>1</td><td>1</td><td>1</td></tr>\n",
              "\t<tr><td>cl20</td><td>cl20_21</td><td>12</td><td>1</td><td>Ya'qoob  </td><td>el-Ahmadi   </td><td>0</td><td>0</td><td>0</td></tr>\n",
              "\t<tr><td>cl20</td><td>cl20_22</td><td>12</td><td>1</td><td>Eric     </td><td>Tran        </td><td>1</td><td>0</td><td>0</td></tr>\n",
              "\t<tr><td>cl20</td><td>cl20_23</td><td>12</td><td>1</td><td>Natalee  </td><td>Houdek      </td><td>1</td><td>1</td><td>1</td></tr>\n",
              "\t<tr><td>cl20</td><td>cl20_24</td><td>12</td><td>1</td><td>Marisa   </td><td>Deleon      </td><td>0</td><td>0</td><td>0</td></tr>\n",
              "\t<tr><td>cl20</td><td>cl20_25</td><td>12</td><td>1</td><td>Tristian </td><td>Nandih      </td><td>0</td><td>0</td><td>0</td></tr>\n",
              "\t<tr><td>cl20</td><td>cl20_26</td><td>12</td><td>1</td><td>Haafil   </td><td>el-Aydin    </td><td>1</td><td>1</td><td>1</td></tr>\n",
              "\t<tr><td>cl20</td><td>cl20_27</td><td>12</td><td>1</td><td>Dante    </td><td>Warren      </td><td>0</td><td>0</td><td>0</td></tr>\n",
              "\t<tr><td>cl20</td><td>cl20_28</td><td>12</td><td>1</td><td>Joseph   </td><td>Forrer      </td><td>0</td><td>0</td><td>0</td></tr>\n",
              "\t<tr><td>cl20</td><td>cl20_29</td><td>12</td><td>1</td><td>Frances  </td><td>Cox         </td><td>0</td><td>0</td><td>0</td></tr>\n",
              "\t<tr><td>cl20</td><td>cl20_30</td><td>12</td><td>1</td><td>Christian</td><td>Etsitty     </td><td>0</td><td>1</td><td>0</td></tr>\n",
              "\t<tr><td>cl20</td><td>cl20_31</td><td>12</td><td>1</td><td>Katherine</td><td>Hakes       </td><td>0</td><td>1</td><td>0</td></tr>\n",
              "\t<tr><td>cl20</td><td>cl20_32</td><td>12</td><td>1</td><td>Amber    </td><td>Damian      </td><td>0</td><td>0</td><td>0</td></tr>\n",
              "\t<tr><td>cl20</td><td>cl20_33</td><td>12</td><td>1</td><td>Martin   </td><td>Guderjahn   </td><td>0</td><td>0</td><td>0</td></tr>\n",
              "\t<tr><td>cl20</td><td>cl20_34</td><td>12</td><td>1</td><td>Tasneem  </td><td>al-Mahfouz  </td><td>0</td><td>0</td><td>0</td></tr>\n",
              "\t<tr><td>cl20</td><td>cl20_35</td><td>12</td><td>1</td><td>Ladan    </td><td>Scott       </td><td>0</td><td>0</td><td>0</td></tr>\n",
              "\t<tr><td>cl20</td><td>cl20_36</td><td>12</td><td>1</td><td>Michael  </td><td>Sisneros    </td><td>1</td><td>0</td><td>0</td></tr>\n",
              "\t<tr><td>cl20</td><td>cl20_37</td><td>12</td><td>1</td><td>Talayshi </td><td>Cooper-Moore</td><td>1</td><td>0</td><td>0</td></tr>\n",
              "\t<tr><td>cl20</td><td>cl20_38</td><td>12</td><td>1</td><td>Madison  </td><td>Hatton      </td><td>0</td><td>1</td><td>0</td></tr>\n",
              "</tbody>\n",
              "</table>\n"
            ],
            "text/markdown": "\nA data.frame: 9095 × 9\n\n| cluster_id &lt;chr&gt; | cohort_id &lt;chr&gt; | visit &lt;int&gt; | avail &lt;int&gt; | name_f &lt;chr&gt; | name_l &lt;chr&gt; | symp &lt;int&gt; | rdt &lt;int&gt; | outcome &lt;dbl&gt; |\n|---|---|---|---|---|---|---|---|---|\n| cl01 | cl01_01 | 1 | 1 | Sakeena     | al-Hoque  | 0 |  0 |  0 |\n| cl01 | cl01_02 | 1 | 1 | Mitchell    | Gonzales  | 0 | NA |  0 |\n| cl01 | cl01_03 | 1 | 1 | Anthony     | Simmons   | 0 |  1 |  0 |\n| cl01 | cl01_04 | 1 | 1 | Alyssa      | Rivera    | 0 |  1 |  0 |\n| cl01 | cl01_05 | 1 | 1 | Timothy     | Vlajic    | 0 |  0 |  0 |\n| cl01 | cl01_06 | 1 | 1 | Mana        | White     | 1 |  0 |  0 |\n| cl01 | cl01_07 | 1 | 1 | Chykeiljah  | Rea       | 1 | NA | NA |\n| cl01 | cl01_08 | 1 | 1 | Laneesha    | Rusk      | 0 |  1 |  0 |\n| cl01 | cl01_09 | 1 | 1 | Mujaahida   | el-Malak  | 0 |  0 |  0 |\n| cl01 | cl01_10 | 1 | 1 | Jasmine     | Figueroa  | 0 |  0 |  0 |\n| cl01 | cl01_11 | 1 | 1 | Austin      | Smith     | 0 |  0 |  0 |\n| cl01 | cl01_12 | 1 | 1 | Jacob       | Reyes     | 1 |  0 |  0 |\n| cl01 | cl01_13 | 1 | 1 | Aatifa      | el-Ghani  | 1 |  0 |  0 |\n| cl01 | cl01_14 | 1 | 1 | Imraan      | el-Shafi  | 1 |  1 |  1 |\n| cl01 | cl01_15 | 1 | 1 | Naaifa      | el-Shaban | 0 | NA |  0 |\n| cl01 | cl01_16 | 1 | 1 | Teresa      | Silva     | 0 |  0 |  0 |\n| cl01 | cl01_17 | 1 | 1 | Karthikeyan | Krishnan  | 0 |  1 |  0 |\n| cl01 | cl01_18 | 1 | 0 | William     | Sullivan  | 0 |  1 |  0 |\n| cl01 | cl01_19 | 1 | 1 | Kyler       | Sanchez   | 0 |  0 |  0 |\n| cl01 | cl01_20 | 1 | 1 | Abdul Noor  | al-Fawaz  | 1 |  0 |  0 |\n| cl01 | cl01_21 | 1 | 1 | John        | Bebernes  | 0 |  1 |  0 |\n| cl01 | cl01_22 | 1 | 1 | Lauren      | Thompson  | 0 |  0 |  0 |\n| cl01 | cl01_23 | 1 | 1 | Sham'a      | el-Samara | 0 |  0 |  0 |\n| cl01 | cl01_24 | 1 | 1 | Jay         | Simpson   | 0 | NA |  0 |\n| cl01 | cl01_25 | 1 | 1 | Brandon     | Kaur      | 0 |  0 |  0 |\n| cl01 | cl01_26 | 1 | 1 | Tyler       | Clark     | 0 |  0 |  0 |\n| cl01 | cl01_27 | 1 | 0 | Molly       | Billings  | 1 |  0 |  0 |\n| cl01 | cl01_28 | 1 | 1 | Kelly       | Steward   | 0 |  0 |  0 |\n| cl01 | cl01_29 | 1 | 1 | Sunjot      | Laouar    | 0 |  0 |  0 |\n| cl01 | cl01_30 | 1 | 1 | Bassaam     | al-Hai    | 0 |  1 |  0 |\n| ⋮ | ⋮ | ⋮ | ⋮ | ⋮ | ⋮ | ⋮ | ⋮ | ⋮ |\n| cl20 | cl20_09 | 12 | 1 | Nina      | Nguyen       | 0 | 0 | 0 |\n| cl20 | cl20_10 | 12 | 1 | Hannah    | Myles        | 1 | 0 | 0 |\n| cl20 | cl20_11 | 12 | 1 | Loreel    | Watson       | 0 | 0 | 0 |\n| cl20 | cl20_12 | 12 | 1 | Wyatt     | Proctor      | 0 | 0 | 0 |\n| cl20 | cl20_13 | 12 | 0 | Nafeesa   | al-Bari      | 0 | 1 | 0 |\n| cl20 | cl20_14 | 12 | 1 | Maria     | Leger        | 0 | 0 | 0 |\n| cl20 | cl20_15 | 12 | 1 | Sara      | Robinson     | 0 | 0 | 0 |\n| cl20 | cl20_16 | 12 | 1 | Jamaal    | al-Kabir     | 0 | 0 | 0 |\n| cl20 | cl20_17 | 12 | 1 | Trevon    | Mackey       | 0 | 0 | 0 |\n| cl20 | cl20_18 | 12 | 0 | Alicia    | Debarris     | 0 | 0 | 0 |\n| cl20 | cl20_19 | 12 | 1 | James     | Mcclain      | 0 | 0 | 0 |\n| cl20 | cl20_20 | 12 | 1 | Janelle   | Lawson       | 1 | 1 | 1 |\n| cl20 | cl20_21 | 12 | 1 | Ya'qoob   | el-Ahmadi    | 0 | 0 | 0 |\n| cl20 | cl20_22 | 12 | 1 | Eric      | Tran         | 1 | 0 | 0 |\n| cl20 | cl20_23 | 12 | 1 | Natalee   | Houdek       | 1 | 1 | 1 |\n| cl20 | cl20_24 | 12 | 1 | Marisa    | Deleon       | 0 | 0 | 0 |\n| cl20 | cl20_25 | 12 | 1 | Tristian  | Nandih       | 0 | 0 | 0 |\n| cl20 | cl20_26 | 12 | 1 | Haafil    | el-Aydin     | 1 | 1 | 1 |\n| cl20 | cl20_27 | 12 | 1 | Dante     | Warren       | 0 | 0 | 0 |\n| cl20 | cl20_28 | 12 | 1 | Joseph    | Forrer       | 0 | 0 | 0 |\n| cl20 | cl20_29 | 12 | 1 | Frances   | Cox          | 0 | 0 | 0 |\n| cl20 | cl20_30 | 12 | 1 | Christian | Etsitty      | 0 | 1 | 0 |\n| cl20 | cl20_31 | 12 | 1 | Katherine | Hakes        | 0 | 1 | 0 |\n| cl20 | cl20_32 | 12 | 1 | Amber     | Damian       | 0 | 0 | 0 |\n| cl20 | cl20_33 | 12 | 1 | Martin    | Guderjahn    | 0 | 0 | 0 |\n| cl20 | cl20_34 | 12 | 1 | Tasneem   | al-Mahfouz   | 0 | 0 | 0 |\n| cl20 | cl20_35 | 12 | 1 | Ladan     | Scott        | 0 | 0 | 0 |\n| cl20 | cl20_36 | 12 | 1 | Michael   | Sisneros     | 1 | 0 | 0 |\n| cl20 | cl20_37 | 12 | 1 | Talayshi  | Cooper-Moore | 1 | 0 | 0 |\n| cl20 | cl20_38 | 12 | 1 | Madison   | Hatton       | 0 | 1 | 0 |\n\n",
            "text/latex": "A data.frame: 9095 × 9\n\\begin{tabular}{lllllllll}\n cluster\\_id & cohort\\_id & visit & avail & name\\_f & name\\_l & symp & rdt & outcome\\\\\n <chr> & <chr> & <int> & <int> & <chr> & <chr> & <int> & <int> & <dbl>\\\\\n\\hline\n\t cl01 & cl01\\_01 & 1 & 1 & Sakeena     & al-Hoque  & 0 &  0 &  0\\\\\n\t cl01 & cl01\\_02 & 1 & 1 & Mitchell    & Gonzales  & 0 & NA &  0\\\\\n\t cl01 & cl01\\_03 & 1 & 1 & Anthony     & Simmons   & 0 &  1 &  0\\\\\n\t cl01 & cl01\\_04 & 1 & 1 & Alyssa      & Rivera    & 0 &  1 &  0\\\\\n\t cl01 & cl01\\_05 & 1 & 1 & Timothy     & Vlajic    & 0 &  0 &  0\\\\\n\t cl01 & cl01\\_06 & 1 & 1 & Mana        & White     & 1 &  0 &  0\\\\\n\t cl01 & cl01\\_07 & 1 & 1 & Chykeiljah  & Rea       & 1 & NA & NA\\\\\n\t cl01 & cl01\\_08 & 1 & 1 & Laneesha    & Rusk      & 0 &  1 &  0\\\\\n\t cl01 & cl01\\_09 & 1 & 1 & Mujaahida   & el-Malak  & 0 &  0 &  0\\\\\n\t cl01 & cl01\\_10 & 1 & 1 & Jasmine     & Figueroa  & 0 &  0 &  0\\\\\n\t cl01 & cl01\\_11 & 1 & 1 & Austin      & Smith     & 0 &  0 &  0\\\\\n\t cl01 & cl01\\_12 & 1 & 1 & Jacob       & Reyes     & 1 &  0 &  0\\\\\n\t cl01 & cl01\\_13 & 1 & 1 & Aatifa      & el-Ghani  & 1 &  0 &  0\\\\\n\t cl01 & cl01\\_14 & 1 & 1 & Imraan      & el-Shafi  & 1 &  1 &  1\\\\\n\t cl01 & cl01\\_15 & 1 & 1 & Naaifa      & el-Shaban & 0 & NA &  0\\\\\n\t cl01 & cl01\\_16 & 1 & 1 & Teresa      & Silva     & 0 &  0 &  0\\\\\n\t cl01 & cl01\\_17 & 1 & 1 & Karthikeyan & Krishnan  & 0 &  1 &  0\\\\\n\t cl01 & cl01\\_18 & 1 & 0 & William     & Sullivan  & 0 &  1 &  0\\\\\n\t cl01 & cl01\\_19 & 1 & 1 & Kyler       & Sanchez   & 0 &  0 &  0\\\\\n\t cl01 & cl01\\_20 & 1 & 1 & Abdul Noor  & al-Fawaz  & 1 &  0 &  0\\\\\n\t cl01 & cl01\\_21 & 1 & 1 & John        & Bebernes  & 0 &  1 &  0\\\\\n\t cl01 & cl01\\_22 & 1 & 1 & Lauren      & Thompson  & 0 &  0 &  0\\\\\n\t cl01 & cl01\\_23 & 1 & 1 & Sham'a      & el-Samara & 0 &  0 &  0\\\\\n\t cl01 & cl01\\_24 & 1 & 1 & Jay         & Simpson   & 0 & NA &  0\\\\\n\t cl01 & cl01\\_25 & 1 & 1 & Brandon     & Kaur      & 0 &  0 &  0\\\\\n\t cl01 & cl01\\_26 & 1 & 1 & Tyler       & Clark     & 0 &  0 &  0\\\\\n\t cl01 & cl01\\_27 & 1 & 0 & Molly       & Billings  & 1 &  0 &  0\\\\\n\t cl01 & cl01\\_28 & 1 & 1 & Kelly       & Steward   & 0 &  0 &  0\\\\\n\t cl01 & cl01\\_29 & 1 & 1 & Sunjot      & Laouar    & 0 &  0 &  0\\\\\n\t cl01 & cl01\\_30 & 1 & 1 & Bassaam     & al-Hai    & 0 &  1 &  0\\\\\n\t ⋮ & ⋮ & ⋮ & ⋮ & ⋮ & ⋮ & ⋮ & ⋮ & ⋮\\\\\n\t cl20 & cl20\\_09 & 12 & 1 & Nina      & Nguyen       & 0 & 0 & 0\\\\\n\t cl20 & cl20\\_10 & 12 & 1 & Hannah    & Myles        & 1 & 0 & 0\\\\\n\t cl20 & cl20\\_11 & 12 & 1 & Loreel    & Watson       & 0 & 0 & 0\\\\\n\t cl20 & cl20\\_12 & 12 & 1 & Wyatt     & Proctor      & 0 & 0 & 0\\\\\n\t cl20 & cl20\\_13 & 12 & 0 & Nafeesa   & al-Bari      & 0 & 1 & 0\\\\\n\t cl20 & cl20\\_14 & 12 & 1 & Maria     & Leger        & 0 & 0 & 0\\\\\n\t cl20 & cl20\\_15 & 12 & 1 & Sara      & Robinson     & 0 & 0 & 0\\\\\n\t cl20 & cl20\\_16 & 12 & 1 & Jamaal    & al-Kabir     & 0 & 0 & 0\\\\\n\t cl20 & cl20\\_17 & 12 & 1 & Trevon    & Mackey       & 0 & 0 & 0\\\\\n\t cl20 & cl20\\_18 & 12 & 0 & Alicia    & Debarris     & 0 & 0 & 0\\\\\n\t cl20 & cl20\\_19 & 12 & 1 & James     & Mcclain      & 0 & 0 & 0\\\\\n\t cl20 & cl20\\_20 & 12 & 1 & Janelle   & Lawson       & 1 & 1 & 1\\\\\n\t cl20 & cl20\\_21 & 12 & 1 & Ya'qoob   & el-Ahmadi    & 0 & 0 & 0\\\\\n\t cl20 & cl20\\_22 & 12 & 1 & Eric      & Tran         & 1 & 0 & 0\\\\\n\t cl20 & cl20\\_23 & 12 & 1 & Natalee   & Houdek       & 1 & 1 & 1\\\\\n\t cl20 & cl20\\_24 & 12 & 1 & Marisa    & Deleon       & 0 & 0 & 0\\\\\n\t cl20 & cl20\\_25 & 12 & 1 & Tristian  & Nandih       & 0 & 0 & 0\\\\\n\t cl20 & cl20\\_26 & 12 & 1 & Haafil    & el-Aydin     & 1 & 1 & 1\\\\\n\t cl20 & cl20\\_27 & 12 & 1 & Dante     & Warren       & 0 & 0 & 0\\\\\n\t cl20 & cl20\\_28 & 12 & 1 & Joseph    & Forrer       & 0 & 0 & 0\\\\\n\t cl20 & cl20\\_29 & 12 & 1 & Frances   & Cox          & 0 & 0 & 0\\\\\n\t cl20 & cl20\\_30 & 12 & 1 & Christian & Etsitty      & 0 & 1 & 0\\\\\n\t cl20 & cl20\\_31 & 12 & 1 & Katherine & Hakes        & 0 & 1 & 0\\\\\n\t cl20 & cl20\\_32 & 12 & 1 & Amber     & Damian       & 0 & 0 & 0\\\\\n\t cl20 & cl20\\_33 & 12 & 1 & Martin    & Guderjahn    & 0 & 0 & 0\\\\\n\t cl20 & cl20\\_34 & 12 & 1 & Tasneem   & al-Mahfouz   & 0 & 0 & 0\\\\\n\t cl20 & cl20\\_35 & 12 & 1 & Ladan     & Scott        & 0 & 0 & 0\\\\\n\t cl20 & cl20\\_36 & 12 & 1 & Michael   & Sisneros     & 1 & 0 & 0\\\\\n\t cl20 & cl20\\_37 & 12 & 1 & Talayshi  & Cooper-Moore & 1 & 0 & 0\\\\\n\t cl20 & cl20\\_38 & 12 & 1 & Madison   & Hatton       & 0 & 1 & 0\\\\\n\\end{tabular}\n",
            "text/plain": [
              "     cluster_id cohort_id visit avail name_f      name_l       symp rdt outcome\n",
              "1    cl01       cl01_01   1     1     Sakeena     al-Hoque     0     0   0     \n",
              "2    cl01       cl01_02   1     1     Mitchell    Gonzales     0    NA   0     \n",
              "3    cl01       cl01_03   1     1     Anthony     Simmons      0     1   0     \n",
              "4    cl01       cl01_04   1     1     Alyssa      Rivera       0     1   0     \n",
              "5    cl01       cl01_05   1     1     Timothy     Vlajic       0     0   0     \n",
              "6    cl01       cl01_06   1     1     Mana        White        1     0   0     \n",
              "7    cl01       cl01_07   1     1     Chykeiljah  Rea          1    NA  NA     \n",
              "8    cl01       cl01_08   1     1     Laneesha    Rusk         0     1   0     \n",
              "9    cl01       cl01_09   1     1     Mujaahida   el-Malak     0     0   0     \n",
              "10   cl01       cl01_10   1     1     Jasmine     Figueroa     0     0   0     \n",
              "11   cl01       cl01_11   1     1     Austin      Smith        0     0   0     \n",
              "12   cl01       cl01_12   1     1     Jacob       Reyes        1     0   0     \n",
              "13   cl01       cl01_13   1     1     Aatifa      el-Ghani     1     0   0     \n",
              "14   cl01       cl01_14   1     1     Imraan      el-Shafi     1     1   1     \n",
              "15   cl01       cl01_15   1     1     Naaifa      el-Shaban    0    NA   0     \n",
              "16   cl01       cl01_16   1     1     Teresa      Silva        0     0   0     \n",
              "17   cl01       cl01_17   1     1     Karthikeyan Krishnan     0     1   0     \n",
              "18   cl01       cl01_18   1     0     William     Sullivan     0     1   0     \n",
              "19   cl01       cl01_19   1     1     Kyler       Sanchez      0     0   0     \n",
              "20   cl01       cl01_20   1     1     Abdul Noor  al-Fawaz     1     0   0     \n",
              "21   cl01       cl01_21   1     1     John        Bebernes     0     1   0     \n",
              "22   cl01       cl01_22   1     1     Lauren      Thompson     0     0   0     \n",
              "23   cl01       cl01_23   1     1     Sham'a      el-Samara    0     0   0     \n",
              "24   cl01       cl01_24   1     1     Jay         Simpson      0    NA   0     \n",
              "25   cl01       cl01_25   1     1     Brandon     Kaur         0     0   0     \n",
              "26   cl01       cl01_26   1     1     Tyler       Clark        0     0   0     \n",
              "27   cl01       cl01_27   1     0     Molly       Billings     1     0   0     \n",
              "28   cl01       cl01_28   1     1     Kelly       Steward      0     0   0     \n",
              "29   cl01       cl01_29   1     1     Sunjot      Laouar       0     0   0     \n",
              "30   cl01       cl01_30   1     1     Bassaam     al-Hai       0     1   0     \n",
              "⋮    ⋮          ⋮         ⋮     ⋮     ⋮           ⋮            ⋮    ⋮   ⋮      \n",
              "9066 cl20       cl20_09   12    1     Nina        Nguyen       0    0   0      \n",
              "9067 cl20       cl20_10   12    1     Hannah      Myles        1    0   0      \n",
              "9068 cl20       cl20_11   12    1     Loreel      Watson       0    0   0      \n",
              "9069 cl20       cl20_12   12    1     Wyatt       Proctor      0    0   0      \n",
              "9070 cl20       cl20_13   12    0     Nafeesa     al-Bari      0    1   0      \n",
              "9071 cl20       cl20_14   12    1     Maria       Leger        0    0   0      \n",
              "9072 cl20       cl20_15   12    1     Sara        Robinson     0    0   0      \n",
              "9073 cl20       cl20_16   12    1     Jamaal      al-Kabir     0    0   0      \n",
              "9074 cl20       cl20_17   12    1     Trevon      Mackey       0    0   0      \n",
              "9075 cl20       cl20_18   12    0     Alicia      Debarris     0    0   0      \n",
              "9076 cl20       cl20_19   12    1     James       Mcclain      0    0   0      \n",
              "9077 cl20       cl20_20   12    1     Janelle     Lawson       1    1   1      \n",
              "9078 cl20       cl20_21   12    1     Ya'qoob     el-Ahmadi    0    0   0      \n",
              "9079 cl20       cl20_22   12    1     Eric        Tran         1    0   0      \n",
              "9080 cl20       cl20_23   12    1     Natalee     Houdek       1    1   1      \n",
              "9081 cl20       cl20_24   12    1     Marisa      Deleon       0    0   0      \n",
              "9082 cl20       cl20_25   12    1     Tristian    Nandih       0    0   0      \n",
              "9083 cl20       cl20_26   12    1     Haafil      el-Aydin     1    1   1      \n",
              "9084 cl20       cl20_27   12    1     Dante       Warren       0    0   0      \n",
              "9085 cl20       cl20_28   12    1     Joseph      Forrer       0    0   0      \n",
              "9086 cl20       cl20_29   12    1     Frances     Cox          0    0   0      \n",
              "9087 cl20       cl20_30   12    1     Christian   Etsitty      0    1   0      \n",
              "9088 cl20       cl20_31   12    1     Katherine   Hakes        0    1   0      \n",
              "9089 cl20       cl20_32   12    1     Amber       Damian       0    0   0      \n",
              "9090 cl20       cl20_33   12    1     Martin      Guderjahn    0    0   0      \n",
              "9091 cl20       cl20_34   12    1     Tasneem     al-Mahfouz   0    0   0      \n",
              "9092 cl20       cl20_35   12    1     Ladan       Scott        0    0   0      \n",
              "9093 cl20       cl20_36   12    1     Michael     Sisneros     1    0   0      \n",
              "9094 cl20       cl20_37   12    1     Talayshi    Cooper-Moore 1    0   0      \n",
              "9095 cl20       cl20_38   12    1     Madison     Hatton       0    1   0      "
            ]
          },
          "metadata": {}
        }
      ],
      "source": [
        "df_raw2"
      ]
    },
    {
      "cell_type": "code",
      "execution_count": 86,
      "metadata": {
        "id": "32RGfO9PDYlH"
      },
      "outputs": [],
      "source": [
        "df_raw_count <- df_raw2 %>%\n",
        "    group_by(cohort_id) %>%\n",
        "    summarise(\n",
        "    num_pos = sum(outcome,na.rm=T),\n",
        "    total_visit = sum(avail)\n",
        "  )"
      ]
    },
    {
      "cell_type": "markdown",
      "source": [
        "\n",
        "\n",
        "\n",
        "*   Combine with the baseline covariates\n",
        "*   Calcluate incidence rate per person-year\n",
        "\n"
      ],
      "metadata": {
        "id": "51-BimfClxJX"
      }
    },
    {
      "cell_type": "code",
      "execution_count": 87,
      "metadata": {
        "id": "DVltxtKcDYlH",
        "outputId": "e4f7d398-f1ac-46a7-fec8-7cc6a472d39f",
        "colab": {
          "base_uri": "https://localhost:8080/"
        }
      },
      "outputs": [
        {
          "output_type": "stream",
          "name": "stderr",
          "text": [
            "\u001b[1m\u001b[22mJoining with `by = join_by(cohort_id)`\n"
          ]
        }
      ],
      "source": [
        "df_raw3 <- left_join(df_raw_count, df_baseline) %>%\n",
        "    distinct(cohort_id, .keep_all = T) %>%\n",
        "    mutate(incidence_rate = 12*num_pos/total_visit)"
      ]
    },
    {
      "cell_type": "markdown",
      "source": [
        "Get estimates\n",
        "\n",
        "  - Intention to treeat vs Per protocol"
      ],
      "metadata": {
        "id": "NflTLCPEmIDq"
      }
    },
    {
      "cell_type": "code",
      "execution_count": 88,
      "metadata": {
        "id": "S_OVrcwkDYlH"
      },
      "outputs": [],
      "source": [
        "# Intention to Treat\n",
        "model_raw_itt <- glmer.nb(num_pos ~ intervention +\n",
        "                       non_bn +\n",
        "                       vac +\n",
        "                       age_c +\n",
        "                    　　offset(log(total_visit)) +\n",
        "                       (1 | cluster_id), data = df_raw3)"
      ]
    },
    {
      "cell_type": "code",
      "execution_count": 89,
      "metadata": {
        "id": "FszIqJ5qDYlH"
      },
      "outputs": [],
      "source": [
        "# Per protocol\n",
        "model_raw_pp <- glmer.nb(num_pos ~ cn +\n",
        "                       non_bn +\n",
        "                       vac +\n",
        "                       age_c +\n",
        "                    　　offset(log(total_visit)) +\n",
        "                       (1 | cluster_id), data = df_raw3)"
      ]
    },
    {
      "cell_type": "code",
      "execution_count": 90,
      "metadata": {
        "id": "4RjdPf0wDYlH",
        "outputId": "45c911ec-affc-4795-abf2-e53e783c51e5",
        "colab": {
          "base_uri": "https://localhost:8080/",
          "height": 277
        }
      },
      "outputs": [
        {
          "output_type": "stream",
          "name": "stdout",
          "text": [
            " (Intercept) intervention       non_bn          vac        age_c \n",
            "   0.1351432    0.6433404    1.2570395    0.7277902    1.3188163 \n"
          ]
        },
        {
          "output_type": "display_data",
          "data": {
            "text/html": [
              "<table class=\"dataframe\">\n",
              "<caption>A matrix: 5 × 2 of type dbl</caption>\n",
              "<thead>\n",
              "\t<tr><th></th><th scope=col>2.5 %</th><th scope=col>97.5 %</th></tr>\n",
              "</thead>\n",
              "<tbody>\n",
              "\t<tr><th scope=row>(Intercept)</th><td>0.1073886</td><td>0.1700710</td></tr>\n",
              "\t<tr><th scope=row>intervention</th><td>0.4710873</td><td>0.8785779</td></tr>\n",
              "\t<tr><th scope=row>non_bn</th><td>1.0125886</td><td>1.5605039</td></tr>\n",
              "\t<tr><th scope=row>vac</th><td>0.5874960</td><td>0.9015866</td></tr>\n",
              "\t<tr><th scope=row>age_c</th><td>1.0547249</td><td>1.6490332</td></tr>\n",
              "</tbody>\n",
              "</table>\n"
            ],
            "text/markdown": "\nA matrix: 5 × 2 of type dbl\n\n| <!--/--> | 2.5 % | 97.5 % |\n|---|---|---|\n| (Intercept) | 0.1073886 | 0.1700710 |\n| intervention | 0.4710873 | 0.8785779 |\n| non_bn | 1.0125886 | 1.5605039 |\n| vac | 0.5874960 | 0.9015866 |\n| age_c | 1.0547249 | 1.6490332 |\n\n",
            "text/latex": "A matrix: 5 × 2 of type dbl\n\\begin{tabular}{r|ll}\n  & 2.5 \\% & 97.5 \\%\\\\\n\\hline\n\t(Intercept) & 0.1073886 & 0.1700710\\\\\n\tintervention & 0.4710873 & 0.8785779\\\\\n\tnon\\_bn & 1.0125886 & 1.5605039\\\\\n\tvac & 0.5874960 & 0.9015866\\\\\n\tage\\_c & 1.0547249 & 1.6490332\\\\\n\\end{tabular}\n",
            "text/plain": [
              "             2.5 %     97.5 %   \n",
              "(Intercept)  0.1073886 0.1700710\n",
              "intervention 0.4710873 0.8785779\n",
              "non_bn       1.0125886 1.5605039\n",
              "vac          0.5874960 0.9015866\n",
              "age_c        1.0547249 1.6490332"
            ]
          },
          "metadata": {}
        },
        {
          "output_type": "stream",
          "name": "stdout",
          "text": [
            "[1] \"Estimated efficacy of the ceiling net: 0.36\"\n"
          ]
        }
      ],
      "source": [
        "# Intention to Treat\n",
        "print(exp(fixef(model_raw_itt)))\n",
        "exp(confint(model_raw_itt, parm = \"beta_\", method = \"Wald\"))\n",
        "\n",
        "print(paste0(\"Estimated efficacy of the ceiling net: \", round(1-exp(fixef(model_raw_itt))[[2]],2)))"
      ]
    },
    {
      "cell_type": "code",
      "execution_count": 91,
      "metadata": {
        "id": "8aS22wpCDYlH",
        "outputId": "6e45b9e4-1502-4941-f034-41a282f19bca",
        "colab": {
          "base_uri": "https://localhost:8080/",
          "height": 277
        }
      },
      "outputs": [
        {
          "output_type": "stream",
          "name": "stdout",
          "text": [
            "(Intercept)          cn      non_bn         vac       age_c \n",
            "  0.1448369   0.4977574   1.2435779   0.7277495   1.3612633 \n"
          ]
        },
        {
          "output_type": "display_data",
          "data": {
            "text/html": [
              "<table class=\"dataframe\">\n",
              "<caption>A matrix: 5 × 2 of type dbl</caption>\n",
              "<thead>\n",
              "\t<tr><th></th><th scope=col>2.5 %</th><th scope=col>97.5 %</th></tr>\n",
              "</thead>\n",
              "<tbody>\n",
              "\t<tr><th scope=row>(Intercept)</th><td>0.1179066</td><td>0.1779183</td></tr>\n",
              "\t<tr><th scope=row>cn</th><td>0.3794977</td><td>0.6528694</td></tr>\n",
              "\t<tr><th scope=row>non_bn</th><td>1.0041448</td><td>1.5401026</td></tr>\n",
              "\t<tr><th scope=row>vac</th><td>0.5884131</td><td>0.9000807</td></tr>\n",
              "\t<tr><th scope=row>age_c</th><td>1.0907771</td><td>1.6988234</td></tr>\n",
              "</tbody>\n",
              "</table>\n"
            ],
            "text/markdown": "\nA matrix: 5 × 2 of type dbl\n\n| <!--/--> | 2.5 % | 97.5 % |\n|---|---|---|\n| (Intercept) | 0.1179066 | 0.1779183 |\n| cn | 0.3794977 | 0.6528694 |\n| non_bn | 1.0041448 | 1.5401026 |\n| vac | 0.5884131 | 0.9000807 |\n| age_c | 1.0907771 | 1.6988234 |\n\n",
            "text/latex": "A matrix: 5 × 2 of type dbl\n\\begin{tabular}{r|ll}\n  & 2.5 \\% & 97.5 \\%\\\\\n\\hline\n\t(Intercept) & 0.1179066 & 0.1779183\\\\\n\tcn & 0.3794977 & 0.6528694\\\\\n\tnon\\_bn & 1.0041448 & 1.5401026\\\\\n\tvac & 0.5884131 & 0.9000807\\\\\n\tage\\_c & 1.0907771 & 1.6988234\\\\\n\\end{tabular}\n",
            "text/plain": [
              "            2.5 %     97.5 %   \n",
              "(Intercept) 0.1179066 0.1779183\n",
              "cn          0.3794977 0.6528694\n",
              "non_bn      1.0041448 1.5401026\n",
              "vac         0.5884131 0.9000807\n",
              "age_c       1.0907771 1.6988234"
            ]
          },
          "metadata": {}
        },
        {
          "output_type": "stream",
          "name": "stdout",
          "text": [
            "[1] \"Estimated efficacy of the ceiling net: 0.5\"\n"
          ]
        }
      ],
      "source": [
        "# Per protocol\n",
        "print(exp(fixef(model_raw_pp)))\n",
        "exp(confint(model_raw_pp, parm = \"beta_\", method = \"Wald\"))\n",
        "\n",
        "\n",
        "print(paste0(\"Estimated efficacy of the ceiling net: \", round(1-exp(fixef(model_raw_pp))[[2]],2)))"
      ]
    },
    {
      "cell_type": "code",
      "source": [
        "# Compare with the perfect data\n",
        "m_raw_itt <- 1-exp(fixef(model_raw_itt))[[2]]\n",
        "l_raw_itt <- 1-exp(confint(model_raw_itt, parm = \"beta_\", method = \"Wald\"))[[2,2]]\n",
        "u_raw_itt <- 1-exp(confint(model_raw_itt, parm = \"beta_\", method = \"Wald\"))[[2,1]]\n",
        "\n",
        "m_full_itt <- 1-exp(fixef(model_itt))[[2]]\n",
        "l_full_itt <- 1-exp(confint(model_itt, parm = \"beta_\", method = \"Wald\"))[[2,2]]\n",
        "u_full_itt <- 1-exp(confint(model_itt, parm = \"beta_\", method = \"Wald\"))[[2,1]]\n",
        "\n",
        "data_res <- tibble(data = c(\"Raw data\", \"Perfect data\"),\n",
        "                   est = c(m_raw_itt, m_full_itt),\n",
        "                   l = c(l_raw_itt, l_full_itt),\n",
        "                   u = c(u_raw_itt, u_full_itt))\n",
        "\n",
        "ggplot(data_res, aes(x = data, y = est)) +\n",
        "  ylab(\"Estimated protective efficacy\") +\n",
        "  geom_point(size = 7) +\n",
        "  geom_errorbar(aes(ymin = l, ymax = u), width = 0.1) +\n",
        "  theme +\n",
        "  geom_hline(yintercept = 0.5, linetype = 2)"
      ],
      "metadata": {
        "id": "KIrLibPRjTG6",
        "outputId": "53e0d1e6-cf41-46b0-bf87-decb077747c2",
        "colab": {
          "base_uri": "https://localhost:8080/",
          "height": 437
        }
      },
      "execution_count": 120,
      "outputs": [
        {
          "output_type": "display_data",
          "data": {
            "text/plain": [
              "plot without title"
            ],
            "image/png": "[encoded data removed]"
          },
          "metadata": {
            "image/png": {
              "width": 420,
              "height": 420
            }
          }
        }
      ]
    },
    {
      "cell_type": "markdown",
      "metadata": {
        "id": "1ONF2PQIg35l"
      },
      "source": [
        "# Data simulation\n"
      ]
    },
    {
      "cell_type": "markdown",
      "metadata": {
        "id": "IZUMHsoM3Rfv"
      },
      "source": [
        "### Data generation process\n",
        "\n",
        "1.   **Cluster-level random effect**: mean = 0, sd = 0.5\n",
        "2.   **Intervention**: Randomly assign 50% of participants to receive the intervention, which reduces the risk of clinical malaria by 50%.\n",
        "3.   **Compliance**: 10% of participants do not receive the intervention when allocated to the intervention arm due to a lack of health awareness; these individuals have a 20% higher risk of clinical malaria.\n",
        "4.   **Bed net use**: 20% of participants do not use bed nets regularly and have a 40% higher risk of clinical malaria.\n",
        "5.   **Malaria vaccine**: 70% of children aged 2–6 years receive a malaria vaccine, which reduces the risk of clinical malaria by 30%.\n",
        "6. **Age**: Children aged 0–2 years have a 50% higher risk of clinical malaria compared to older children.\n",
        "\n",
        "Without any of the above risk factors, the incidence rate is 1.5 per person-year, following a negative binomial distribution with a dispersion parameter of 1.2\n",
        "\n",
        "\n",
        "\\begin{align*}\n",
        "y_{ij} &\\sim NegBin(\\lambda_{ij}, \\theta) \\\\\n",
        "\\log{\\lambda_{ij}} &= \\alpha + x_{ij}^T\\beta + u_j \\\\\n",
        "\\ u_j &\\sim N(0, \\sigma_{u}^2) \\\\\n",
        "\\end{align*}\n",
        "\n",
        "where $y_{ij}$ denotes the total number of clinical malaria diagnosis for individual $i$ in a cluster $j$.\n",
        "\n",
        "\n",
        "\n",
        "\n",
        "\n"
      ]
    },
    {
      "cell_type": "code",
      "execution_count": null,
      "metadata": {
        "id": "6XXbmJOngqOl"
      },
      "outputs": [],
      "source": [
        "df_cohort <- read.csv(\"./data/list_cohort.csv\")\n",
        "date_survey <- as.Date(\"2025/04/01\")\n",
        "df_cohort_2 <- df_cohort %>%\n",
        "  mutate(birth = ifelse(cohort_id == \"cl01_11\", \"2020/11/30\", birth)) %>%\n",
        "  mutate(age = floor(interval(birth, date_survey) / years(1))) %>%\n",
        "  group_by(cluster_id) %>%\n",
        "  mutate(re = rnorm(1, mean = 0, sd = 0.3)) %>%\n",
        "  mutate(intervention = ifelse(as.numeric(str_extract(cluster_id, \"\\\\d+\")) %% 2 == 1,1,0)) %>%\n",
        "  ungroup() %>%\n",
        "  mutate(non_comp = rbinom(nrow(df_cohort), 1, 0.10),\n",
        "         non_bn = rbinom(nrow(df_cohort), 1, 0.2),\n",
        "         vac = case_when(age >= 2 & age <= 6 ~ rbinom(nrow(df_cohort), 1, 0.70),\n",
        "                         TRUE ~ 0),\n",
        "         age_c = ifelse(age <= 2, 1, 0)) %>% # 1: young, 0: old\n",
        "  mutate(cn = ifelse(intervention == 1 & non_comp == 0, 1, 0))"
      ]
    },
    {
      "cell_type": "code",
      "execution_count": null,
      "metadata": {
        "id": "gfemc3fN4FBZ"
      },
      "outputs": [],
      "source": [
        "lambda <- exp(log(1.5)+df_cohort_2$re+\n",
        "            log(0.5)*df_cohort_2$cn+\n",
        "            log(1.2)*df_cohort_2$non_comp+\n",
        "            log(1.4)*df_cohort_2$non_bn+\n",
        "            log(0.7)*df_cohort_2$vac+\n",
        "            log(1.5)*df_cohort_2$age_c\n",
        "            )\n",
        "theta <- 1.2\n",
        "num_pos <- rnegbin(nrow(df_cohort_2), mu = lambda, theta = theta)\n",
        "df_cohort_2$num_pos <- num_pos"
      ]
    },
    {
      "cell_type": "code",
      "execution_count": null,
      "metadata": {
        "scrolled": true,
        "id": "Iq-w_pcSDYlH",
        "outputId": "05bd96fb-4b2e-4639-d1f6-4ffc5395c4f9"
      },
      "outputs": [
        {
          "name": "stdout",
          "output_type": "stream",
          "text": [
            "  [1]  1  0  1  0  1  2  1  0  0  0  0  0  0  2  0  2  0  0  0  0  1  0  2  0  0\n",
            " [26]  0  3  0  1  0  3  0  4  1  0  0  0  1  1  1  1  1  0  0  3  1  1  1  2  0\n",
            " [51]  4  1  0  0  0  0  1  0  1  0  0  3  0  0  1  6  0  0  2  4  2  0  0  5  0\n",
            " [76]  2  0  0  1  0  1  2  0  6  0  2  1  0  6  0  0  1  1  0  0  3  3  4  2  4\n",
            "[101]  0  1  0  1  1  1  3  0  1  0  1  0  1  0  4  7  1  3  1  2  1  2  0  2  2\n",
            "[126]  1  2  3  1  5  2  5  1  1  4  3  8  3  1  2  1  3  2  0  0  0  5  2  0  0\n",
            "[151] 10  0  2  2  6  2  0  2  2  0  0  0  0  0  0  3  4  0  1  0  0  2  1  0  0\n",
            "[176]  3  1  1  0  3  1  0  1  0  0  0  2  0  0  4  5  0  1  0  1  4  0  3  3  0\n",
            "[201]  5  2  0  3  0  2  1  6  2  2  1  0  2  3  1  9  4  0  1  4  6  1  5  0  0\n",
            "[226]  0  0  7  5  0  4  2  1  0  9  0  0  1  1  2  0  0  1  2  0  1  1  0  0  1\n",
            "[251]  0  4  1  0  2  2  0  0  1  1  0  1  2  0  3  0  4  0  0  3  0  1  1  1  1\n",
            "[276]  0  3  1  1  0  0  3  8  0  0  0  1  0  3  4  0  2  0  3  0  0  1  0  0  1\n",
            "[301]  4  2  1  3  1  1  0  2  3  0  0  0  0  0  0  0  3  1  0  2  0  0  2  3  0\n",
            "[326]  1  0  1  3  1  2  0  0  0  1  0  1  0  0  1  0  0  1  1  2  2  1  0  1  2\n",
            "[351]  6  0  4  5  0  1  1  0  0  3  2  0  2  0  4  0  2  0  2  0  0  1  3  0  1\n",
            "[376]  1  0  0  0  1  0  1  0  0  0  0  0  0  2  1  0  0  0  0  1  2  0  0  3  0\n",
            "[401]  0  0  1  0  0  1  0  0  0  2  0  1  0  0  0  2  2  0 10  1  7  0  3  1  4\n",
            "[426]  4  2  2  1  5  1  0  4  1  1  1  4  0  4  4  1  4  3  7  0  3  1  2  0  0\n",
            "[451]  0  8  2  0  0  6  1  3  2  1  0  1  1  5  2  0  1  5  1  2  0  0  2  1  1\n",
            "[476]  0  0  0  0  0  0  1  0  0  0  3  0  0  0  0  1  2  0  0  1  0  0  4  0  1\n",
            "[501]  2  1  0  0  1  1  0  1  0  0  1  0  1  2  0  0  0  0  0  0  0  0  0  0  1\n",
            "[526]  0  1  3  0  0  1  0  0  0  0  0  0  1  2  0  3  0  5  2  1  1  0  2  1  0\n",
            "[551]  0  0  0  1  2  3  1  2  1  7  0  5  0  1  1  2  0  0  3  0  5  0  0  0  3\n",
            "[576]  4  3  1  1  1  0  3  0  1  1  0  8  0  4  0  0  1  1  0  0  2  2  0  2  0\n",
            "[601]  1  5  0  8  1  1  4  0  0  1  0  1  0  2  0  0  4  3  0  0  0  3  1  0  1\n",
            "[626]  0  0  5  0  3  2  0  0  0  0  2  0  7  0  2  6  0  4  1  1  3  2  0  2  2\n",
            "[651]  1  0  2  2  1  1  1  2  2  0  6  0  1  0  1  5  3  3 10  0  0  1  0  0  3\n",
            "[676]  1  0  2  0  3  1  0  5  2  0  0  1  0  0  0  0  1  1  1  0  0  1  0  0  0\n",
            "[701]  4  1  1  1  0  0  4  0  0  0  0  0  0  2  0  0  0  3  1  0  0  0  2  0  0\n",
            "[726]  4  0  0 10  0  3  2  1  0  0  1  4  0 10  1  1  9  0  1  1  1  0  2  2  1\n",
            "[751]  3  1  2  0  2  2  2  7  2  2\n"
          ]
        }
      ],
      "source": [
        "print(df_cohort_2$num_pos)"
      ]
    },
    {
      "cell_type": "code",
      "execution_count": null,
      "metadata": {
        "id": "kT0eL0fLDYlI",
        "outputId": "4d4063fd-a1d9-404b-826a-82d315bbcdf3"
      },
      "outputs": [
        {
          "data": {
            "image/png": "[encoded data removed]",
            "text/plain": [
              "plot without title"
            ]
          },
          "metadata": {
            "image/png": {
              "height": 420,
              "width": 420
            }
          },
          "output_type": "display_data"
        }
      ],
      "source": [
        "df_num_pos <- df_cohort_2 %>% count(num_pos)\n",
        "\n",
        "ggplot(data = df_num_pos, aes(x = num_pos, y = n))+\n",
        "   geom_bar(stat = \"identity\", fill = \"#3182bd\", color = \"#252525\")+\n",
        "   ggtitle(\"Number of malaria positives\")+\n",
        "   theme"
      ]
    }
  ],
  "metadata": {
    "colab": {
      "provenance": [],
      "toc_visible": true
    },
    "kernelspec": {
      "display_name": "R",
      "language": "R",
      "name": "ir"
    },
    "language_info": {
      "codemirror_mode": "r",
      "file_extension": ".r",
      "mimetype": "text/x-r-source",
      "name": "R",
      "pygments_lexer": "r",
      "version": "4.3.3"
    }
  },
  "nbformat": 4,
  "nbformat_minor": 0
}