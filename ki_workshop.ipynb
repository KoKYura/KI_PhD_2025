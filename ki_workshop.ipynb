{
  "cells": [
    {
      "cell_type": "markdown",
      "source": [
        "# Introduction\n",
        "\n",
        "In this workshop, we will estimate the protective efficacy of a new vector control tool, 'ceiling nets,' using data from a hypothetical cluster-randomized controlled trial generated through computer simulation.\n",
        "\n",
        "About ceiling nets: https://bmjopen.bmj.com/content/15/1/e087832.info"
      ],
      "metadata": {
        "id": "MlT9LB5p-JLt"
      }
    },
    {
      "cell_type": "markdown",
      "metadata": {
        "id": "kwPTRvcevMvu"
      },
      "source": [
        "### Importing libraries"
      ]
    },
    {
      "cell_type": "code",
      "source": [
        "# It might take some time, better to run the code in advance of the course.\n",
        "\n",
        "install.packages(\"lme4\")"
      ],
      "metadata": {
        "id": "oBj-cT1kDhdb"
      },
      "execution_count": null,
      "outputs": []
    },
    {
      "cell_type": "code",
      "execution_count": null,
      "metadata": {
        "id": "naukg5l7vMvu",
        "vscode": {
          "languageId": "r"
        }
      },
      "outputs": [],
      "source": [
        "library(tidyverse)\n",
        "library(MASS)\n",
        "library(lme4)"
      ]
    },
    {
      "cell_type": "code",
      "execution_count": 3,
      "metadata": {
        "id": "z5cAvrX_DYlF"
      },
      "outputs": [],
      "source": [
        "# To make plots\n",
        "theme <- theme(\n",
        "            plot.title = element_text(size=20,face=\"bold\"),\n",
        "            legend.position = \"top\",\n",
        "            legend.title = element_blank(),\n",
        "            legend.text = element_text(size=18,face=\"bold\"),\n",
        "            axis.text = element_text(size=15),\n",
        "            axis.title = element_text(size=18,face=\"bold\"),\n",
        "            axis.line = element_line(colour = \"black\"),\n",
        "            plot.margin = unit(c(1, 2, 1, 1), \"lines\"),\n",
        "            panel.background = element_blank())"
      ]
    },
    {
      "cell_type": "markdown",
      "metadata": {
        "id": "scAy6lB6vMvu"
      },
      "source": [
        "# Participant list\n",
        "\n",
        "\n",
        "First, you got a cohort participant list from local staff.\n",
        "\n",
        "\n",
        "*   Cohort children are supposed to be aged 6 month to 14 years old.\n",
        "\n",
        "*   Variables are the following:\n",
        "\n",
        "    1.   **cluster_id**: ID for each cluster\n",
        "    2.   **cohort_id**: Unique identifier for each participant\n",
        "    3. **name_f**: First name of the participant\n",
        "    4. **name_l**: Last name of the participant\n",
        "    5. **birth**: Birthday of the participant\n",
        "    6. **name_labtec**: Name of lab tech respondible for the cluster\n",
        "\n"
      ]
    },
    {
      "cell_type": "code",
      "execution_count": 4,
      "metadata": {
        "id": "bs3bRUPhvMvz"
      },
      "outputs": [],
      "source": [
        "# df_cohort <- read.csv(\"./list_cohort.csv\")\n",
        "df_cohort <- read.csv(\"https://raw.githubusercontent.com/KoKYura/KI_PhD_2025/main/data/list_cohort.csv\")"
      ]
    },
    {
      "cell_type": "code",
      "execution_count": null,
      "metadata": {
        "id": "CQ160iuzUlZI",
        "collapsed": true
      },
      "outputs": [],
      "source": [
        "head(df_cohort,10)"
      ]
    },
    {
      "cell_type": "code",
      "execution_count": null,
      "metadata": {
        "id": "dr7ZK1gMVBiA"
      },
      "outputs": [],
      "source": [
        "# How many cluster IDs?\n",
        "unique(df_cohort$cluster_id)"
      ]
    },
    {
      "cell_type": "code",
      "execution_count": null,
      "metadata": {
        "id": "fcwM8InTXOS0"
      },
      "outputs": [],
      "source": [
        "# Number of participants per cluster\n",
        "df_cohort %>% count(cluster_id)"
      ]
    },
    {
      "cell_type": "code",
      "source": [
        "# Lab tech name?\n",
        "print(unique(df_cohort$name_labtec))"
      ],
      "metadata": {
        "id": "SAr9wYzTGjg8"
      },
      "execution_count": null,
      "outputs": []
    },
    {
      "cell_type": "code",
      "execution_count": 9,
      "metadata": {
        "id": "1QJm3jFOYMCv"
      },
      "outputs": [],
      "source": [
        "# Age of participants?\n",
        "date_survey <- as.Date(\"2025/04/01\")\n",
        "df_cohort$age <- floor(interval(df_cohort$birth, date_survey) / years(1))"
      ]
    },
    {
      "cell_type": "code",
      "execution_count": null,
      "metadata": {
        "id": "HqZlwGKAYafu"
      },
      "outputs": [],
      "source": [
        "df_cohort_age <- df_cohort %>% count(age)\n",
        "\n",
        "ggplot(data = df_cohort_age, aes(x = age, y = n))+\n",
        "  geom_bar(stat = \"identity\", fill = \"#fdae6b\", color = \"#252525\")+\n",
        "  theme"
      ]
    },
    {
      "cell_type": "code",
      "execution_count": null,
      "metadata": {
        "id": "GgSu9NrWacSl"
      },
      "outputs": [],
      "source": [
        "df_cohort %>% filter(age > 14)"
      ]
    },
    {
      "cell_type": "markdown",
      "source": [
        "There is the 24 y.o adult, Austin in the cohort.\n",
        "\n",
        "Let's ask Nicole, the lab tech for cluster 'cl01'. Then, you may find that the incorrect birthday was recorded.\n",
        "\n",
        "Her true birthday is November 30, 2020!\n",
        "\n",
        "We need to fix the data set."
      ],
      "metadata": {
        "id": "9v_WSiSkHHi5"
      }
    },
    {
      "cell_type": "code",
      "execution_count": 12,
      "metadata": {
        "id": "vyBusHDeb8vv"
      },
      "outputs": [],
      "source": [
        "df_cohort <- df_cohort %>%\n",
        "  mutate(birth = ifelse(cohort_id == \"cl01_11\", \"2020/11/30\", birth)) %>%\n",
        "  mutate(age = ifelse(cohort_id == \"cl01_11\", 3, age))"
      ]
    },
    {
      "cell_type": "code",
      "execution_count": null,
      "metadata": {
        "id": "nyGR4pgdb9Jj"
      },
      "outputs": [],
      "source": [
        "df_cohort %>% filter(cohort_id == \"cl01_11\")"
      ]
    },
    {
      "cell_type": "code",
      "execution_count": null,
      "metadata": {
        "id": "8FnXMOVngf0n"
      },
      "outputs": [],
      "source": [
        "df_cohort_age <- df_cohort %>% count(age)\n",
        "\n",
        "ggplot(data = df_cohort_age, aes(x = age, y = n))+\n",
        "   geom_bar(stat = \"identity\", fill = \"#fdae6b\", color = \"#252525\")+\n",
        "   theme"
      ]
    },
    {
      "cell_type": "markdown",
      "source": [
        "# Baseline data\n",
        "\n",
        "We have the following baseline information associated with malaria outcomes.\n",
        "\n",
        "\n",
        "\n",
        "1.   **intervention**: Intervention or Control assignment (1: intervention, 0: control)\n",
        "2.   **cn**: Living in the household with ceiling net or not (1: with cn, 0: without cn)\n",
        "3. **non_bn**: Not using bed net (1: non-user, 0: user)\n",
        "4. **vac**: With malaria vaccination for those aged 2–6 years old (1: vaccinated)\n",
        "5. **age_c**: Age category (1: age <= 2 yo, 0: age > 2 yo)\n",
        "6. **rdt**: RDT results\n"
      ],
      "metadata": {
        "id": "TV0jieZAIJo_"
      }
    },
    {
      "cell_type": "code",
      "source": [
        "# df_baseline <- read.csv(\"./data_baseline.csv\")\n",
        "df_baseline <- read.csv(\"https://raw.githubusercontent.com/KoKYura/KI_PhD_2025/main/data/data_baseline.csv\")\n",
        "\n",
        "head(df_baseline)"
      ],
      "metadata": {
        "id": "M0pl5GRxIA7a"
      },
      "execution_count": null,
      "outputs": []
    },
    {
      "cell_type": "markdown",
      "source": [
        "Transmission heterogeneity"
      ],
      "metadata": {
        "id": "pD72CP7NjU-Q"
      }
    },
    {
      "cell_type": "code",
      "source": [
        "df_prev <- df_baseline %>%\n",
        "  group_by(cluster_id) %>%\n",
        "  count(rdt) %>%\n",
        "  mutate(prev = n/sum(n)) %>%\n",
        "  filter(rdt == 1) %>%\n",
        "  arrange(prev) %>%\n",
        "  ungroup() %>%\n",
        "  mutate(order = row_number())\n",
        "\n",
        "ggplot(data = df_prev, aes(x = order, y = prev))+\n",
        "   geom_bar(stat = \"identity\", fill = \"#fc4e2a\", color = \"#252525\")+\n",
        "   theme+\n",
        "   theme(\n",
        "          axis.title.x = element_blank(),\n",
        "          axis.text.x = element_blank()\n",
        "   )"
      ],
      "metadata": {
        "id": "1mgfCF5ffyW0"
      },
      "execution_count": null,
      "outputs": []
    },
    {
      "cell_type": "markdown",
      "metadata": {
        "id": "RgUVIAl4DYlG"
      },
      "source": [
        "# Analysis of perfect data\n",
        "\n",
        "Suppose that we know the potential non-compliers, even those in the control arm.\n",
        "\n",
        "**non_comp**: 1: non complier, 0: complier"
      ]
    },
    {
      "cell_type": "code",
      "execution_count": null,
      "metadata": {
        "scrolled": true,
        "id": "kWq9pYInDYlG"
      },
      "outputs": [],
      "source": [
        "# df_full <- read.csv(\"./data_cohort_full.csv\")\n",
        "df_full <- read.csv(\"https://raw.githubusercontent.com/KoKYura/KI_PhD_2025/main/data/data_cohort_full.csv\")\n",
        "\n",
        "head(df_full)"
      ]
    },
    {
      "cell_type": "code",
      "source": [
        "head(df_full %>% filter(intervention == 1 & non_comp == 1))"
      ],
      "metadata": {
        "id": "-U2QzDcEh8eF"
      },
      "execution_count": null,
      "outputs": []
    },
    {
      "cell_type": "code",
      "execution_count": 19,
      "metadata": {
        "id": "3uYNukNxDYlH"
      },
      "outputs": [],
      "source": [
        "df_full_count <- df_full %>%\n",
        "    group_by(cohort_id) %>%\n",
        "    summarise(\n",
        "    num_pos = sum(outcome),\n",
        "    total_visit = n()\n",
        "  )"
      ]
    },
    {
      "cell_type": "code",
      "execution_count": 20,
      "metadata": {
        "id": "JN-omYA0DYlH"
      },
      "outputs": [],
      "source": [
        "df_full2 <- df_full %>%\n",
        "    dplyr::select(cluster_id, cohort_id, intervention, cn, non_comp, non_bn, vac, age_c) %>%\n",
        "    left_join(df_full_count, by = \"cohort_id\") %>%\n",
        "    distinct(cohort_id, .keep_all = T)"
      ]
    },
    {
      "cell_type": "markdown",
      "source": [
        "**Analysis**\n",
        "\n",
        "**Mixed-effects negative binomial regression**\n",
        "\n",
        "\n",
        "\\begin{align*}\n",
        "y_{ij} &\\sim NegBin(\\lambda_{ij}, \\theta) \\\\\n",
        "{\\lambda_{ij}} &= exp(\\alpha + x_{ij}^T\\beta + u_j + log{A_{ij}})  \\\\\n",
        "\\ u_j &\\sim N(0, \\sigma_{u}^2) \\\\\n",
        "\\end{align*}\n",
        "\n",
        "where $y_{ij}$ denotes the total number of clinical malaria diagnosis for individual $i$ in a cluster $j$, $x_{i,j}$ is the covariate vector, $u_{j}$ is the Gaussian-type randome effect at the cluster level, $A_{ij}$ is the total number of visits.\n",
        "\n",
        "The protective efficacy will be estimated by $(1 − exp(𝛽_{1}))$ × 100%, where $𝛽_{1}$ is the estimated regression coefficient of\n",
        "the treatment."
      ],
      "metadata": {
        "id": "t3CwlA01uHEj"
      }
    },
    {
      "cell_type": "code",
      "execution_count": 21,
      "metadata": {
        "id": "crBF5v7aDYlH"
      },
      "outputs": [],
      "source": [
        "model <- glmer.nb(num_pos ~\n",
        "                       cn +\n",
        "                       non_comp +\n",
        "                       non_bn +\n",
        "                       vac +\n",
        "                       age_c +\n",
        "                       offset(log(total_visit)) +\n",
        "                       (1 | cluster_id), data = df_full2)"
      ]
    },
    {
      "cell_type": "code",
      "execution_count": null,
      "metadata": {
        "id": "uCJEEMt8DYlH"
      },
      "outputs": [],
      "source": [
        "print(exp(fixef(model)))\n",
        "exp(confint(model, parm = \"beta_\", method = \"Wald\"))\n",
        "\n",
        "print(paste0(\"Estimated efficacy of the ceiling net: \", round(1-exp(fixef(model))[[2]],2)))"
      ]
    },
    {
      "cell_type": "code",
      "source": [
        "# TODO 1: write your code here\n",
        "\n",
        "# Intention-to-Treat\n",
        "model_itt <-\n",
        "\n"
      ],
      "metadata": {
        "id": "2h5KfPJZpJL0"
      },
      "execution_count": 34,
      "outputs": []
    },
    {
      "cell_type": "code",
      "source": [
        "print(exp(fixef(model_itt)))\n",
        "exp(confint(model_itt, parm = \"beta_\", method = \"Wald\"))\n",
        "\n",
        "print(paste0(\"Estimated efficacy of the ceiling net: \", round(1-exp(fixef(model_itt))[[2]],2)))"
      ],
      "metadata": {
        "id": "xbgm4af2rqr0"
      },
      "execution_count": null,
      "outputs": []
    },
    {
      "cell_type": "code",
      "source": [
        "# TODO 2: write your code here\n",
        "\n",
        "# Per protocol\n",
        "model_pp <-\n",
        ""
      ],
      "metadata": {
        "id": "nd4WaGhyxR7P"
      },
      "execution_count": 36,
      "outputs": []
    },
    {
      "cell_type": "code",
      "source": [
        "print(exp(fixef(model_pp)))\n",
        "exp(confint(model_pp, parm = \"beta_\", method = \"Wald\"))\n",
        "\n",
        "print(paste0(\"Estimated efficacy of the ceiling net: \", round(1-exp(fixef(model_pp))[[2]],2)))"
      ],
      "metadata": {
        "id": "zOH34yoDx_O4"
      },
      "execution_count": null,
      "outputs": []
    },
    {
      "cell_type": "markdown",
      "metadata": {
        "id": "kU-DjzORDYlH"
      },
      "source": [
        "# Analysis of raw data\n",
        "\n",
        "If you get to know who is the non complier, then we can estimate the data perfectly, but in reality it is not possible.\n",
        "\n",
        "\n",
        "\n",
        "*   **symp**: 1: with malaria related symptoms\n",
        "*   **rdt**: 1: malaria RDT positive\n",
        "\n"
      ]
    },
    {
      "cell_type": "code",
      "execution_count": null,
      "metadata": {
        "scrolled": true,
        "id": "_X5iL_v1DYlH"
      },
      "outputs": [],
      "source": [
        "# df_raw <- read.csv(\"./data_cohort_raw.csv\")\n",
        "df_raw <- read.csv(\"https://raw.githubusercontent.com/KoKYura/KI_PhD_2025/main/data/data_cohort_raw.csv\")\n",
        "\n",
        "head(df_raw)"
      ]
    },
    {
      "cell_type": "markdown",
      "source": [
        "We need the variable for clinical malaria, defined as having both symptoms and a positive RDT result.\n"
      ],
      "metadata": {
        "id": "YJwR9Fu8li0q"
      }
    },
    {
      "cell_type": "code",
      "execution_count": 24,
      "metadata": {
        "id": "NAXmufPDDYlH"
      },
      "outputs": [],
      "source": [
        "df_raw2 <- df_raw %>%\n",
        "    mutate(outcome = ifelse(rdt == 1 & symp == 1, 1, 0))"
      ]
    },
    {
      "cell_type": "code",
      "execution_count": null,
      "metadata": {
        "scrolled": true,
        "id": "IrJII5J1DYlH"
      },
      "outputs": [],
      "source": [
        "head(df_raw2)"
      ]
    },
    {
      "cell_type": "code",
      "execution_count": 26,
      "metadata": {
        "id": "32RGfO9PDYlH"
      },
      "outputs": [],
      "source": [
        "df_raw_count <- df_raw2 %>%\n",
        "    group_by(cohort_id) %>%\n",
        "    summarise(\n",
        "    num_pos = sum(outcome,na.rm=T),\n",
        "    total_visit = sum(avail)\n",
        "  )"
      ]
    },
    {
      "cell_type": "markdown",
      "source": [
        "\n",
        "\n",
        "\n",
        "*   Combine with the baseline covariates\n",
        "*   Calcluate incidence rate per person-year\n",
        "\n"
      ],
      "metadata": {
        "id": "51-BimfClxJX"
      }
    },
    {
      "cell_type": "code",
      "execution_count": null,
      "metadata": {
        "id": "DVltxtKcDYlH"
      },
      "outputs": [],
      "source": [
        "df_raw3 <- left_join(df_raw_count, df_baseline) %>%\n",
        "    distinct(cohort_id, .keep_all = T) %>%\n",
        "    mutate(incidence_rate = 12*num_pos/total_visit)"
      ]
    },
    {
      "cell_type": "markdown",
      "source": [
        "Get estimates\n",
        "\n",
        "  - Intention to treat vs Per protocol"
      ],
      "metadata": {
        "id": "NflTLCPEmIDq"
      }
    },
    {
      "cell_type": "code",
      "execution_count": 28,
      "metadata": {
        "id": "S_OVrcwkDYlH"
      },
      "outputs": [],
      "source": [
        "# Intention to Treat\n",
        "model_raw_itt <- glmer.nb(num_pos ~\n",
        "                       intervention +\n",
        "                       non_bn +\n",
        "                       vac +\n",
        "                       age_c +\n",
        "                    　 offset(log(total_visit)) +\n",
        "                       (1 | cluster_id), data = df_raw3)"
      ]
    },
    {
      "cell_type": "code",
      "execution_count": 29,
      "metadata": {
        "id": "FszIqJ5qDYlH"
      },
      "outputs": [],
      "source": [
        "# Per protocol\n",
        "model_raw_pp <- glmer.nb(num_pos ~ cn +\n",
        "                       non_bn +\n",
        "                       vac +\n",
        "                       age_c +\n",
        "                    　　offset(log(total_visit)) +\n",
        "                       (1 | cluster_id), data = df_raw3)"
      ]
    },
    {
      "cell_type": "code",
      "execution_count": null,
      "metadata": {
        "id": "4RjdPf0wDYlH"
      },
      "outputs": [],
      "source": [
        "# Intention to Treat\n",
        "print(exp(fixef(model_raw_itt)))\n",
        "exp(confint(model_raw_itt, parm = \"beta_\", method = \"Wald\"))\n",
        "\n",
        "print(paste0(\"Estimated efficacy of the ceiling net: \", round(1-exp(fixef(model_raw_itt))[[2]],2)))"
      ]
    },
    {
      "cell_type": "code",
      "execution_count": null,
      "metadata": {
        "id": "8aS22wpCDYlH"
      },
      "outputs": [],
      "source": [
        "# Per protocol\n",
        "print(exp(fixef(model_raw_pp)))\n",
        "exp(confint(model_raw_pp, parm = \"beta_\", method = \"Wald\"))\n",
        "\n",
        "\n",
        "print(paste0(\"Estimated efficacy of the ceiling net: \", round(1-exp(fixef(model_raw_pp))[[2]],2)))"
      ]
    },
    {
      "cell_type": "code",
      "source": [
        "# Compare with the perfect data\n",
        "m_raw_itt <- 1-exp(fixef(model_raw_itt))[[2]]\n",
        "l_raw_itt <- 1-exp(confint(model_raw_itt, parm = \"beta_\", method = \"Wald\"))[[2,2]]\n",
        "u_raw_itt <- 1-exp(confint(model_raw_itt, parm = \"beta_\", method = \"Wald\"))[[2,1]]\n",
        "\n",
        "m_full_itt <- 1-exp(fixef(model_itt))[[2]]\n",
        "l_full_itt <- 1-exp(confint(model_itt, parm = \"beta_\", method = \"Wald\"))[[2,2]]\n",
        "u_full_itt <- 1-exp(confint(model_itt, parm = \"beta_\", method = \"Wald\"))[[2,1]]\n",
        "\n",
        "data_res <- tibble(data = c(\"Raw data\", \"Perfect data\"),\n",
        "                   est = c(m_raw_itt, m_full_itt),\n",
        "                   l = c(l_raw_itt, l_full_itt),\n",
        "                   u = c(u_raw_itt, u_full_itt))\n",
        "\n",
        "ggplot(data_res, aes(x = data, y = est)) +\n",
        "  ylab(\"Estimated protective efficacy\") +\n",
        "  geom_point(size = 7) +\n",
        "  geom_errorbar(aes(ymin = l, ymax = u), width = 0.1) +\n",
        "  coord_flip() +\n",
        "  theme +\n",
        "  geom_hline(yintercept = 0.5, linetype = 2)"
      ],
      "metadata": {
        "id": "KIrLibPRjTG6"
      },
      "execution_count": null,
      "outputs": []
    },
    {
      "cell_type": "markdown",
      "source": [
        "# Excercise\n",
        "\n",
        "It appears that the raw data contains both **random** and **systematic** errors when compared to the perfect data.\n",
        "\n",
        "Let’s identify all the missing or measurement errors (**5 errors**)!\n",
        "\n",
        "Each time you find something suspicious, ask the field staff to investigate what’s happening in the field. They will then provide you with the correct information."
      ],
      "metadata": {
        "id": "8Ew5I3FrSHxv"
      }
    },
    {
      "cell_type": "code",
      "source": [
        "# TODO 3: write your code here\n",
        "# To detect errors"
      ],
      "metadata": {
        "id": "t0XjX2WoShRG"
      },
      "execution_count": null,
      "outputs": []
    },
    {
      "cell_type": "code",
      "source": [
        "# TODO 4: write your code here\n",
        "# To update for correct data"
      ],
      "metadata": {
        "id": "oAE8DaeXShyb"
      },
      "execution_count": null,
      "outputs": []
    },
    {
      "cell_type": "markdown",
      "metadata": {
        "id": "1ONF2PQIg35l"
      },
      "source": [
        "# Data simulation (reference)\n"
      ]
    },
    {
      "cell_type": "markdown",
      "metadata": {
        "id": "IZUMHsoM3Rfv"
      },
      "source": [
        "**Data generation process**\n",
        "\n",
        "1.   **Cluster-level random effect**: mean = 0, sd = 0.5\n",
        "2.   **Intervention**: Randomly assign 50% of participants to receive the intervention, which reduces the risk of clinical malaria by 50%.\n",
        "3.   **Compliance**: 10% of participants do not receive the intervention when allocated to the intervention arm due to a lack of health awareness; these individuals have a 20% higher risk of clinical malaria.\n",
        "4.   **Bed net use**: 20% of participants do not use bed nets regularly and have a 40% higher risk of clinical malaria.\n",
        "5.   **Malaria vaccine**: 70% of children aged 2–6 years receive a malaria vaccine, which reduces the risk of clinical malaria by 30%.\n",
        "6. **Age**: Children aged 0–2 years have a 50% higher risk of clinical malaria compared to older children.\n",
        "\n",
        "Without any of the above risk factors, the incidence rate is 1.5 per person-year, following a negative binomial distribution with a dispersion parameter of 1.2\n",
        "\n",
        "\n",
        "\\begin{align*}\n",
        "y_{ij} &\\sim NegBin(\\lambda_{ij}, \\theta) \\\\\n",
        "{\\lambda_{ij}} &= exp(\\alpha + x_{ij}^T\\beta + u_j + log{A_{ij}})  \\\\\n",
        "\\ u_j &\\sim N(0, \\sigma_{u}^2) \\\\\n",
        "\\end{align*}\n",
        "\n",
        "where $y_{ij}$ denotes the total number of clinical malaria diagnosis for individual $i$ in a cluster $j$, $x_{i,j}$ is the covariate vector, $u_{j}$ is the Gaussian-type randome effect at the cluster level, $A_{ij}$ is the total number of visits.\n",
        "\n",
        "The protective efficacy will be estimated by $(1 − exp(𝛽_{1}))$ × 100%, where $𝛽_{1}$ is the estimated regression coefficient of\n",
        "the treatment.\n",
        "\n",
        "\n",
        "\n",
        "\n",
        "\n"
      ]
    },
    {
      "cell_type": "code",
      "execution_count": null,
      "metadata": {
        "id": "6XXbmJOngqOl"
      },
      "outputs": [],
      "source": [
        "df_cohort <- read.csv(\"./data/list_cohort.csv\")\n",
        "date_survey <- as.Date(\"2025/04/01\")\n",
        "df_cohort_2 <- df_cohort %>%\n",
        "  mutate(birth = ifelse(cohort_id == \"cl01_11\", \"2020/11/30\", birth)) %>%\n",
        "  mutate(age = floor(interval(birth, date_survey) / years(1))) %>%\n",
        "  group_by(cluster_id) %>%\n",
        "  mutate(re = rnorm(1, mean = 0, sd = 0.3)) %>%\n",
        "  mutate(intervention = ifelse(as.numeric(str_extract(cluster_id, \"\\\\d+\")) %% 2 == 1,1,0)) %>%\n",
        "  ungroup() %>%\n",
        "  mutate(non_comp = rbinom(nrow(df_cohort), 1, 0.10),\n",
        "         non_bn = rbinom(nrow(df_cohort), 1, 0.2),\n",
        "         vac = case_when(age >= 2 & age <= 6 ~ rbinom(nrow(df_cohort), 1, 0.70),\n",
        "                         TRUE ~ 0),\n",
        "         age_c = ifelse(age <= 2, 1, 0)) %>% # 1: young, 0: old\n",
        "  mutate(cn = ifelse(intervention == 1 & non_comp == 0, 1, 0))"
      ]
    },
    {
      "cell_type": "code",
      "execution_count": null,
      "metadata": {
        "id": "gfemc3fN4FBZ"
      },
      "outputs": [],
      "source": [
        "lambda <- exp(log(1.5)+df_cohort_2$re+\n",
        "            log(0.5)*df_cohort_2$cn+\n",
        "            log(1.2)*df_cohort_2$non_comp+\n",
        "            log(1.4)*df_cohort_2$non_bn+\n",
        "            log(0.7)*df_cohort_2$vac+\n",
        "            log(1.5)*df_cohort_2$age_c\n",
        "            )\n",
        "theta <- 1.2\n",
        "num_pos <- rnegbin(nrow(df_cohort_2), mu = lambda, theta = theta)\n",
        "df_cohort_2$num_pos <- num_pos"
      ]
    },
    {
      "cell_type": "code",
      "execution_count": null,
      "metadata": {
        "scrolled": true,
        "id": "Iq-w_pcSDYlH",
        "outputId": "05bd96fb-4b2e-4639-d1f6-4ffc5395c4f9"
      },
      "outputs": [
        {
          "name": "stdout",
          "output_type": "stream",
          "text": [
            "  [1]  1  0  1  0  1  2  1  0  0  0  0  0  0  2  0  2  0  0  0  0  1  0  2  0  0\n",
            " [26]  0  3  0  1  0  3  0  4  1  0  0  0  1  1  1  1  1  0  0  3  1  1  1  2  0\n",
            " [51]  4  1  0  0  0  0  1  0  1  0  0  3  0  0  1  6  0  0  2  4  2  0  0  5  0\n",
            " [76]  2  0  0  1  0  1  2  0  6  0  2  1  0  6  0  0  1  1  0  0  3  3  4  2  4\n",
            "[101]  0  1  0  1  1  1  3  0  1  0  1  0  1  0  4  7  1  3  1  2  1  2  0  2  2\n",
            "[126]  1  2  3  1  5  2  5  1  1  4  3  8  3  1  2  1  3  2  0  0  0  5  2  0  0\n",
            "[151] 10  0  2  2  6  2  0  2  2  0  0  0  0  0  0  3  4  0  1  0  0  2  1  0  0\n",
            "[176]  3  1  1  0  3  1  0  1  0  0  0  2  0  0  4  5  0  1  0  1  4  0  3  3  0\n",
            "[201]  5  2  0  3  0  2  1  6  2  2  1  0  2  3  1  9  4  0  1  4  6  1  5  0  0\n",
            "[226]  0  0  7  5  0  4  2  1  0  9  0  0  1  1  2  0  0  1  2  0  1  1  0  0  1\n",
            "[251]  0  4  1  0  2  2  0  0  1  1  0  1  2  0  3  0  4  0  0  3  0  1  1  1  1\n",
            "[276]  0  3  1  1  0  0  3  8  0  0  0  1  0  3  4  0  2  0  3  0  0  1  0  0  1\n",
            "[301]  4  2  1  3  1  1  0  2  3  0  0  0  0  0  0  0  3  1  0  2  0  0  2  3  0\n",
            "[326]  1  0  1  3  1  2  0  0  0  1  0  1  0  0  1  0  0  1  1  2  2  1  0  1  2\n",
            "[351]  6  0  4  5  0  1  1  0  0  3  2  0  2  0  4  0  2  0  2  0  0  1  3  0  1\n",
            "[376]  1  0  0  0  1  0  1  0  0  0  0  0  0  2  1  0  0  0  0  1  2  0  0  3  0\n",
            "[401]  0  0  1  0  0  1  0  0  0  2  0  1  0  0  0  2  2  0 10  1  7  0  3  1  4\n",
            "[426]  4  2  2  1  5  1  0  4  1  1  1  4  0  4  4  1  4  3  7  0  3  1  2  0  0\n",
            "[451]  0  8  2  0  0  6  1  3  2  1  0  1  1  5  2  0  1  5  1  2  0  0  2  1  1\n",
            "[476]  0  0  0  0  0  0  1  0  0  0  3  0  0  0  0  1  2  0  0  1  0  0  4  0  1\n",
            "[501]  2  1  0  0  1  1  0  1  0  0  1  0  1  2  0  0  0  0  0  0  0  0  0  0  1\n",
            "[526]  0  1  3  0  0  1  0  0  0  0  0  0  1  2  0  3  0  5  2  1  1  0  2  1  0\n",
            "[551]  0  0  0  1  2  3  1  2  1  7  0  5  0  1  1  2  0  0  3  0  5  0  0  0  3\n",
            "[576]  4  3  1  1  1  0  3  0  1  1  0  8  0  4  0  0  1  1  0  0  2  2  0  2  0\n",
            "[601]  1  5  0  8  1  1  4  0  0  1  0  1  0  2  0  0  4  3  0  0  0  3  1  0  1\n",
            "[626]  0  0  5  0  3  2  0  0  0  0  2  0  7  0  2  6  0  4  1  1  3  2  0  2  2\n",
            "[651]  1  0  2  2  1  1  1  2  2  0  6  0  1  0  1  5  3  3 10  0  0  1  0  0  3\n",
            "[676]  1  0  2  0  3  1  0  5  2  0  0  1  0  0  0  0  1  1  1  0  0  1  0  0  0\n",
            "[701]  4  1  1  1  0  0  4  0  0  0  0  0  0  2  0  0  0  3  1  0  0  0  2  0  0\n",
            "[726]  4  0  0 10  0  3  2  1  0  0  1  4  0 10  1  1  9  0  1  1  1  0  2  2  1\n",
            "[751]  3  1  2  0  2  2  2  7  2  2\n"
          ]
        }
      ],
      "source": [
        "print(df_cohort_2$num_pos)"
      ]
    },
    {
      "cell_type": "code",
      "execution_count": null,
      "metadata": {
        "id": "kT0eL0fLDYlI",
        "outputId": "4d4063fd-a1d9-404b-826a-82d315bbcdf3"
      },
      "outputs": [
        {
          "data": {
            "image/png": "[encoded data removed]",
            "text/plain": [
              "plot without title"
            ]
          },
          "metadata": {
            "image/png": {
              "height": 420,
              "width": 420
            }
          },
          "output_type": "display_data"
        }
      ],
      "source": [
        "df_num_pos <- df_cohort_2 %>% count(num_pos)\n",
        "\n",
        "ggplot(data = df_num_pos, aes(x = num_pos, y = n))+\n",
        "   geom_bar(stat = \"identity\", fill = \"#3182bd\", color = \"#252525\")+\n",
        "   ggtitle(\"Number of malaria positives\")+\n",
        "   theme"
      ]
    }
  ],
  "metadata": {
    "colab": {
      "provenance": [],
      "toc_visible": true
    },
    "kernelspec": {
      "display_name": "R",
      "language": "R",
      "name": "ir"
    },
    "language_info": {
      "codemirror_mode": "r",
      "file_extension": ".r",
      "mimetype": "text/x-r-source",
      "name": "R",
      "pygments_lexer": "r",
      "version": "4.3.3"
    }
  },
  "nbformat": 4,
  "nbformat_minor": 0
}